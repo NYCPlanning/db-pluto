{
 "cells": [
  {
   "cell_type": "code",
   "execution_count": null,
   "metadata": {},
   "outputs": [
    {
     "evalue": "Error: Jupyter server crashed. Unable to connect. \r\nError code from jupyter: 1",
     "output_type": "error"
    }
   ],
   "source": [
    "# Import packages\n",
    "import pandas as pd\n",
    "from sqlalchemy import create_engine\n",
    "import matplotlib.pyplot as plt\n",
    "import numpy as np\n",
    "import json\n",
    "import os\n",
    "import socket \n",
    "\n",
    "pd.set_option('display.max_rows', 200)\n",
    "pd.set_option('display.max_columns', 200)"
   ]
  },
  {
   "cell_type": "code",
   "execution_count": null,
   "metadata": {},
   "outputs": [
    {
     "evalue": "Error: Jupyter server crashed. Unable to connect. \r\nError code from jupyter: 1",
     "output_type": "error"
    }
   ],
   "source": [
    "%load_ext dotenv\n",
    "%dotenv ../.env"
   ]
  },
  {
   "cell_type": "code",
   "execution_count": null,
   "metadata": {},
   "outputs": [
    {
     "evalue": "Error: Jupyter server crashed. Unable to connect. \r\nError code from jupyter: 1",
     "output_type": "error"
    }
   ],
   "source": [
    "con = create_engine(os.getenv('EDM_DATA'))"
   ]
  },
  {
   "cell_type": "code",
   "execution_count": null,
   "metadata": {},
   "outputs": [
    {
     "evalue": "Error: Jupyter server crashed. Unable to connect. \r\nError code from jupyter: 1",
     "output_type": "error"
    }
   ],
   "source": [
    "# Specify latest PLUTO version\n",
    "pluto = 'dcp_pluto.\"19v2_wo_corrections\"'\n",
    "# Specify previous PLUTO version or the one you want to compare to\n",
    "plutoprev = 'dcp_pluto.\"19v1\"'"
   ]
  },
  {
   "cell_type": "code",
   "execution_count": 50,
   "metadata": {},
   "outputs": [],
   "source": [
    "sql = '''\n",
    "SELECT  sum(UnitsRes::numeric) as UnitsRes,\n",
    "        sum(LotArea::numeric) as LotArea,\n",
    "        sum(BldgArea::numeric) as BldgArea,\n",
    "        sum(ComArea::numeric) as ComArea,\n",
    "        sum(ResArea::numeric) as ResArea,\n",
    "        sum(OfficeArea::numeric) as OfficeArea,\n",
    "        sum(RetailArea::numeric) as RetailArea,\n",
    "        sum(GarageArea::numeric) as GarageArea,\n",
    "        sum(StrgeArea::numeric) as StrgeArea,\n",
    "        sum(FactryArea::numeric) as FactryArea,\n",
    "        sum(OtherArea::numeric) as OtherArea,\n",
    "        sum(AssessLand::numeric) as AssessLand,\n",
    "        sum(AssessTot::numeric) as AssessTot,\n",
    "        sum(ExemptTot::numeric) as ExemptTot,\n",
    "        sum(FIRM07_FLAG::numeric) as FIRM07_FLAG,\n",
    "        sum(PFIRM15_FLAG::numeric) as PFIRM15_FLAG\n",
    "FROM {}\n",
    "'''"
   ]
  },
  {
   "cell_type": "code",
   "execution_count": 51,
   "metadata": {},
   "outputs": [],
   "source": [
    "df = pd.read_sql(sql=sql.format(pluto), con=con)\n",
    "df_prev = pd.read_sql(sql=sql.format(plutoprev), con=con)"
   ]
  },
  {
   "cell_type": "code",
   "execution_count": 52,
   "metadata": {},
   "outputs": [],
   "source": [
    "old = pd.read_csv('https://raw.githubusercontent.com/NYCPlanning/db-pluto-qaqc/master/19v1/19v1-18v2.1-18v1-aggregate_value_comparison.csv', index_col=False)"
   ]
  },
  {
   "cell_type": "code",
   "execution_count": 53,
   "metadata": {},
   "outputs": [],
   "source": [
    "old = old.iloc[1:-1, 1:]"
   ]
  },
  {
   "cell_type": "code",
   "execution_count": 54,
   "metadata": {},
   "outputs": [],
   "source": [
    "old = old.drop(['ExemptLand'], axis=1)"
   ]
  },
  {
   "cell_type": "code",
   "execution_count": 55,
   "metadata": {},
   "outputs": [],
   "source": [
    "old.columns = [i.lower() for i in old.columns]"
   ]
  },
  {
   "cell_type": "code",
   "execution_count": 56,
   "metadata": {},
   "outputs": [],
   "source": [
    "df['version'] = '19v2_beta'\n",
    "df_prev['version'] = '19v1'"
   ]
  },
  {
   "cell_type": "code",
   "execution_count": 57,
   "metadata": {},
   "outputs": [],
   "source": [
    "summary = pd.concat([old, df_prev,df], sort=False)\n",
    "summary.index = summary.version\n",
    "summary_pct = summary.iloc[:, 1:].pct_change()"
   ]
  },
  {
   "cell_type": "code",
   "execution_count": 58,
   "metadata": {},
   "outputs": [
    {
     "data": {
      "text/html": [
       "<div>\n",
       "<style scoped>\n",
       "    .dataframe tbody tr th:only-of-type {\n",
       "        vertical-align: middle;\n",
       "    }\n",
       "\n",
       "    .dataframe tbody tr th {\n",
       "        vertical-align: top;\n",
       "    }\n",
       "\n",
       "    .dataframe thead th {\n",
       "        text-align: right;\n",
       "    }\n",
       "</style>\n",
       "<table border=\"1\" class=\"dataframe\">\n",
       "  <thead>\n",
       "    <tr style=\"text-align: right;\">\n",
       "      <th></th>\n",
       "      <th>version</th>\n",
       "      <th>unitsres</th>\n",
       "      <th>lotarea</th>\n",
       "      <th>bldgarea</th>\n",
       "      <th>comarea</th>\n",
       "      <th>resarea</th>\n",
       "      <th>officearea</th>\n",
       "      <th>retailarea</th>\n",
       "      <th>garagearea</th>\n",
       "      <th>strgearea</th>\n",
       "      <th>factryarea</th>\n",
       "      <th>otherarea</th>\n",
       "      <th>assessland</th>\n",
       "      <th>assesstot</th>\n",
       "      <th>exempttot</th>\n",
       "      <th>firm07_flag</th>\n",
       "      <th>pfirm15_flag</th>\n",
       "    </tr>\n",
       "    <tr>\n",
       "      <th>version</th>\n",
       "      <th></th>\n",
       "      <th></th>\n",
       "      <th></th>\n",
       "      <th></th>\n",
       "      <th></th>\n",
       "      <th></th>\n",
       "      <th></th>\n",
       "      <th></th>\n",
       "      <th></th>\n",
       "      <th></th>\n",
       "      <th></th>\n",
       "      <th></th>\n",
       "      <th></th>\n",
       "      <th></th>\n",
       "      <th></th>\n",
       "      <th></th>\n",
       "      <th></th>\n",
       "    </tr>\n",
       "  </thead>\n",
       "  <tbody>\n",
       "    <tr>\n",
       "      <th>18v2.1</th>\n",
       "      <td>18v2.1</td>\n",
       "      <td>3572157.0</td>\n",
       "      <td>6.813542e+09</td>\n",
       "      <td>5.504286e+09</td>\n",
       "      <td>1.820455e+09</td>\n",
       "      <td>3.477582e+09</td>\n",
       "      <td>654410227.0</td>\n",
       "      <td>276896354.0</td>\n",
       "      <td>120942956.0</td>\n",
       "      <td>100257225.0</td>\n",
       "      <td>116612843.0</td>\n",
       "      <td>524200834.0</td>\n",
       "      <td>9.782664e+10</td>\n",
       "      <td>3.936520e+11</td>\n",
       "      <td>1.446245e+11</td>\n",
       "      <td>34683.0</td>\n",
       "      <td>65688.0</td>\n",
       "    </tr>\n",
       "    <tr>\n",
       "      <th>19v1</th>\n",
       "      <td>19v1</td>\n",
       "      <td>3586812.0</td>\n",
       "      <td>6.834645e+09</td>\n",
       "      <td>5.653032e+09</td>\n",
       "      <td>1.826705e+09</td>\n",
       "      <td>3.488868e+09</td>\n",
       "      <td>658072038.0</td>\n",
       "      <td>276439866.0</td>\n",
       "      <td>121187685.0</td>\n",
       "      <td>99741648.0</td>\n",
       "      <td>116551945.0</td>\n",
       "      <td>527119842.0</td>\n",
       "      <td>1.065292e+11</td>\n",
       "      <td>4.509298e+11</td>\n",
       "      <td>1.507207e+11</td>\n",
       "      <td>34695.0</td>\n",
       "      <td>65712.0</td>\n",
       "    </tr>\n",
       "    <tr>\n",
       "      <th>19v2_beta</th>\n",
       "      <td>19v2_beta</td>\n",
       "      <td>3586812.0</td>\n",
       "      <td>6.953164e+09</td>\n",
       "      <td>5.653044e+09</td>\n",
       "      <td>1.826711e+09</td>\n",
       "      <td>3.488930e+09</td>\n",
       "      <td>658083538.0</td>\n",
       "      <td>276439866.0</td>\n",
       "      <td>121218485.0</td>\n",
       "      <td>99835648.0</td>\n",
       "      <td>116571445.0</td>\n",
       "      <td>526970235.0</td>\n",
       "      <td>1.065292e+11</td>\n",
       "      <td>4.509298e+11</td>\n",
       "      <td>1.507207e+11</td>\n",
       "      <td>34688.0</td>\n",
       "      <td>65706.0</td>\n",
       "    </tr>\n",
       "  </tbody>\n",
       "</table>\n",
       "</div>"
      ],
      "text/plain": [
       "             version   unitsres       lotarea      bldgarea       comarea  \\\n",
       "version                                                                     \n",
       "18v2.1        18v2.1  3572157.0  6.813542e+09  5.504286e+09  1.820455e+09   \n",
       "19v1            19v1  3586812.0  6.834645e+09  5.653032e+09  1.826705e+09   \n",
       "19v2_beta  19v2_beta  3586812.0  6.953164e+09  5.653044e+09  1.826711e+09   \n",
       "\n",
       "                resarea   officearea   retailarea   garagearea    strgearea  \\\n",
       "version                                                                       \n",
       "18v2.1     3.477582e+09  654410227.0  276896354.0  120942956.0  100257225.0   \n",
       "19v1       3.488868e+09  658072038.0  276439866.0  121187685.0   99741648.0   \n",
       "19v2_beta  3.488930e+09  658083538.0  276439866.0  121218485.0   99835648.0   \n",
       "\n",
       "            factryarea    otherarea    assessland     assesstot     exempttot  \\\n",
       "version                                                                         \n",
       "18v2.1     116612843.0  524200834.0  9.782664e+10  3.936520e+11  1.446245e+11   \n",
       "19v1       116551945.0  527119842.0  1.065292e+11  4.509298e+11  1.507207e+11   \n",
       "19v2_beta  116571445.0  526970235.0  1.065292e+11  4.509298e+11  1.507207e+11   \n",
       "\n",
       "           firm07_flag  pfirm15_flag  \n",
       "version                               \n",
       "18v2.1         34683.0       65688.0  \n",
       "19v1           34695.0       65712.0  \n",
       "19v2_beta      34688.0       65706.0  "
      ]
     },
     "execution_count": 58,
     "metadata": {},
     "output_type": "execute_result"
    }
   ],
   "source": [
    "summary"
   ]
  },
  {
   "cell_type": "code",
   "execution_count": 59,
   "metadata": {},
   "outputs": [
    {
     "data": {
      "text/html": [
       "<div>\n",
       "<style scoped>\n",
       "    .dataframe tbody tr th:only-of-type {\n",
       "        vertical-align: middle;\n",
       "    }\n",
       "\n",
       "    .dataframe tbody tr th {\n",
       "        vertical-align: top;\n",
       "    }\n",
       "\n",
       "    .dataframe thead th {\n",
       "        text-align: right;\n",
       "    }\n",
       "</style>\n",
       "<table border=\"1\" class=\"dataframe\">\n",
       "  <thead>\n",
       "    <tr style=\"text-align: right;\">\n",
       "      <th></th>\n",
       "      <th>unitsres</th>\n",
       "      <th>lotarea</th>\n",
       "      <th>bldgarea</th>\n",
       "      <th>comarea</th>\n",
       "      <th>resarea</th>\n",
       "      <th>officearea</th>\n",
       "      <th>retailarea</th>\n",
       "      <th>garagearea</th>\n",
       "      <th>strgearea</th>\n",
       "      <th>factryarea</th>\n",
       "      <th>otherarea</th>\n",
       "      <th>assessland</th>\n",
       "      <th>assesstot</th>\n",
       "      <th>exempttot</th>\n",
       "      <th>firm07_flag</th>\n",
       "      <th>pfirm15_flag</th>\n",
       "    </tr>\n",
       "    <tr>\n",
       "      <th>version</th>\n",
       "      <th></th>\n",
       "      <th></th>\n",
       "      <th></th>\n",
       "      <th></th>\n",
       "      <th></th>\n",
       "      <th></th>\n",
       "      <th></th>\n",
       "      <th></th>\n",
       "      <th></th>\n",
       "      <th></th>\n",
       "      <th></th>\n",
       "      <th></th>\n",
       "      <th></th>\n",
       "      <th></th>\n",
       "      <th></th>\n",
       "      <th></th>\n",
       "    </tr>\n",
       "  </thead>\n",
       "  <tbody>\n",
       "    <tr>\n",
       "      <th>18v2.1</th>\n",
       "      <td>NaN</td>\n",
       "      <td>NaN</td>\n",
       "      <td>NaN</td>\n",
       "      <td>NaN</td>\n",
       "      <td>NaN</td>\n",
       "      <td>NaN</td>\n",
       "      <td>NaN</td>\n",
       "      <td>NaN</td>\n",
       "      <td>NaN</td>\n",
       "      <td>NaN</td>\n",
       "      <td>NaN</td>\n",
       "      <td>NaN</td>\n",
       "      <td>NaN</td>\n",
       "      <td>NaN</td>\n",
       "      <td>NaN</td>\n",
       "      <td>NaN</td>\n",
       "    </tr>\n",
       "    <tr>\n",
       "      <th>19v1</th>\n",
       "      <td>0.004103</td>\n",
       "      <td>0.003097</td>\n",
       "      <td>0.027024</td>\n",
       "      <td>0.003433</td>\n",
       "      <td>0.003245</td>\n",
       "      <td>0.005596</td>\n",
       "      <td>-0.001649</td>\n",
       "      <td>0.002024</td>\n",
       "      <td>-0.005143</td>\n",
       "      <td>-0.000522</td>\n",
       "      <td>0.005568</td>\n",
       "      <td>0.088959</td>\n",
       "      <td>0.145504</td>\n",
       "      <td>0.042152</td>\n",
       "      <td>0.000346</td>\n",
       "      <td>0.000365</td>\n",
       "    </tr>\n",
       "    <tr>\n",
       "      <th>19v2_beta</th>\n",
       "      <td>0.000000</td>\n",
       "      <td>0.017341</td>\n",
       "      <td>0.000002</td>\n",
       "      <td>0.000003</td>\n",
       "      <td>0.000018</td>\n",
       "      <td>0.000017</td>\n",
       "      <td>0.000000</td>\n",
       "      <td>0.000254</td>\n",
       "      <td>0.000942</td>\n",
       "      <td>0.000167</td>\n",
       "      <td>-0.000284</td>\n",
       "      <td>0.000000</td>\n",
       "      <td>0.000000</td>\n",
       "      <td>0.000000</td>\n",
       "      <td>-0.000202</td>\n",
       "      <td>-0.000091</td>\n",
       "    </tr>\n",
       "  </tbody>\n",
       "</table>\n",
       "</div>"
      ],
      "text/plain": [
       "           unitsres   lotarea  bldgarea   comarea   resarea  officearea  \\\n",
       "version                                                                   \n",
       "18v2.1          NaN       NaN       NaN       NaN       NaN         NaN   \n",
       "19v1       0.004103  0.003097  0.027024  0.003433  0.003245    0.005596   \n",
       "19v2_beta  0.000000  0.017341  0.000002  0.000003  0.000018    0.000017   \n",
       "\n",
       "           retailarea  garagearea  strgearea  factryarea  otherarea  \\\n",
       "version                                                               \n",
       "18v2.1            NaN         NaN        NaN         NaN        NaN   \n",
       "19v1        -0.001649    0.002024  -0.005143   -0.000522   0.005568   \n",
       "19v2_beta    0.000000    0.000254   0.000942    0.000167  -0.000284   \n",
       "\n",
       "           assessland  assesstot  exempttot  firm07_flag  pfirm15_flag  \n",
       "version                                                                 \n",
       "18v2.1            NaN        NaN        NaN          NaN           NaN  \n",
       "19v1         0.088959   0.145504   0.042152     0.000346      0.000365  \n",
       "19v2_beta    0.000000   0.000000   0.000000    -0.000202     -0.000091  "
      ]
     },
     "execution_count": 59,
     "metadata": {},
     "output_type": "execute_result"
    }
   ],
   "source": [
    "summary_pct"
   ]
  },
  {
   "cell_type": "code",
   "execution_count": 60,
   "metadata": {},
   "outputs": [
    {
     "data": {
      "image/png": "[encoded data removed]",
      "text/plain": [
       "<Figure size 1080x720 with 1 Axes>"
      ]
     },
     "metadata": {
      "needs_background": "light"
     },
     "output_type": "display_data"
    }
   ],
   "source": [
    "plt.figure(figsize=(15, 10))\n",
    "plt.plot(range(16), summary_pct.iloc[1, :], color = 'blue', label='18v2.1-19v1')\n",
    "plt.plot(range(16), summary_pct.iloc[2, :], color = 'red', label='19v1-19v2_beta')\n",
    "plt.hlines(0, 16, 0) #0 reference line\n",
    "for i in range(16):\n",
    "    plt.vlines(i, min(-summary_pct.iloc[1, :]), max(summary_pct.iloc[1, :]), color = '#e1e9f7', linestyles='dashed')\n",
    "plt.xticks(range(16), summary_pct.columns, rotation=70)\n",
    "plt.title('Aggregated Value Comparison')\n",
    "plt.legend()\n",
    "plt.show()"
   ]
  }
 ],
 "metadata": {
  "kernelspec": {
   "display_name": "Python 3",
   "language": "python",
   "name": "python3"
  },
  "language_info": {
   "codemirror_mode": {
    "name": "ipython",
    "version": 3
   },
   "file_extension": ".py",
   "mimetype": "text/x-python",
   "name": "python",
   "nbconvert_exporter": "python",
   "pygments_lexer": "ipython3",
   "version": "3.7.3"
  }
 },
 "nbformat": 4,
 "nbformat_minor": 4
}