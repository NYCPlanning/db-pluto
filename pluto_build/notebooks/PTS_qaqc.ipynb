{
 "cells": [
  {
   "cell_type": "code",
   "execution_count": 25,
   "metadata": {},
   "outputs": [],
   "source": [
    "import pandas as pd\n",
    "import numpy as np\n",
    "import time\n",
    "import datetime\n",
    "import matplotlib.pyplot as plt\n",
    "from sqlalchemy import create_engine\n",
    "import os\n",
    "\n",
    "pd.set_option('display.max_rows', 200)\n",
    "pd.set_option('display.max_columns', 200)"
   ]
  },
  {
   "cell_type": "code",
   "execution_count": 9,
   "metadata": {},
   "outputs": [
    {
     "name": "stdout",
     "output_type": "stream",
     "text": [
      "The dotenv extension is already loaded. To reload it, use:\n",
      "  %reload_ext dotenv\n"
     ]
    }
   ],
   "source": [
    "%load_ext dotenv\n",
    "%dotenv ../.env"
   ]
  },
  {
   "cell_type": "code",
   "execution_count": 20,
   "metadata": {},
   "outputs": [],
   "source": [
    "con = create_engine(os.getenv('RECIPE_ENGINE'))"
   ]
  },
  {
   "cell_type": "code",
   "execution_count": 11,
   "metadata": {},
   "outputs": [],
   "source": [
    "columns = ['parid','boro', 'block', 'lot',\n",
    "           'street_name', 'housenum_lo', 'housenum_hi', 'aptno', \n",
    "          'zip_code', 'bldg_class', 'ease', 'av_owner', 'land_area', \n",
    "           'gross_sqft', 'residential_area_gross', 'office_area_gross', 'retail_area_gross',\n",
    "          'garage_area', 'storage_area_gross', 'factory_area_gross', 'other_area_gross',\n",
    "          'num_bldgs', 'bld_story', 'coop_apts', 'units', 'lot_frt', 'lot_dep', 'bld_frt', 'bld_dep', \n",
    "           'bld_ext', 'lot_irreg', 'pyactland', 'pyacttot', 'pyactextot', 'yrbuilt', 'yralt1',\n",
    "           'yralt2', 'condo_number', 'appt_boro', 'appt_block', 'appt_lot', 'appt_ease', 'appt_date']"
   ]
  },
  {
   "cell_type": "code",
   "execution_count": 15,
   "metadata": {},
   "outputs": [
    {
     "ename": "NameError",
     "evalue": "name 'ei' is not defined",
     "output_type": "error",
     "traceback": [
      "\u001b[0;31m---------------------------------------------------------------------------\u001b[0m",
      "\u001b[0;31mNameError\u001b[0m                                 Traceback (most recent call last)",
      "\u001b[0;32m<ipython-input-15-a7371f15bf24>\u001b[0m in \u001b[0;36m<module>\u001b[0;34m\u001b[0m\n\u001b[1;32m      1\u001b[0m \u001b[0;32mfor\u001b[0m \u001b[0mi\u001b[0m \u001b[0;32min\u001b[0m \u001b[0mcolumns\u001b[0m\u001b[0;34m:\u001b[0m\u001b[0;34m\u001b[0m\u001b[0;34m\u001b[0m\u001b[0m\n\u001b[0;32m----> 2\u001b[0;31m     \u001b[0mprint\u001b[0m\u001b[0;34m(\u001b[0m\u001b[0;34mf' count(nullif(a.{i} = b.{i}, true)) as {ei},'\u001b[0m\u001b[0;34m)\u001b[0m\u001b[0;34m\u001b[0m\u001b[0;34m\u001b[0m\u001b[0m\n\u001b[0m",
      "\u001b[0;31mNameError\u001b[0m: name 'ei' is not defined"
     ]
    }
   ],
   "source": [
    "for i in columns:\n",
    "    print(f' count(nullif(a.{i} = b.{i}, true)) as {i},')"
   ]
  },
  {
   "cell_type": "code",
   "execution_count": 17,
   "metadata": {},
   "outputs": [],
   "source": [
    "pts_prev = 'pluto_pts.\"2019/04/20\"'\n",
    "pts = 'pluto_pts.\"2019/08/26\"'"
   ]
  },
  {
   "cell_type": "code",
   "execution_count": 22,
   "metadata": {},
   "outputs": [],
   "source": [
    "sql = f'''\n",
    "SELECT\n",
    "     count(*) as total,\n",
    "     count(nullif(a.parid = b.parid, true)) as parid,\n",
    "     count(nullif(a.boro = b.boro, true)) as boro,\n",
    "     count(nullif(a.block = b.block, true)) as block,\n",
    "     count(nullif(a.lot = b.lot, true)) as lot,\n",
    "     count(nullif(a.street_name = b.street_name, true)) as street_name,\n",
    "     count(nullif(a.housenum_lo = b.housenum_lo, true)) as housenum_lo,\n",
    "     count(nullif(a.housenum_hi = b.housenum_hi, true)) as housenum_hi,\n",
    "     count(nullif(a.aptno = b.aptno, true)) as aptno,\n",
    "     count(nullif(a.zip_code = b.zip_code, true)) as zip_code,\n",
    "     count(nullif(a.bldg_class = b.bldg_class, true)) as bldg_class,\n",
    "     count(nullif(a.ease = b.ease, true)) as ease,\n",
    "     count(nullif(a.av_owner = b.av_owner, true)) as av_owner,\n",
    "     count(nullif(a.land_area = b.land_area, true)) as land_area,\n",
    "     count(nullif(a.gross_sqft = b.gross_sqft, true)) as gross_sqft,\n",
    "     count(nullif(a.residential_area_gross = b.residential_area_gross, true)) as residential_area_gross,\n",
    "     count(nullif(a.office_area_gross = b.office_area_gross, true)) as office_area_gross,\n",
    "     count(nullif(a.retail_area_gross = b.retail_area_gross, true)) as retail_area_gross,\n",
    "     count(nullif(a.garage_area = b.garage_area, true)) as garage_area,\n",
    "     count(nullif(a.storage_area_gross = b.storage_area_gross, true)) as storage_area_gross,\n",
    "     count(nullif(a.factory_area_gross = b.factory_area_gross, true)) as factory_area_gross,\n",
    "     count(nullif(a.other_area_gross = b.other_area_gross, true)) as other_area_gross,\n",
    "     count(nullif(a.num_bldgs = b.num_bldgs, true)) as num_bldgs,\n",
    "     count(nullif(a.bld_story = b.bld_story, true)) as bld_story,\n",
    "     count(nullif(a.coop_apts = b.coop_apts, true)) as coop_apts,\n",
    "     count(nullif(a.units = b.units, true)) as units,\n",
    "     count(nullif(a.lot_frt = b.lot_frt, true)) as lot_frt,\n",
    "     count(nullif(a.lot_dep = b.lot_dep, true)) as lot_dep,\n",
    "     count(nullif(a.bld_frt = b.bld_frt, true)) as bld_frt,\n",
    "     count(nullif(a.bld_dep = b.bld_dep, true)) as bld_dep,\n",
    "     count(nullif(a.bld_ext = b.bld_ext, true)) as bld_ext,\n",
    "     count(nullif(a.lot_irreg = b.lot_irreg, true)) as lot_irreg,\n",
    "     count(nullif(a.pyactland = b.pyactland, true)) as pyactland,\n",
    "     count(nullif(a.pyacttot = b.pyacttot, true)) as pyacttot,\n",
    "     count(nullif(a.pyactextot = b.pyactextot, true)) as pyactextot,\n",
    "     count(nullif(a.yrbuilt = b.yrbuilt, true)) as yrbuilt,\n",
    "     count(nullif(a.yralt1 = b.yralt1, true)) as yralt1,\n",
    "     count(nullif(a.yralt2 = b.yralt2, true)) as yralt2,\n",
    "     count(nullif(a.condo_number = b.condo_number, true)) as condo_number,\n",
    "     count(nullif(a.appt_boro = b.appt_boro, true)) as appt_boro,\n",
    "     count(nullif(a.appt_block = b.appt_block, true)) as appt_block,\n",
    "     count(nullif(a.appt_lot = b.appt_lot, true)) as appt_lot,\n",
    "     count(nullif(a.appt_ease = b.appt_ease, true)) as appt_ease,\n",
    "     count(nullif(a.appt_date = b.appt_date, true)) as appt_date\n",
    "FROM {pts} a\n",
    "INNER JOIN {pts_prev} b\n",
    "USING (parid)\n",
    "'''"
   ]
  },
  {
   "cell_type": "code",
   "execution_count": 23,
   "metadata": {},
   "outputs": [
    {
     "name": "stdout",
     "output_type": "stream",
     "text": [
      "CPU times: user 20 ms, sys: 0 ns, total: 20 ms\n",
      "Wall time: 29.7 s\n"
     ]
    }
   ],
   "source": [
    "%%time\n",
    "df = pd.read_sql(sql=sql, con=con)"
   ]
  },
  {
   "cell_type": "code",
   "execution_count": 26,
   "metadata": {},
   "outputs": [
    {
     "data": {
      "text/html": [
       "<div>\n",
       "<style scoped>\n",
       "    .dataframe tbody tr th:only-of-type {\n",
       "        vertical-align: middle;\n",
       "    }\n",
       "\n",
       "    .dataframe tbody tr th {\n",
       "        vertical-align: top;\n",
       "    }\n",
       "\n",
       "    .dataframe thead th {\n",
       "        text-align: right;\n",
       "    }\n",
       "</style>\n",
       "<table border=\"1\" class=\"dataframe\">\n",
       "  <thead>\n",
       "    <tr style=\"text-align: right;\">\n",
       "      <th></th>\n",
       "      <th>total</th>\n",
       "      <th>parid</th>\n",
       "      <th>boro</th>\n",
       "      <th>block</th>\n",
       "      <th>lot</th>\n",
       "      <th>street_name</th>\n",
       "      <th>housenum_lo</th>\n",
       "      <th>housenum_hi</th>\n",
       "      <th>aptno</th>\n",
       "      <th>zip_code</th>\n",
       "      <th>bldg_class</th>\n",
       "      <th>ease</th>\n",
       "      <th>av_owner</th>\n",
       "      <th>land_area</th>\n",
       "      <th>gross_sqft</th>\n",
       "      <th>residential_area_gross</th>\n",
       "      <th>office_area_gross</th>\n",
       "      <th>retail_area_gross</th>\n",
       "      <th>garage_area</th>\n",
       "      <th>storage_area_gross</th>\n",
       "      <th>factory_area_gross</th>\n",
       "      <th>other_area_gross</th>\n",
       "      <th>num_bldgs</th>\n",
       "      <th>bld_story</th>\n",
       "      <th>coop_apts</th>\n",
       "      <th>units</th>\n",
       "      <th>lot_frt</th>\n",
       "      <th>lot_dep</th>\n",
       "      <th>bld_frt</th>\n",
       "      <th>bld_dep</th>\n",
       "      <th>bld_ext</th>\n",
       "      <th>lot_irreg</th>\n",
       "      <th>pyactland</th>\n",
       "      <th>pyacttot</th>\n",
       "      <th>pyactextot</th>\n",
       "      <th>yrbuilt</th>\n",
       "      <th>yralt1</th>\n",
       "      <th>yralt2</th>\n",
       "      <th>condo_number</th>\n",
       "      <th>appt_boro</th>\n",
       "      <th>appt_block</th>\n",
       "      <th>appt_lot</th>\n",
       "      <th>appt_ease</th>\n",
       "      <th>appt_date</th>\n",
       "    </tr>\n",
       "  </thead>\n",
       "  <tbody>\n",
       "    <tr>\n",
       "      <th>0</th>\n",
       "      <td>1120731</td>\n",
       "      <td>0</td>\n",
       "      <td>0</td>\n",
       "      <td>0</td>\n",
       "      <td>0</td>\n",
       "      <td>89</td>\n",
       "      <td>147</td>\n",
       "      <td>1</td>\n",
       "      <td>28</td>\n",
       "      <td>64</td>\n",
       "      <td>511</td>\n",
       "      <td>0</td>\n",
       "      <td>14710</td>\n",
       "      <td>1399</td>\n",
       "      <td>7033</td>\n",
       "      <td>0</td>\n",
       "      <td>0</td>\n",
       "      <td>0</td>\n",
       "      <td>0</td>\n",
       "      <td>0</td>\n",
       "      <td>0</td>\n",
       "      <td>0</td>\n",
       "      <td>3936</td>\n",
       "      <td>3913</td>\n",
       "      <td>349</td>\n",
       "      <td>377</td>\n",
       "      <td>852</td>\n",
       "      <td>536</td>\n",
       "      <td>3012</td>\n",
       "      <td>3748</td>\n",
       "      <td>384</td>\n",
       "      <td>165</td>\n",
       "      <td>988</td>\n",
       "      <td>988</td>\n",
       "      <td>0</td>\n",
       "      <td>2926</td>\n",
       "      <td>3401</td>\n",
       "      <td>655</td>\n",
       "      <td>0</td>\n",
       "      <td>0</td>\n",
       "      <td>0</td>\n",
       "      <td>118</td>\n",
       "      <td>0</td>\n",
       "      <td>148</td>\n",
       "    </tr>\n",
       "  </tbody>\n",
       "</table>\n",
       "</div>"
      ],
      "text/plain": [
       "     total  parid  boro  block  lot  street_name  housenum_lo  housenum_hi  \\\n",
       "0  1120731      0     0      0    0           89          147            1   \n",
       "\n",
       "   aptno  zip_code  bldg_class  ease  av_owner  land_area  gross_sqft  \\\n",
       "0     28        64         511     0     14710       1399        7033   \n",
       "\n",
       "   residential_area_gross  office_area_gross  retail_area_gross  garage_area  \\\n",
       "0                       0                  0                  0            0   \n",
       "\n",
       "   storage_area_gross  factory_area_gross  other_area_gross  num_bldgs  \\\n",
       "0                   0                   0                 0       3936   \n",
       "\n",
       "   bld_story  coop_apts  units  lot_frt  lot_dep  bld_frt  bld_dep  bld_ext  \\\n",
       "0       3913        349    377      852      536     3012     3748      384   \n",
       "\n",
       "   lot_irreg  pyactland  pyacttot  pyactextot  yrbuilt  yralt1  yralt2  \\\n",
       "0        165        988       988           0     2926    3401     655   \n",
       "\n",
       "   condo_number  appt_boro  appt_block  appt_lot  appt_ease  appt_date  \n",
       "0             0          0           0       118          0        148  "
      ]
     },
     "execution_count": 26,
     "metadata": {},
     "output_type": "execute_result"
    }
   ],
   "source": [
    "df"
   ]
  },
  {
   "cell_type": "code",
   "execution_count": null,
   "metadata": {},
   "outputs": [],
   "source": []
  }
 ],
 "metadata": {
  "kernelspec": {
   "display_name": "Python 3",
   "language": "python",
   "name": "python3"
  },
  "language_info": {
   "codemirror_mode": {
    "name": "ipython",
    "version": 3
   },
   "file_extension": ".py",
   "mimetype": "text/x-python",
   "name": "python",
   "nbconvert_exporter": "python",
   "pygments_lexer": "ipython3",
   "version": "3.7.3"
  }
 },
 "nbformat": 4,
 "nbformat_minor": 4
}
