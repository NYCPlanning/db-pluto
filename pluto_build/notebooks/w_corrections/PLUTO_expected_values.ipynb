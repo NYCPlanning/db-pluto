{
 "cells": [
  {
   "cell_type": "code",
   "execution_count": 1,
   "metadata": {},
   "outputs": [],
   "source": [
    "# Import packages\n",
    "import pandas as pd\n",
    "from sqlalchemy import create_engine\n",
    "import json\n",
    "import os\n",
    "\n",
    "pd.set_option('display.max_rows', 200)"
   ]
  },
  {
   "cell_type": "code",
   "execution_count": 2,
   "metadata": {},
   "outputs": [],
   "source": [
    "%load_ext dotenv\n",
    "%dotenv ../../.env"
   ]
  },
  {
   "cell_type": "code",
   "execution_count": 3,
   "metadata": {},
   "outputs": [],
   "source": [
    "con = create_engine(os.getenv('EDM_DATA'))"
   ]
  },
  {
   "cell_type": "code",
   "execution_count": 4,
   "metadata": {},
   "outputs": [],
   "source": [
    "# Build funtion to get the domains associated with a specific field\n",
    "def get_domain(field, domain_path):\n",
    "    with open(domain_path, \"r\") as domain:\n",
    "        domain = json.load(domain)\n",
    "    records = [i for i in domain['fields'] if i['field'] == field]\n",
    "    if len(records) == 0: \n",
    "        print(f'cannot find field: {field} in domain table')\n",
    "    else: \n",
    "        return records[0]['domain']"
   ]
  },
  {
   "cell_type": "code",
   "execution_count": 5,
   "metadata": {},
   "outputs": [
    {
     "name": "stdout",
     "output_type": "stream",
     "text": [
      "{'0': 'Not Available', '1': 'Detached', '2': 'Semi-Attached', '3': 'Attached'}\n"
     ]
    }
   ],
   "source": [
    "# Example\n",
    "proxcode_domain = get_domain('proxcode', 'pluto_domains.json')\n",
    "print(proxcode_domain)"
   ]
  },
  {
   "cell_type": "code",
   "execution_count": 6,
   "metadata": {},
   "outputs": [
    {
     "data": {
      "text/plain": [
       "dict_keys(['0', '1', '2', '3'])"
      ]
     },
     "execution_count": 6,
     "metadata": {},
     "output_type": "execute_result"
    }
   ],
   "source": [
    "# Example\n",
    "proxcode_domain.keys()"
   ]
  },
  {
   "cell_type": "code",
   "execution_count": 7,
   "metadata": {},
   "outputs": [],
   "source": [
    "# Specify latest PLUTO version\n",
    "pluto = 'dcp_pluto.\"19v2_w_corrections\"'\n",
    "# Specify previous PLUTO version or the one you want to compare to\n",
    "plutoprev = 'dcp_pluto.\"19v1\"'"
   ]
  },
  {
   "cell_type": "markdown",
   "metadata": {},
   "source": [
    "### Value check for the thirteen fields with expected domain values"
   ]
  },
  {
   "cell_type": "markdown",
   "metadata": {},
   "source": [
    "##### includes summary statistics of unique value comparisions for the two PLUTO version, and lists of values that do not agree w/ domain list"
   ]
  },
  {
   "cell_type": "markdown",
   "metadata": {},
   "source": [
    "### Zoning districts"
   ]
  },
  {
   "cell_type": "code",
   "execution_count": 8,
   "metadata": {},
   "outputs": [],
   "source": [
    "sql = f'''\n",
    "    WITH newcount as (\n",
    "    WITH zdall as (\n",
    "    SELECT zonedist1 as zonedist FROM {pluto}\n",
    "    UNION ALL\n",
    "    SELECT zonedist2 as zonedist FROM {pluto}\n",
    "    UNION ALL\n",
    "    SELECT zonedist3 as zonedist FROM {pluto}\n",
    "    UNION ALL\n",
    "    SELECT zonedist4 as zonedist FROM {pluto})\n",
    "    SELECT zonedist, COUNT(*) \n",
    "    FROM zdall\n",
    "    GROUP BY zonedist),\n",
    "    prevcount as (\n",
    "    WITH zdall as (\n",
    "    SELECT zonedist1 as zonedist FROM {plutoprev}\n",
    "    UNION ALL\n",
    "    SELECT zonedist2 as zonedist FROM {plutoprev}\n",
    "    UNION ALL\n",
    "    SELECT zonedist3 as zonedist FROM {plutoprev}\n",
    "    UNION ALL\n",
    "    SELECT zonedist4 as zonedist FROM {plutoprev})\n",
    "    SELECT zonedist, COUNT(*) \n",
    "    FROM zdall\n",
    "    GROUP BY zonedist)\n",
    "    SELECT a.zonedist, b.zonedist as zonedistprev, a.count as countnew, b.count as countprev,  a.count - b.count as diff\n",
    "    FROM newcount a\n",
    "    FULL OUTER JOIN prevcount b\n",
    "    ON a.zonedist = b.zonedist\n",
    "    ORDER BY diff DESC;\n",
    "'''"
   ]
  },
  {
   "cell_type": "code",
   "execution_count": 9,
   "metadata": {},
   "outputs": [],
   "source": [
    "df = pd.read_sql(sql=sql, con=con)"
   ]
  },
  {
   "cell_type": "code",
   "execution_count": 10,
   "metadata": {},
   "outputs": [
    {
     "data": {
      "text/html": [
       "<div>\n",
       "<style scoped>\n",
       "    .dataframe tbody tr th:only-of-type {\n",
       "        vertical-align: middle;\n",
       "    }\n",
       "\n",
       "    .dataframe tbody tr th {\n",
       "        vertical-align: top;\n",
       "    }\n",
       "\n",
       "    .dataframe thead th {\n",
       "        text-align: right;\n",
       "    }\n",
       "</style>\n",
       "<table border=\"1\" class=\"dataframe\">\n",
       "  <thead>\n",
       "    <tr style=\"text-align: right;\">\n",
       "      <th></th>\n",
       "      <th>zonedist</th>\n",
       "      <th>zonedistprev</th>\n",
       "      <th>countnew</th>\n",
       "      <th>countprev</th>\n",
       "      <th>diff</th>\n",
       "    </tr>\n",
       "  </thead>\n",
       "  <tbody>\n",
       "    <tr>\n",
       "      <td>0</td>\n",
       "      <td>None</td>\n",
       "      <td>None</td>\n",
       "      <td>NaN</td>\n",
       "      <td>2560881.0</td>\n",
       "      <td>NaN</td>\n",
       "    </tr>\n",
       "    <tr>\n",
       "      <td>1</td>\n",
       "      <td>None</td>\n",
       "      <td>None</td>\n",
       "      <td>2567266.0</td>\n",
       "      <td>NaN</td>\n",
       "      <td>NaN</td>\n",
       "    </tr>\n",
       "    <tr>\n",
       "      <td>2</td>\n",
       "      <td>R2X</td>\n",
       "      <td>R2X</td>\n",
       "      <td>1385.0</td>\n",
       "      <td>1007.0</td>\n",
       "      <td>378.0</td>\n",
       "    </tr>\n",
       "    <tr>\n",
       "      <td>3</td>\n",
       "      <td>R6A</td>\n",
       "      <td>R6A</td>\n",
       "      <td>16168.0</td>\n",
       "      <td>16136.0</td>\n",
       "      <td>32.0</td>\n",
       "    </tr>\n",
       "    <tr>\n",
       "      <td>4</td>\n",
       "      <td>R3-1</td>\n",
       "      <td>R3-1</td>\n",
       "      <td>51487.0</td>\n",
       "      <td>51470.0</td>\n",
       "      <td>17.0</td>\n",
       "    </tr>\n",
       "    <tr>\n",
       "      <td>5</td>\n",
       "      <td>R3X</td>\n",
       "      <td>R3X</td>\n",
       "      <td>51695.0</td>\n",
       "      <td>51678.0</td>\n",
       "      <td>17.0</td>\n",
       "    </tr>\n",
       "    <tr>\n",
       "      <td>6</td>\n",
       "      <td>R3-2</td>\n",
       "      <td>R3-2</td>\n",
       "      <td>63432.0</td>\n",
       "      <td>63415.0</td>\n",
       "      <td>17.0</td>\n",
       "    </tr>\n",
       "    <tr>\n",
       "      <td>7</td>\n",
       "      <td>R4</td>\n",
       "      <td>R4</td>\n",
       "      <td>75988.0</td>\n",
       "      <td>75975.0</td>\n",
       "      <td>13.0</td>\n",
       "    </tr>\n",
       "    <tr>\n",
       "      <td>8</td>\n",
       "      <td>R3A</td>\n",
       "      <td>R3A</td>\n",
       "      <td>54847.0</td>\n",
       "      <td>54837.0</td>\n",
       "      <td>10.0</td>\n",
       "    </tr>\n",
       "    <tr>\n",
       "      <td>9</td>\n",
       "      <td>R4-1</td>\n",
       "      <td>R4-1</td>\n",
       "      <td>50679.0</td>\n",
       "      <td>50669.0</td>\n",
       "      <td>10.0</td>\n",
       "    </tr>\n",
       "    <tr>\n",
       "      <td>10</td>\n",
       "      <td>C1-9A</td>\n",
       "      <td>C1-9A</td>\n",
       "      <td>138.0</td>\n",
       "      <td>134.0</td>\n",
       "      <td>4.0</td>\n",
       "    </tr>\n",
       "    <tr>\n",
       "      <td>11</td>\n",
       "      <td>C3A</td>\n",
       "      <td>C3A</td>\n",
       "      <td>801.0</td>\n",
       "      <td>799.0</td>\n",
       "      <td>2.0</td>\n",
       "    </tr>\n",
       "    <tr>\n",
       "      <td>12</td>\n",
       "      <td>C6-1</td>\n",
       "      <td>C6-1</td>\n",
       "      <td>575.0</td>\n",
       "      <td>573.0</td>\n",
       "      <td>2.0</td>\n",
       "    </tr>\n",
       "    <tr>\n",
       "      <td>13</td>\n",
       "      <td>C5-P</td>\n",
       "      <td>C5-P</td>\n",
       "      <td>84.0</td>\n",
       "      <td>83.0</td>\n",
       "      <td>1.0</td>\n",
       "    </tr>\n",
       "    <tr>\n",
       "      <td>14</td>\n",
       "      <td>R5A</td>\n",
       "      <td>R5A</td>\n",
       "      <td>4240.0</td>\n",
       "      <td>4239.0</td>\n",
       "      <td>1.0</td>\n",
       "    </tr>\n",
       "    <tr>\n",
       "      <td>15</td>\n",
       "      <td>C6-2</td>\n",
       "      <td>C6-2</td>\n",
       "      <td>799.0</td>\n",
       "      <td>798.0</td>\n",
       "      <td>1.0</td>\n",
       "    </tr>\n",
       "    <tr>\n",
       "      <td>16</td>\n",
       "      <td>R1-2</td>\n",
       "      <td>R1-2</td>\n",
       "      <td>14433.0</td>\n",
       "      <td>14432.0</td>\n",
       "      <td>1.0</td>\n",
       "    </tr>\n",
       "    <tr>\n",
       "      <td>17</td>\n",
       "      <td>M1-5/R8A</td>\n",
       "      <td>M1-5/R8A</td>\n",
       "      <td>34.0</td>\n",
       "      <td>33.0</td>\n",
       "      <td>1.0</td>\n",
       "    </tr>\n",
       "    <tr>\n",
       "      <td>18</td>\n",
       "      <td>M1-4/R7X</td>\n",
       "      <td>M1-4/R7X</td>\n",
       "      <td>34.0</td>\n",
       "      <td>33.0</td>\n",
       "      <td>1.0</td>\n",
       "    </tr>\n",
       "    <tr>\n",
       "      <td>19</td>\n",
       "      <td>C8-1</td>\n",
       "      <td>C8-1</td>\n",
       "      <td>2243.0</td>\n",
       "      <td>2242.0</td>\n",
       "      <td>1.0</td>\n",
       "    </tr>\n",
       "    <tr>\n",
       "      <td>20</td>\n",
       "      <td>M2-1</td>\n",
       "      <td>M2-1</td>\n",
       "      <td>1831.0</td>\n",
       "      <td>1830.0</td>\n",
       "      <td>1.0</td>\n",
       "    </tr>\n",
       "    <tr>\n",
       "      <td>127</td>\n",
       "      <td>C6-4X</td>\n",
       "      <td>C6-4X</td>\n",
       "      <td>88.0</td>\n",
       "      <td>89.0</td>\n",
       "      <td>-1.0</td>\n",
       "    </tr>\n",
       "    <tr>\n",
       "      <td>128</td>\n",
       "      <td>C4-6A</td>\n",
       "      <td>C4-6A</td>\n",
       "      <td>220.0</td>\n",
       "      <td>221.0</td>\n",
       "      <td>-1.0</td>\n",
       "    </tr>\n",
       "    <tr>\n",
       "      <td>129</td>\n",
       "      <td>C6-4M</td>\n",
       "      <td>C6-4M</td>\n",
       "      <td>183.0</td>\n",
       "      <td>184.0</td>\n",
       "      <td>-1.0</td>\n",
       "    </tr>\n",
       "    <tr>\n",
       "      <td>130</td>\n",
       "      <td>R7B</td>\n",
       "      <td>R7B</td>\n",
       "      <td>3684.0</td>\n",
       "      <td>3685.0</td>\n",
       "      <td>-1.0</td>\n",
       "    </tr>\n",
       "    <tr>\n",
       "      <td>131</td>\n",
       "      <td>M1-2/R6</td>\n",
       "      <td>M1-2/R6</td>\n",
       "      <td>259.0</td>\n",
       "      <td>260.0</td>\n",
       "      <td>-1.0</td>\n",
       "    </tr>\n",
       "    <tr>\n",
       "      <td>132</td>\n",
       "      <td>C2-8A</td>\n",
       "      <td>C2-8A</td>\n",
       "      <td>125.0</td>\n",
       "      <td>126.0</td>\n",
       "      <td>-1.0</td>\n",
       "    </tr>\n",
       "    <tr>\n",
       "      <td>133</td>\n",
       "      <td>C8-2</td>\n",
       "      <td>C8-2</td>\n",
       "      <td>1043.0</td>\n",
       "      <td>1044.0</td>\n",
       "      <td>-1.0</td>\n",
       "    </tr>\n",
       "    <tr>\n",
       "      <td>134</td>\n",
       "      <td>R7X</td>\n",
       "      <td>R7X</td>\n",
       "      <td>479.0</td>\n",
       "      <td>480.0</td>\n",
       "      <td>-1.0</td>\n",
       "    </tr>\n",
       "    <tr>\n",
       "      <td>135</td>\n",
       "      <td>M1-1D</td>\n",
       "      <td>M1-1D</td>\n",
       "      <td>373.0</td>\n",
       "      <td>374.0</td>\n",
       "      <td>-1.0</td>\n",
       "    </tr>\n",
       "    <tr>\n",
       "      <td>136</td>\n",
       "      <td>M1-4/R6A</td>\n",
       "      <td>M1-4/R6A</td>\n",
       "      <td>219.0</td>\n",
       "      <td>220.0</td>\n",
       "      <td>-1.0</td>\n",
       "    </tr>\n",
       "    <tr>\n",
       "      <td>137</td>\n",
       "      <td>R5D</td>\n",
       "      <td>R5D</td>\n",
       "      <td>5514.0</td>\n",
       "      <td>5515.0</td>\n",
       "      <td>-1.0</td>\n",
       "    </tr>\n",
       "    <tr>\n",
       "      <td>138</td>\n",
       "      <td>R10</td>\n",
       "      <td>R10</td>\n",
       "      <td>1132.0</td>\n",
       "      <td>1133.0</td>\n",
       "      <td>-1.0</td>\n",
       "    </tr>\n",
       "    <tr>\n",
       "      <td>139</td>\n",
       "      <td>R7D</td>\n",
       "      <td>R7D</td>\n",
       "      <td>977.0</td>\n",
       "      <td>979.0</td>\n",
       "      <td>-2.0</td>\n",
       "    </tr>\n",
       "    <tr>\n",
       "      <td>140</td>\n",
       "      <td>C6-2A</td>\n",
       "      <td>C6-2A</td>\n",
       "      <td>1475.0</td>\n",
       "      <td>1477.0</td>\n",
       "      <td>-2.0</td>\n",
       "    </tr>\n",
       "    <tr>\n",
       "      <td>141</td>\n",
       "      <td>C4-3</td>\n",
       "      <td>C4-3</td>\n",
       "      <td>1851.0</td>\n",
       "      <td>1853.0</td>\n",
       "      <td>-2.0</td>\n",
       "    </tr>\n",
       "    <tr>\n",
       "      <td>142</td>\n",
       "      <td>M1-2</td>\n",
       "      <td>M1-2</td>\n",
       "      <td>3422.0</td>\n",
       "      <td>3424.0</td>\n",
       "      <td>-2.0</td>\n",
       "    </tr>\n",
       "    <tr>\n",
       "      <td>143</td>\n",
       "      <td>R10A</td>\n",
       "      <td>R10A</td>\n",
       "      <td>921.0</td>\n",
       "      <td>923.0</td>\n",
       "      <td>-2.0</td>\n",
       "    </tr>\n",
       "    <tr>\n",
       "      <td>144</td>\n",
       "      <td>R5</td>\n",
       "      <td>R5</td>\n",
       "      <td>91409.0</td>\n",
       "      <td>91411.0</td>\n",
       "      <td>-2.0</td>\n",
       "    </tr>\n",
       "    <tr>\n",
       "      <td>145</td>\n",
       "      <td>R1-2A</td>\n",
       "      <td>R1-2A</td>\n",
       "      <td>1587.0</td>\n",
       "      <td>1590.0</td>\n",
       "      <td>-3.0</td>\n",
       "    </tr>\n",
       "    <tr>\n",
       "      <td>146</td>\n",
       "      <td>C5-1</td>\n",
       "      <td>C5-1</td>\n",
       "      <td>325.0</td>\n",
       "      <td>328.0</td>\n",
       "      <td>-3.0</td>\n",
       "    </tr>\n",
       "    <tr>\n",
       "      <td>147</td>\n",
       "      <td>C4-2A</td>\n",
       "      <td>C4-2A</td>\n",
       "      <td>953.0</td>\n",
       "      <td>956.0</td>\n",
       "      <td>-3.0</td>\n",
       "    </tr>\n",
       "    <tr>\n",
       "      <td>148</td>\n",
       "      <td>C1-8X</td>\n",
       "      <td>C1-8X</td>\n",
       "      <td>344.0</td>\n",
       "      <td>347.0</td>\n",
       "      <td>-3.0</td>\n",
       "    </tr>\n",
       "    <tr>\n",
       "      <td>149</td>\n",
       "      <td>C6-4</td>\n",
       "      <td>C6-4</td>\n",
       "      <td>802.0</td>\n",
       "      <td>806.0</td>\n",
       "      <td>-4.0</td>\n",
       "    </tr>\n",
       "    <tr>\n",
       "      <td>150</td>\n",
       "      <td>R8B</td>\n",
       "      <td>R8B</td>\n",
       "      <td>8088.0</td>\n",
       "      <td>8092.0</td>\n",
       "      <td>-4.0</td>\n",
       "    </tr>\n",
       "    <tr>\n",
       "      <td>151</td>\n",
       "      <td>M3-1</td>\n",
       "      <td>M3-1</td>\n",
       "      <td>2551.0</td>\n",
       "      <td>2555.0</td>\n",
       "      <td>-4.0</td>\n",
       "    </tr>\n",
       "    <tr>\n",
       "      <td>152</td>\n",
       "      <td>R7-1</td>\n",
       "      <td>R7-1</td>\n",
       "      <td>14356.0</td>\n",
       "      <td>14361.0</td>\n",
       "      <td>-5.0</td>\n",
       "    </tr>\n",
       "    <tr>\n",
       "      <td>153</td>\n",
       "      <td>R7A</td>\n",
       "      <td>R7A</td>\n",
       "      <td>11604.0</td>\n",
       "      <td>11609.0</td>\n",
       "      <td>-5.0</td>\n",
       "    </tr>\n",
       "    <tr>\n",
       "      <td>154</td>\n",
       "      <td>C1-9</td>\n",
       "      <td>C1-9</td>\n",
       "      <td>995.0</td>\n",
       "      <td>1000.0</td>\n",
       "      <td>-5.0</td>\n",
       "    </tr>\n",
       "    <tr>\n",
       "      <td>155</td>\n",
       "      <td>R8A</td>\n",
       "      <td>R8A</td>\n",
       "      <td>1770.0</td>\n",
       "      <td>1776.0</td>\n",
       "      <td>-6.0</td>\n",
       "    </tr>\n",
       "    <tr>\n",
       "      <td>156</td>\n",
       "      <td>M1-4/R8A</td>\n",
       "      <td>M1-4/R8A</td>\n",
       "      <td>59.0</td>\n",
       "      <td>65.0</td>\n",
       "      <td>-6.0</td>\n",
       "    </tr>\n",
       "    <tr>\n",
       "      <td>157</td>\n",
       "      <td>R6B</td>\n",
       "      <td>R6B</td>\n",
       "      <td>52487.0</td>\n",
       "      <td>52493.0</td>\n",
       "      <td>-6.0</td>\n",
       "    </tr>\n",
       "    <tr>\n",
       "      <td>158</td>\n",
       "      <td>R7-2</td>\n",
       "      <td>R7-2</td>\n",
       "      <td>8078.0</td>\n",
       "      <td>8085.0</td>\n",
       "      <td>-7.0</td>\n",
       "    </tr>\n",
       "    <tr>\n",
       "      <td>159</td>\n",
       "      <td>R5B</td>\n",
       "      <td>R5B</td>\n",
       "      <td>31636.0</td>\n",
       "      <td>31643.0</td>\n",
       "      <td>-7.0</td>\n",
       "    </tr>\n",
       "    <tr>\n",
       "      <td>160</td>\n",
       "      <td>R8</td>\n",
       "      <td>R8</td>\n",
       "      <td>5167.0</td>\n",
       "      <td>5175.0</td>\n",
       "      <td>-8.0</td>\n",
       "    </tr>\n",
       "    <tr>\n",
       "      <td>161</td>\n",
       "      <td>C4-4L</td>\n",
       "      <td>C4-4L</td>\n",
       "      <td>339.0</td>\n",
       "      <td>347.0</td>\n",
       "      <td>-8.0</td>\n",
       "    </tr>\n",
       "    <tr>\n",
       "      <td>162</td>\n",
       "      <td>R6</td>\n",
       "      <td>R6</td>\n",
       "      <td>68922.0</td>\n",
       "      <td>68932.0</td>\n",
       "      <td>-10.0</td>\n",
       "    </tr>\n",
       "    <tr>\n",
       "      <td>163</td>\n",
       "      <td>M1-1</td>\n",
       "      <td>M1-1</td>\n",
       "      <td>13522.0</td>\n",
       "      <td>13545.0</td>\n",
       "      <td>-23.0</td>\n",
       "    </tr>\n",
       "    <tr>\n",
       "      <td>164</td>\n",
       "      <td>R2</td>\n",
       "      <td>R2</td>\n",
       "      <td>40157.0</td>\n",
       "      <td>40532.0</td>\n",
       "      <td>-375.0</td>\n",
       "    </tr>\n",
       "  </tbody>\n",
       "</table>\n",
       "</div>"
      ],
      "text/plain": [
       "     zonedist zonedistprev   countnew  countprev   diff\n",
       "0        None         None        NaN  2560881.0    NaN\n",
       "1        None         None  2567266.0        NaN    NaN\n",
       "2         R2X          R2X     1385.0     1007.0  378.0\n",
       "3         R6A          R6A    16168.0    16136.0   32.0\n",
       "4        R3-1         R3-1    51487.0    51470.0   17.0\n",
       "5         R3X          R3X    51695.0    51678.0   17.0\n",
       "6        R3-2         R3-2    63432.0    63415.0   17.0\n",
       "7          R4           R4    75988.0    75975.0   13.0\n",
       "8         R3A          R3A    54847.0    54837.0   10.0\n",
       "9        R4-1         R4-1    50679.0    50669.0   10.0\n",
       "10      C1-9A        C1-9A      138.0      134.0    4.0\n",
       "11        C3A          C3A      801.0      799.0    2.0\n",
       "12       C6-1         C6-1      575.0      573.0    2.0\n",
       "13       C5-P         C5-P       84.0       83.0    1.0\n",
       "14        R5A          R5A     4240.0     4239.0    1.0\n",
       "15       C6-2         C6-2      799.0      798.0    1.0\n",
       "16       R1-2         R1-2    14433.0    14432.0    1.0\n",
       "17   M1-5/R8A     M1-5/R8A       34.0       33.0    1.0\n",
       "18   M1-4/R7X     M1-4/R7X       34.0       33.0    1.0\n",
       "19       C8-1         C8-1     2243.0     2242.0    1.0\n",
       "20       M2-1         M2-1     1831.0     1830.0    1.0\n",
       "127     C6-4X        C6-4X       88.0       89.0   -1.0\n",
       "128     C4-6A        C4-6A      220.0      221.0   -1.0\n",
       "129     C6-4M        C6-4M      183.0      184.0   -1.0\n",
       "130       R7B          R7B     3684.0     3685.0   -1.0\n",
       "131   M1-2/R6      M1-2/R6      259.0      260.0   -1.0\n",
       "132     C2-8A        C2-8A      125.0      126.0   -1.0\n",
       "133      C8-2         C8-2     1043.0     1044.0   -1.0\n",
       "134       R7X          R7X      479.0      480.0   -1.0\n",
       "135     M1-1D        M1-1D      373.0      374.0   -1.0\n",
       "136  M1-4/R6A     M1-4/R6A      219.0      220.0   -1.0\n",
       "137       R5D          R5D     5514.0     5515.0   -1.0\n",
       "138       R10          R10     1132.0     1133.0   -1.0\n",
       "139       R7D          R7D      977.0      979.0   -2.0\n",
       "140     C6-2A        C6-2A     1475.0     1477.0   -2.0\n",
       "141      C4-3         C4-3     1851.0     1853.0   -2.0\n",
       "142      M1-2         M1-2     3422.0     3424.0   -2.0\n",
       "143      R10A         R10A      921.0      923.0   -2.0\n",
       "144        R5           R5    91409.0    91411.0   -2.0\n",
       "145     R1-2A        R1-2A     1587.0     1590.0   -3.0\n",
       "146      C5-1         C5-1      325.0      328.0   -3.0\n",
       "147     C4-2A        C4-2A      953.0      956.0   -3.0\n",
       "148     C1-8X        C1-8X      344.0      347.0   -3.0\n",
       "149      C6-4         C6-4      802.0      806.0   -4.0\n",
       "150       R8B          R8B     8088.0     8092.0   -4.0\n",
       "151      M3-1         M3-1     2551.0     2555.0   -4.0\n",
       "152      R7-1         R7-1    14356.0    14361.0   -5.0\n",
       "153       R7A          R7A    11604.0    11609.0   -5.0\n",
       "154      C1-9         C1-9      995.0     1000.0   -5.0\n",
       "155       R8A          R8A     1770.0     1776.0   -6.0\n",
       "156  M1-4/R8A     M1-4/R8A       59.0       65.0   -6.0\n",
       "157       R6B          R6B    52487.0    52493.0   -6.0\n",
       "158      R7-2         R7-2     8078.0     8085.0   -7.0\n",
       "159       R5B          R5B    31636.0    31643.0   -7.0\n",
       "160        R8           R8     5167.0     5175.0   -8.0\n",
       "161     C4-4L        C4-4L      339.0      347.0   -8.0\n",
       "162        R6           R6    68922.0    68932.0  -10.0\n",
       "163      M1-1         M1-1    13522.0    13545.0  -23.0\n",
       "164        R2           R2    40157.0    40532.0 -375.0"
      ]
     },
     "execution_count": 10,
     "metadata": {},
     "output_type": "execute_result"
    }
   ],
   "source": [
    "df[df['diff'] != 0]"
   ]
  },
  {
   "cell_type": "markdown",
   "metadata": {},
   "source": [
    "### Commercial overlay"
   ]
  },
  {
   "cell_type": "code",
   "execution_count": 11,
   "metadata": {},
   "outputs": [],
   "source": [
    "sql = f'''\n",
    "    WITH newcount as (\n",
    "    WITH olall as (\n",
    "    SELECT overlay1 as overlay FROM {pluto}\n",
    "    UNION ALL\n",
    "    SELECT overlay2 as overlay FROM {pluto}\n",
    "    )\n",
    "    SELECT overlay, COUNT(*) \n",
    "    FROM olall\n",
    "    GROUP BY overlay),\n",
    "    prevcount as (\n",
    "    WITH olall as (\n",
    "    SELECT overlay1 as overlay FROM {plutoprev}\n",
    "    UNION ALL\n",
    "    SELECT overlay2 as overlay FROM {plutoprev})\n",
    "    SELECT overlay, COUNT(*) \n",
    "    FROM olall\n",
    "    GROUP BY overlay)\n",
    "    SELECT a.overlay, b.overlay as overlayprev, a.count as countnew, b.count as countprev,  a.count - b.count as diff\n",
    "    FROM newcount a\n",
    "    FULL OUTER JOIN prevcount b\n",
    "    ON a.overlay = b.overlay\n",
    "    ORDER BY a.overlay;\n",
    "'''"
   ]
  },
  {
   "cell_type": "code",
   "execution_count": 12,
   "metadata": {},
   "outputs": [],
   "source": [
    "df = pd.read_sql(sql=sql, con=con)"
   ]
  },
  {
   "cell_type": "code",
   "execution_count": 13,
   "metadata": {},
   "outputs": [
    {
     "data": {
      "text/html": [
       "<div>\n",
       "<style scoped>\n",
       "    .dataframe tbody tr th:only-of-type {\n",
       "        vertical-align: middle;\n",
       "    }\n",
       "\n",
       "    .dataframe tbody tr th {\n",
       "        vertical-align: top;\n",
       "    }\n",
       "\n",
       "    .dataframe thead th {\n",
       "        text-align: right;\n",
       "    }\n",
       "</style>\n",
       "<table border=\"1\" class=\"dataframe\">\n",
       "  <thead>\n",
       "    <tr style=\"text-align: right;\">\n",
       "      <th></th>\n",
       "      <th>overlay</th>\n",
       "      <th>overlayprev</th>\n",
       "      <th>countnew</th>\n",
       "      <th>countprev</th>\n",
       "      <th>diff</th>\n",
       "    </tr>\n",
       "  </thead>\n",
       "  <tbody>\n",
       "    <tr>\n",
       "      <td>0</td>\n",
       "      <td>C1-1</td>\n",
       "      <td>C1-1</td>\n",
       "      <td>1590.0</td>\n",
       "      <td>1587.0</td>\n",
       "      <td>3.0</td>\n",
       "    </tr>\n",
       "    <tr>\n",
       "      <td>1</td>\n",
       "      <td>C1-2</td>\n",
       "      <td>C1-2</td>\n",
       "      <td>11031.0</td>\n",
       "      <td>11031.0</td>\n",
       "      <td>0.0</td>\n",
       "    </tr>\n",
       "    <tr>\n",
       "      <td>2</td>\n",
       "      <td>C1-3</td>\n",
       "      <td>C1-3</td>\n",
       "      <td>13805.0</td>\n",
       "      <td>13790.0</td>\n",
       "      <td>15.0</td>\n",
       "    </tr>\n",
       "    <tr>\n",
       "      <td>3</td>\n",
       "      <td>C1-4</td>\n",
       "      <td>C1-4</td>\n",
       "      <td>8093.0</td>\n",
       "      <td>8097.0</td>\n",
       "      <td>-4.0</td>\n",
       "    </tr>\n",
       "    <tr>\n",
       "      <td>4</td>\n",
       "      <td>C1-5</td>\n",
       "      <td>C1-5</td>\n",
       "      <td>2541.0</td>\n",
       "      <td>2547.0</td>\n",
       "      <td>-6.0</td>\n",
       "    </tr>\n",
       "    <tr>\n",
       "      <td>5</td>\n",
       "      <td>C2-1</td>\n",
       "      <td>C2-1</td>\n",
       "      <td>1682.0</td>\n",
       "      <td>1684.0</td>\n",
       "      <td>-2.0</td>\n",
       "    </tr>\n",
       "    <tr>\n",
       "      <td>6</td>\n",
       "      <td>C2-2</td>\n",
       "      <td>C2-2</td>\n",
       "      <td>6024.0</td>\n",
       "      <td>6023.0</td>\n",
       "      <td>1.0</td>\n",
       "    </tr>\n",
       "    <tr>\n",
       "      <td>7</td>\n",
       "      <td>C2-3</td>\n",
       "      <td>C2-3</td>\n",
       "      <td>11946.0</td>\n",
       "      <td>11952.0</td>\n",
       "      <td>-6.0</td>\n",
       "    </tr>\n",
       "    <tr>\n",
       "      <td>8</td>\n",
       "      <td>C2-4</td>\n",
       "      <td>C2-4</td>\n",
       "      <td>16728.0</td>\n",
       "      <td>16727.0</td>\n",
       "      <td>1.0</td>\n",
       "    </tr>\n",
       "    <tr>\n",
       "      <td>9</td>\n",
       "      <td>C2-5</td>\n",
       "      <td>C2-5</td>\n",
       "      <td>1523.0</td>\n",
       "      <td>1523.0</td>\n",
       "      <td>0.0</td>\n",
       "    </tr>\n",
       "    <tr>\n",
       "      <td>10</td>\n",
       "      <td>None</td>\n",
       "      <td>None</td>\n",
       "      <td>NaN</td>\n",
       "      <td>1643957.0</td>\n",
       "      <td>NaN</td>\n",
       "    </tr>\n",
       "    <tr>\n",
       "      <td>11</td>\n",
       "      <td>None</td>\n",
       "      <td>None</td>\n",
       "      <td>1647143.0</td>\n",
       "      <td>NaN</td>\n",
       "      <td>NaN</td>\n",
       "    </tr>\n",
       "  </tbody>\n",
       "</table>\n",
       "</div>"
      ],
      "text/plain": [
       "   overlay overlayprev   countnew  countprev  diff\n",
       "0     C1-1        C1-1     1590.0     1587.0   3.0\n",
       "1     C1-2        C1-2    11031.0    11031.0   0.0\n",
       "2     C1-3        C1-3    13805.0    13790.0  15.0\n",
       "3     C1-4        C1-4     8093.0     8097.0  -4.0\n",
       "4     C1-5        C1-5     2541.0     2547.0  -6.0\n",
       "5     C2-1        C2-1     1682.0     1684.0  -2.0\n",
       "6     C2-2        C2-2     6024.0     6023.0   1.0\n",
       "7     C2-3        C2-3    11946.0    11952.0  -6.0\n",
       "8     C2-4        C2-4    16728.0    16727.0   1.0\n",
       "9     C2-5        C2-5     1523.0     1523.0   0.0\n",
       "10    None        None        NaN  1643957.0   NaN\n",
       "11    None        None  1647143.0        NaN   NaN"
      ]
     },
     "execution_count": 13,
     "metadata": {},
     "output_type": "execute_result"
    }
   ],
   "source": [
    "df"
   ]
  },
  {
   "cell_type": "markdown",
   "metadata": {},
   "source": [
    "### Special purpose district"
   ]
  },
  {
   "cell_type": "code",
   "execution_count": 14,
   "metadata": {},
   "outputs": [],
   "source": [
    "sql = f'''\n",
    "    WITH newcount as (\n",
    "    WITH sdall as (\n",
    "    SELECT spdist1 as spdist FROM {pluto}\n",
    "    UNION ALL\n",
    "    SELECT spdist2 as spdist FROM {pluto}\n",
    "    UNION ALL\n",
    "    SELECT spdist3 as spdist FROM {pluto}\n",
    "    )\n",
    "    SELECT spdist, COUNT(*) \n",
    "    FROM sdall\n",
    "    GROUP BY spdist),\n",
    "    prevcount as (\n",
    "     WITH sdall as (\n",
    "    SELECT spdist1 as spdist FROM {plutoprev}\n",
    "    UNION ALL\n",
    "    SELECT spdist2 as spdist FROM {plutoprev}\n",
    "    UNION ALL\n",
    "    SELECT spdist3 as spdist FROM {plutoprev}\n",
    "    )\n",
    "    SELECT spdist, COUNT(*) \n",
    "    FROM sdall\n",
    "    GROUP BY spdist)\n",
    "    SELECT a.spdist, b.spdist as spdistprev, a.count as countnew, b.count as countprev,  a.count - b.count as diff\n",
    "    FROM newcount a\n",
    "    FULL OUTER JOIN prevcount b\n",
    "    ON a.spdist = b.spdist\n",
    "    ORDER BY diff DESC;\n",
    "'''"
   ]
  },
  {
   "cell_type": "code",
   "execution_count": 15,
   "metadata": {},
   "outputs": [],
   "source": [
    "df = pd.read_sql(sql=sql, con=con)"
   ]
  },
  {
   "cell_type": "code",
   "execution_count": 16,
   "metadata": {},
   "outputs": [
    {
     "data": {
      "text/html": [
       "<div>\n",
       "<style scoped>\n",
       "    .dataframe tbody tr th:only-of-type {\n",
       "        vertical-align: middle;\n",
       "    }\n",
       "\n",
       "    .dataframe tbody tr th {\n",
       "        vertical-align: top;\n",
       "    }\n",
       "\n",
       "    .dataframe thead th {\n",
       "        text-align: right;\n",
       "    }\n",
       "</style>\n",
       "<table border=\"1\" class=\"dataframe\">\n",
       "  <thead>\n",
       "    <tr style=\"text-align: right;\">\n",
       "      <th></th>\n",
       "      <th>spdist</th>\n",
       "      <th>spdistprev</th>\n",
       "      <th>countnew</th>\n",
       "      <th>countprev</th>\n",
       "      <th>diff</th>\n",
       "    </tr>\n",
       "  </thead>\n",
       "  <tbody>\n",
       "    <tr>\n",
       "      <td>0</td>\n",
       "      <td>None</td>\n",
       "      <td>None</td>\n",
       "      <td>2481371.0</td>\n",
       "      <td>NaN</td>\n",
       "      <td>NaN</td>\n",
       "    </tr>\n",
       "    <tr>\n",
       "      <td>1</td>\n",
       "      <td>None</td>\n",
       "      <td>None</td>\n",
       "      <td>NaN</td>\n",
       "      <td>2476583.0</td>\n",
       "      <td>NaN</td>\n",
       "    </tr>\n",
       "    <tr>\n",
       "      <td>2</td>\n",
       "      <td>MX-18</td>\n",
       "      <td>None</td>\n",
       "      <td>1.0</td>\n",
       "      <td>NaN</td>\n",
       "      <td>NaN</td>\n",
       "    </tr>\n",
       "    <tr>\n",
       "      <td>3</td>\n",
       "      <td>SRD</td>\n",
       "      <td>SRD</td>\n",
       "      <td>43902.0</td>\n",
       "      <td>43889.0</td>\n",
       "      <td>13.0</td>\n",
       "    </tr>\n",
       "    <tr>\n",
       "      <td>4</td>\n",
       "      <td>HS</td>\n",
       "      <td>HS</td>\n",
       "      <td>6167.0</td>\n",
       "      <td>6165.0</td>\n",
       "      <td>2.0</td>\n",
       "    </tr>\n",
       "    <tr>\n",
       "      <td>5</td>\n",
       "      <td>HY</td>\n",
       "      <td>HY</td>\n",
       "      <td>290.0</td>\n",
       "      <td>289.0</td>\n",
       "      <td>1.0</td>\n",
       "    </tr>\n",
       "    <tr>\n",
       "      <td>6</td>\n",
       "      <td>SG</td>\n",
       "      <td>SG</td>\n",
       "      <td>228.0</td>\n",
       "      <td>227.0</td>\n",
       "      <td>1.0</td>\n",
       "    </tr>\n",
       "    <tr>\n",
       "      <td>7</td>\n",
       "      <td>MiD</td>\n",
       "      <td>MiD</td>\n",
       "      <td>1486.0</td>\n",
       "      <td>1485.0</td>\n",
       "      <td>1.0</td>\n",
       "    </tr>\n",
       "    <tr>\n",
       "      <td>8</td>\n",
       "      <td>MX-1</td>\n",
       "      <td>MX-1</td>\n",
       "      <td>238.0</td>\n",
       "      <td>237.0</td>\n",
       "      <td>1.0</td>\n",
       "    </tr>\n",
       "    <tr>\n",
       "      <td>71</td>\n",
       "      <td>MX-8</td>\n",
       "      <td>MX-8</td>\n",
       "      <td>1252.0</td>\n",
       "      <td>1253.0</td>\n",
       "      <td>-1.0</td>\n",
       "    </tr>\n",
       "    <tr>\n",
       "      <td>72</td>\n",
       "      <td>HRP</td>\n",
       "      <td>HRP</td>\n",
       "      <td>5.0</td>\n",
       "      <td>6.0</td>\n",
       "      <td>-1.0</td>\n",
       "    </tr>\n",
       "    <tr>\n",
       "      <td>73</td>\n",
       "      <td>EC-3</td>\n",
       "      <td>EC-3</td>\n",
       "      <td>205.0</td>\n",
       "      <td>206.0</td>\n",
       "      <td>-1.0</td>\n",
       "    </tr>\n",
       "    <tr>\n",
       "      <td>74</td>\n",
       "      <td>PI</td>\n",
       "      <td>PI</td>\n",
       "      <td>451.0</td>\n",
       "      <td>452.0</td>\n",
       "      <td>-1.0</td>\n",
       "    </tr>\n",
       "    <tr>\n",
       "      <td>75</td>\n",
       "      <td>MX-16</td>\n",
       "      <td>MX-16</td>\n",
       "      <td>140.0</td>\n",
       "      <td>141.0</td>\n",
       "      <td>-1.0</td>\n",
       "    </tr>\n",
       "    <tr>\n",
       "      <td>76</td>\n",
       "      <td>EC-6</td>\n",
       "      <td>EC-6</td>\n",
       "      <td>409.0</td>\n",
       "      <td>410.0</td>\n",
       "      <td>-1.0</td>\n",
       "    </tr>\n",
       "    <tr>\n",
       "      <td>77</td>\n",
       "      <td>GC</td>\n",
       "      <td>GC</td>\n",
       "      <td>223.0</td>\n",
       "      <td>224.0</td>\n",
       "      <td>-1.0</td>\n",
       "    </tr>\n",
       "    <tr>\n",
       "      <td>78</td>\n",
       "      <td>TMU</td>\n",
       "      <td>TMU</td>\n",
       "      <td>550.0</td>\n",
       "      <td>552.0</td>\n",
       "      <td>-2.0</td>\n",
       "    </tr>\n",
       "    <tr>\n",
       "      <td>79</td>\n",
       "      <td>EC-5</td>\n",
       "      <td>EC-5</td>\n",
       "      <td>557.0</td>\n",
       "      <td>559.0</td>\n",
       "      <td>-2.0</td>\n",
       "    </tr>\n",
       "    <tr>\n",
       "      <td>80</td>\n",
       "      <td>OP</td>\n",
       "      <td>OP</td>\n",
       "      <td>13440.0</td>\n",
       "      <td>13443.0</td>\n",
       "      <td>-3.0</td>\n",
       "    </tr>\n",
       "    <tr>\n",
       "      <td>81</td>\n",
       "      <td>MP</td>\n",
       "      <td>MP</td>\n",
       "      <td>370.0</td>\n",
       "      <td>373.0</td>\n",
       "      <td>-3.0</td>\n",
       "    </tr>\n",
       "    <tr>\n",
       "      <td>82</td>\n",
       "      <td>DB</td>\n",
       "      <td>DB</td>\n",
       "      <td>933.0</td>\n",
       "      <td>936.0</td>\n",
       "      <td>-3.0</td>\n",
       "    </tr>\n",
       "    <tr>\n",
       "      <td>83</td>\n",
       "      <td>MX-16/EC-5</td>\n",
       "      <td>MX-16/EC-5</td>\n",
       "      <td>8.0</td>\n",
       "      <td>14.0</td>\n",
       "      <td>-6.0</td>\n",
       "    </tr>\n",
       "  </tbody>\n",
       "</table>\n",
       "</div>"
      ],
      "text/plain": [
       "        spdist  spdistprev   countnew  countprev  diff\n",
       "0         None        None  2481371.0        NaN   NaN\n",
       "1         None        None        NaN  2476583.0   NaN\n",
       "2        MX-18        None        1.0        NaN   NaN\n",
       "3          SRD         SRD    43902.0    43889.0  13.0\n",
       "4           HS          HS     6167.0     6165.0   2.0\n",
       "5           HY          HY      290.0      289.0   1.0\n",
       "6           SG          SG      228.0      227.0   1.0\n",
       "7          MiD         MiD     1486.0     1485.0   1.0\n",
       "8         MX-1        MX-1      238.0      237.0   1.0\n",
       "71        MX-8        MX-8     1252.0     1253.0  -1.0\n",
       "72         HRP         HRP        5.0        6.0  -1.0\n",
       "73        EC-3        EC-3      205.0      206.0  -1.0\n",
       "74          PI          PI      451.0      452.0  -1.0\n",
       "75       MX-16       MX-16      140.0      141.0  -1.0\n",
       "76        EC-6        EC-6      409.0      410.0  -1.0\n",
       "77          GC          GC      223.0      224.0  -1.0\n",
       "78         TMU         TMU      550.0      552.0  -2.0\n",
       "79        EC-5        EC-5      557.0      559.0  -2.0\n",
       "80          OP          OP    13440.0    13443.0  -3.0\n",
       "81          MP          MP      370.0      373.0  -3.0\n",
       "82          DB          DB      933.0      936.0  -3.0\n",
       "83  MX-16/EC-5  MX-16/EC-5        8.0       14.0  -6.0"
      ]
     },
     "execution_count": 16,
     "metadata": {},
     "output_type": "execute_result"
    }
   ],
   "source": [
    "df[df['diff'] != 0]"
   ]
  },
  {
   "cell_type": "code",
   "execution_count": 17,
   "metadata": {},
   "outputs": [],
   "source": [
    "#Check spdist domain\n",
    "unique_spdist = df.spdist.tolist()\n",
    "spdist_domain = list(get_domain('spdist1', 'pluto_domains.json').keys())"
   ]
  },
  {
   "cell_type": "code",
   "execution_count": 18,
   "metadata": {},
   "outputs": [
    {
     "data": {
      "text/plain": [
       "['MX-3']"
      ]
     },
     "execution_count": 18,
     "metadata": {},
     "output_type": "execute_result"
    }
   ],
   "source": [
    "# in domain not in pluto:\n",
    "[i for i in spdist_domain if i not in unique_spdist]"
   ]
  },
  {
   "cell_type": "code",
   "execution_count": 19,
   "metadata": {},
   "outputs": [
    {
     "data": {
      "text/plain": [
       "[None, None, 'MX-18', 'BSC', 'SW', 'MX-20', 'MX-16/EC-6', 'MX-16/EC-5']"
      ]
     },
     "execution_count": 19,
     "metadata": {},
     "output_type": "execute_result"
    }
   ],
   "source": [
    "# in pluto not in domain:\n",
    "[i for i in unique_spdist if i not in spdist_domain]"
   ]
  },
  {
   "cell_type": "markdown",
   "metadata": {},
   "source": [
    "### Limited height"
   ]
  },
  {
   "cell_type": "code",
   "execution_count": 20,
   "metadata": {},
   "outputs": [],
   "source": [
    "sql = f'''\n",
    "    WITH newcount as (\n",
    "    SELECT ltdheight, count(*)\n",
    "    FROM {pluto}\n",
    "    GROUP BY ltdheight),\n",
    "    prevcount as (\n",
    "    SELECT ltdheight, count(*)\n",
    "    FROM {plutoprev}\n",
    "    GROUP BY ltdheight)\n",
    "    SELECT a.ltdheight, b.ltdheight as ltdheightprev, a.count as countnew, b.count as countprev,  a.count - b.count as diff\n",
    "    FROM newcount a\n",
    "    FULL OUTER JOIN prevcount b\n",
    "    ON a.ltdheight = b.ltdheight\n",
    "    ORDER BY a.ltdheight;\n",
    "'''"
   ]
  },
  {
   "cell_type": "code",
   "execution_count": 21,
   "metadata": {},
   "outputs": [],
   "source": [
    "df = pd.read_sql(sql=sql, con=con)"
   ]
  },
  {
   "cell_type": "code",
   "execution_count": 22,
   "metadata": {},
   "outputs": [
    {
     "data": {
      "text/html": [
       "<div>\n",
       "<style scoped>\n",
       "    .dataframe tbody tr th:only-of-type {\n",
       "        vertical-align: middle;\n",
       "    }\n",
       "\n",
       "    .dataframe tbody tr th {\n",
       "        vertical-align: top;\n",
       "    }\n",
       "\n",
       "    .dataframe thead th {\n",
       "        text-align: right;\n",
       "    }\n",
       "</style>\n",
       "<table border=\"1\" class=\"dataframe\">\n",
       "  <thead>\n",
       "    <tr style=\"text-align: right;\">\n",
       "      <th></th>\n",
       "      <th>ltdheight</th>\n",
       "      <th>ltdheightprev</th>\n",
       "      <th>countnew</th>\n",
       "      <th>countprev</th>\n",
       "      <th>diff</th>\n",
       "    </tr>\n",
       "  </thead>\n",
       "  <tbody>\n",
       "    <tr>\n",
       "      <td>0</td>\n",
       "      <td>LH-1</td>\n",
       "      <td>LH-1</td>\n",
       "      <td>2239.0</td>\n",
       "      <td>2239.0</td>\n",
       "      <td>0.0</td>\n",
       "    </tr>\n",
       "    <tr>\n",
       "      <td>1</td>\n",
       "      <td>LH-1A</td>\n",
       "      <td>LH-1A</td>\n",
       "      <td>797.0</td>\n",
       "      <td>797.0</td>\n",
       "      <td>0.0</td>\n",
       "    </tr>\n",
       "    <tr>\n",
       "      <td>2</td>\n",
       "      <td>None</td>\n",
       "      <td>None</td>\n",
       "      <td>858017.0</td>\n",
       "      <td>NaN</td>\n",
       "      <td>NaN</td>\n",
       "    </tr>\n",
       "    <tr>\n",
       "      <td>3</td>\n",
       "      <td>None</td>\n",
       "      <td>None</td>\n",
       "      <td>NaN</td>\n",
       "      <td>856423.0</td>\n",
       "      <td>NaN</td>\n",
       "    </tr>\n",
       "  </tbody>\n",
       "</table>\n",
       "</div>"
      ],
      "text/plain": [
       "  ltdheight ltdheightprev  countnew  countprev  diff\n",
       "0      LH-1          LH-1    2239.0     2239.0   0.0\n",
       "1     LH-1A         LH-1A     797.0      797.0   0.0\n",
       "2      None          None  858017.0        NaN   NaN\n",
       "3      None          None       NaN   856423.0   NaN"
      ]
     },
     "execution_count": 22,
     "metadata": {},
     "output_type": "execute_result"
    }
   ],
   "source": [
    "df"
   ]
  },
  {
   "cell_type": "code",
   "execution_count": 23,
   "metadata": {},
   "outputs": [],
   "source": [
    "#Check ltdheight domain\n",
    "unique_ltdheight = df.ltdheight.tolist()\n",
    "ltdheight_domain = list(get_domain('ltdheight', 'pluto_domains.json').keys())"
   ]
  },
  {
   "cell_type": "code",
   "execution_count": 24,
   "metadata": {},
   "outputs": [
    {
     "data": {
      "text/plain": [
       "['LH-2', 'LH-3']"
      ]
     },
     "execution_count": 24,
     "metadata": {},
     "output_type": "execute_result"
    }
   ],
   "source": [
    "# in domain not in pluto:\n",
    "[i for i in ltdheight_domain if i not in unique_ltdheight]"
   ]
  },
  {
   "cell_type": "code",
   "execution_count": 25,
   "metadata": {},
   "outputs": [
    {
     "data": {
      "text/plain": [
       "[None, None]"
      ]
     },
     "execution_count": 25,
     "metadata": {},
     "output_type": "execute_result"
    }
   ],
   "source": [
    "# in pluto not in domain:\n",
    "[i for i in unique_ltdheight if i not in ltdheight_domain]"
   ]
  },
  {
   "cell_type": "markdown",
   "metadata": {},
   "source": [
    "### Building class"
   ]
  },
  {
   "cell_type": "code",
   "execution_count": 26,
   "metadata": {},
   "outputs": [],
   "source": [
    "sql = f'''\n",
    "    WITH newcount as (\n",
    "    SELECT bldgclass, count(*)\n",
    "    FROM {pluto}\n",
    "    GROUP BY bldgclass),\n",
    "    prevcount as (\n",
    "    SELECT bldgclass, count(*)\n",
    "    FROM {plutoprev}\n",
    "    GROUP BY bldgclass)\n",
    "    SELECT a.bldgclass, b.bldgclass as bldgclassprev, a.count as countnew, b.count as countprev,  a.count - b.count as diff\n",
    "    FROM newcount a\n",
    "    FULL OUTER JOIN prevcount b\n",
    "    ON a.bldgclass = b.bldgclass\n",
    "    ORDER BY diff DESC;\n",
    "'''"
   ]
  },
  {
   "cell_type": "code",
   "execution_count": 27,
   "metadata": {},
   "outputs": [],
   "source": [
    "df = pd.read_sql(sql=sql, con=con)"
   ]
  },
  {
   "cell_type": "code",
   "execution_count": null,
   "metadata": {},
   "outputs": [],
   "source": [
    "df[df['diff'] != 0]"
   ]
  },
  {
   "cell_type": "code",
   "execution_count": null,
   "metadata": {},
   "outputs": [],
   "source": [
    "#Check bldgclass domain\n",
    "unique_bldgclass = df.bldgclass.tolist()\n",
    "bldgclass_domain = list(get_domain('bldgclass', 'pluto_domains.json').keys())"
   ]
  },
  {
   "cell_type": "code",
   "execution_count": null,
   "metadata": {},
   "outputs": [],
   "source": [
    "# in domain not in pluto:\n",
    "[i for i in bldgclass_domain if i not in unique_bldgclass]"
   ]
  },
  {
   "cell_type": "code",
   "execution_count": null,
   "metadata": {},
   "outputs": [],
   "source": [
    "# in pluto not in domain:\n",
    "[i for i in unique_bldgclass if i not in bldgclass_domain]"
   ]
  },
  {
   "cell_type": "markdown",
   "metadata": {},
   "source": [
    "### Land use"
   ]
  },
  {
   "cell_type": "code",
   "execution_count": null,
   "metadata": {},
   "outputs": [],
   "source": [
    "sql = f'''\n",
    "    WITH newcount as (\n",
    "    SELECT landuse, count(*)\n",
    "    FROM {pluto}\n",
    "    GROUP BY landuse),\n",
    "    prevcount as (\n",
    "    SELECT landuse, count(*)\n",
    "    FROM {plutoprev}\n",
    "    GROUP BY landuse)\n",
    "    SELECT a.landuse, b.landuse as landuseprev, a.count as countnew, b.count as countprev,  a.count - b.count as diff\n",
    "    FROM newcount a\n",
    "    FULL OUTER JOIN prevcount b\n",
    "    ON a.landuse = b.landuse\n",
    "    ORDER BY a.landuse;\n",
    "'''"
   ]
  },
  {
   "cell_type": "code",
   "execution_count": null,
   "metadata": {},
   "outputs": [],
   "source": [
    "df = pd.read_sql(sql=sql, con=con)"
   ]
  },
  {
   "cell_type": "code",
   "execution_count": null,
   "metadata": {},
   "outputs": [],
   "source": [
    "df[df['diff'] != 0]"
   ]
  },
  {
   "cell_type": "code",
   "execution_count": null,
   "metadata": {},
   "outputs": [],
   "source": [
    "#Check landuse domain\n",
    "unique_landuse = df.landuse.tolist()\n",
    "landuse_domain = list(get_domain('landuse', 'pluto_domains.json').keys())"
   ]
  },
  {
   "cell_type": "code",
   "execution_count": null,
   "metadata": {},
   "outputs": [],
   "source": [
    "# in domain not in pluto:\n",
    "[i for i in landuse_domain if i not in unique_landuse]"
   ]
  },
  {
   "cell_type": "code",
   "execution_count": null,
   "metadata": {},
   "outputs": [],
   "source": [
    "# in pluto not in domain:\n",
    "[i for i in unique_landuse if i not in landuse_domain]"
   ]
  },
  {
   "cell_type": "markdown",
   "metadata": {},
   "source": [
    "### Owner type"
   ]
  },
  {
   "cell_type": "code",
   "execution_count": null,
   "metadata": {},
   "outputs": [],
   "source": [
    "sql = f'''\n",
    "    WITH newcount as (\n",
    "    SELECT ownertype, count(*)\n",
    "    FROM {pluto}\n",
    "    GROUP BY ownertype),\n",
    "    prevcount as (\n",
    "    SELECT ownertype, count(*)\n",
    "    FROM {plutoprev}\n",
    "    GROUP BY ownertype)\n",
    "    SELECT a.ownertype, b.ownertype as ownertypeprev, a.count as countnew, b.count as countprev,  a.count - b.count as diff\n",
    "    FROM newcount a\n",
    "    FULL OUTER JOIN prevcount b\n",
    "    ON a.ownertype = b.ownertype\n",
    "    ORDER BY a.ownertype;\n",
    "'''"
   ]
  },
  {
   "cell_type": "code",
   "execution_count": null,
   "metadata": {},
   "outputs": [],
   "source": [
    "df = pd.read_sql(sql=sql, con=con)"
   ]
  },
  {
   "cell_type": "code",
   "execution_count": null,
   "metadata": {},
   "outputs": [],
   "source": [
    "df"
   ]
  },
  {
   "cell_type": "code",
   "execution_count": null,
   "metadata": {},
   "outputs": [],
   "source": [
    "#Check ownertype domain\n",
    "unique_ownertype = df.ownertype.tolist()\n",
    "ownertype_domain = list(get_domain('ownertype', 'pluto_domains.json').keys())"
   ]
  },
  {
   "cell_type": "code",
   "execution_count": null,
   "metadata": {},
   "outputs": [],
   "source": [
    "# in domain not in pluto:\n",
    "[i for i in ownertype_domain if i not in unique_ownertype]"
   ]
  },
  {
   "cell_type": "code",
   "execution_count": null,
   "metadata": {},
   "outputs": [],
   "source": [
    "# in pluto not in domain:\n",
    "[i for i in unique_ownertype if i not in ownertype_domain]"
   ]
  },
  {
   "cell_type": "markdown",
   "metadata": {},
   "source": [
    "### Area source"
   ]
  },
  {
   "cell_type": "code",
   "execution_count": null,
   "metadata": {},
   "outputs": [],
   "source": [
    "sql = f'''\n",
    "    WITH newcount as (\n",
    "    SELECT areasource, count(*)\n",
    "    FROM {pluto}\n",
    "    GROUP BY areasource),\n",
    "    prevcount as (\n",
    "    SELECT areasource, count(*)\n",
    "    FROM {plutoprev}\n",
    "    GROUP BY areasource)\n",
    "    SELECT a.areasource, b.areasource as areasourceprev, a.count as countnew, b.count as countprev, a.count - b.count as diff\n",
    "    FROM newcount a\n",
    "    FULL OUTER JOIN prevcount b\n",
    "    ON a.areasource = b.areasource\n",
    "    ORDER BY a.areasource;\n",
    "'''"
   ]
  },
  {
   "cell_type": "code",
   "execution_count": null,
   "metadata": {},
   "outputs": [],
   "source": [
    "df = pd.read_sql(sql=sql, con=con)"
   ]
  },
  {
   "cell_type": "code",
   "execution_count": null,
   "metadata": {},
   "outputs": [],
   "source": [
    "df"
   ]
  },
  {
   "cell_type": "code",
   "execution_count": null,
   "metadata": {},
   "outputs": [],
   "source": [
    "#Check areasource domain\n",
    "unique_areasource = df.areasource.tolist()\n",
    "areasource_domain = list(get_domain('areasource', 'pluto_domains.json').keys())"
   ]
  },
  {
   "cell_type": "code",
   "execution_count": null,
   "metadata": {},
   "outputs": [],
   "source": [
    "# in domain not in pluto:\n",
    "[i for i in areasource_domain if i not in unique_areasource]"
   ]
  },
  {
   "cell_type": "code",
   "execution_count": null,
   "metadata": {},
   "outputs": [],
   "source": [
    "# in pluto not in domain:\n",
    "[i for i in unique_areasource if i not in areasource_domain]"
   ]
  },
  {
   "cell_type": "markdown",
   "metadata": {},
   "source": [
    "### Extension"
   ]
  },
  {
   "cell_type": "code",
   "execution_count": null,
   "metadata": {},
   "outputs": [],
   "source": [
    "sql = f'''\n",
    "    WITH newcount as (\n",
    "    SELECT ext, count(*)\n",
    "    FROM {pluto}\n",
    "    GROUP BY ext),\n",
    "    prevcount as (\n",
    "    SELECT ext, count(*)\n",
    "    FROM {plutoprev}\n",
    "    GROUP BY ext)\n",
    "    SELECT a.ext, b.ext as extprev, a.count as countnew, b.count as countprev, a.count - b.count as diff\n",
    "    FROM newcount a\n",
    "    FULL OUTER JOIN prevcount b\n",
    "    ON a.ext = b.ext\n",
    "    ORDER BY a.ext;\n",
    "'''"
   ]
  },
  {
   "cell_type": "code",
   "execution_count": null,
   "metadata": {},
   "outputs": [],
   "source": [
    "df = pd.read_sql(sql=sql, con=con)"
   ]
  },
  {
   "cell_type": "code",
   "execution_count": null,
   "metadata": {},
   "outputs": [],
   "source": [
    "df"
   ]
  },
  {
   "cell_type": "code",
   "execution_count": null,
   "metadata": {},
   "outputs": [],
   "source": [
    "#Check extension domain\n",
    "unique_extension = df.ext.tolist()\n",
    "extension_domain = list(get_domain('ext', 'pluto_domains.json').keys())"
   ]
  },
  {
   "cell_type": "code",
   "execution_count": null,
   "metadata": {},
   "outputs": [],
   "source": [
    "# in domain not in pluto:\n",
    "[i for i in extension_domain if i not in unique_extension]"
   ]
  },
  {
   "cell_type": "code",
   "execution_count": null,
   "metadata": {},
   "outputs": [],
   "source": [
    "# in pluto not in domain:\n",
    "[i for i in unique_extension if i not in extension_domain]"
   ]
  },
  {
   "cell_type": "markdown",
   "metadata": {},
   "source": [
    "### Proxy code"
   ]
  },
  {
   "cell_type": "code",
   "execution_count": null,
   "metadata": {},
   "outputs": [],
   "source": [
    "sql = f'''\n",
    "    WITH newcount as (\n",
    "    SELECT proxcode, count(*)\n",
    "    FROM {pluto}\n",
    "    GROUP BY proxcode),\n",
    "    prevcount as (\n",
    "    SELECT proxcode, count(*)\n",
    "    FROM {plutoprev}\n",
    "    GROUP BY proxcode)\n",
    "    SELECT a.proxcode, b.proxcode as proxcodeprev, a.count as countnew, b.count as countprev, a.count - b.count as diff\n",
    "    FROM newcount a\n",
    "    FULL OUTER JOIN prevcount b\n",
    "    ON a.proxcode = b.proxcode\n",
    "    ORDER BY a.proxcode;\n",
    "'''"
   ]
  },
  {
   "cell_type": "code",
   "execution_count": null,
   "metadata": {},
   "outputs": [],
   "source": [
    "df = pd.read_sql(sql=sql, con=con)"
   ]
  },
  {
   "cell_type": "code",
   "execution_count": null,
   "metadata": {},
   "outputs": [],
   "source": [
    "df"
   ]
  },
  {
   "cell_type": "code",
   "execution_count": null,
   "metadata": {},
   "outputs": [],
   "source": [
    "#Check proxcode domain\n",
    "unique_proxcode = df.proxcode.tolist()\n",
    "proxcode_domain = list(get_domain('proxcode', 'pluto_domains.json').keys())"
   ]
  },
  {
   "cell_type": "code",
   "execution_count": null,
   "metadata": {},
   "outputs": [],
   "source": [
    "# in domain not in pluto:\n",
    "[i for i in proxcode_domain if i not in unique_proxcode]"
   ]
  },
  {
   "cell_type": "code",
   "execution_count": null,
   "metadata": {},
   "outputs": [],
   "source": [
    "# in pluto not in domain:\n",
    "[i for i in unique_proxcode if i not in proxcode_domain]"
   ]
  },
  {
   "cell_type": "markdown",
   "metadata": {},
   "source": [
    "### Lot type"
   ]
  },
  {
   "cell_type": "code",
   "execution_count": null,
   "metadata": {},
   "outputs": [],
   "source": [
    "sql = f'''\n",
    "    WITH newcount as (\n",
    "    SELECT lottype, count(*)\n",
    "    FROM {pluto}\n",
    "    GROUP BY lottype),\n",
    "    prevcount as (\n",
    "    SELECT lottype, count(*)\n",
    "    FROM {plutoprev}\n",
    "    GROUP BY lottype)\n",
    "    SELECT a.lottype, b.lottype as lottypeprev, a.count as countnew, b.count as countprev, a.count - b.count as diff\n",
    "    FROM newcount a\n",
    "    FULL OUTER JOIN prevcount b\n",
    "    ON a.lottype = b.lottype\n",
    "    ORDER BY a.lottype;\n",
    "'''"
   ]
  },
  {
   "cell_type": "code",
   "execution_count": null,
   "metadata": {},
   "outputs": [],
   "source": [
    "df = pd.read_sql(sql=sql, con=con)"
   ]
  },
  {
   "cell_type": "code",
   "execution_count": null,
   "metadata": {},
   "outputs": [],
   "source": [
    "df"
   ]
  },
  {
   "cell_type": "code",
   "execution_count": null,
   "metadata": {},
   "outputs": [],
   "source": [
    "#Check lottype domain\n",
    "unique_lottype = df.lottype.tolist()\n",
    "lottype_domain = list(get_domain('lottype', 'pluto_domains.json').keys())"
   ]
  },
  {
   "cell_type": "code",
   "execution_count": null,
   "metadata": {},
   "outputs": [],
   "source": [
    "# in domain not in pluto:\n",
    "[i for i in lottype_domain if i not in unique_lottype]"
   ]
  },
  {
   "cell_type": "code",
   "execution_count": null,
   "metadata": {},
   "outputs": [],
   "source": [
    "# in pluto not in domain:\n",
    "[i for i in unique_lottype if i not in lottype_domain]"
   ]
  },
  {
   "cell_type": "markdown",
   "metadata": {},
   "source": [
    "### Basement code"
   ]
  },
  {
   "cell_type": "code",
   "execution_count": null,
   "metadata": {},
   "outputs": [],
   "source": [
    "sql = f'''\n",
    "    WITH newcount as (\n",
    "    SELECT bsmtcode, count(*)\n",
    "    FROM {pluto}\n",
    "    GROUP BY bsmtcode),\n",
    "    prevcount as (\n",
    "    SELECT bsmtcode, count(*)\n",
    "    FROM {plutoprev}\n",
    "    GROUP BY bsmtcode)\n",
    "    SELECT a.bsmtcode, b.bsmtcode as bsmtcodeprev, a.count as countnew, b.count as countprev, a.count - b.count as diff\n",
    "    FROM newcount a\n",
    "    FULL OUTER JOIN prevcount b\n",
    "    ON a.bsmtcode = b.bsmtcode\n",
    "    ORDER BY a.bsmtcode;\n",
    "'''"
   ]
  },
  {
   "cell_type": "code",
   "execution_count": null,
   "metadata": {},
   "outputs": [],
   "source": [
    "df = pd.read_sql(sql=sql, con=con)"
   ]
  },
  {
   "cell_type": "code",
   "execution_count": null,
   "metadata": {},
   "outputs": [],
   "source": [
    "df"
   ]
  },
  {
   "cell_type": "code",
   "execution_count": null,
   "metadata": {},
   "outputs": [],
   "source": [
    "#Check bsmtcode domain\n",
    "unique_bsmtcode = df.bsmtcode.tolist()\n",
    "bsmtcode_domain = list(get_domain('bsmtcode', 'pluto_domains.json').keys())"
   ]
  },
  {
   "cell_type": "code",
   "execution_count": null,
   "metadata": {},
   "outputs": [],
   "source": [
    "# in domain not in pluto:\n",
    "[i for i in bsmtcode_domain if i not in unique_bsmtcode]"
   ]
  },
  {
   "cell_type": "code",
   "execution_count": null,
   "metadata": {},
   "outputs": [],
   "source": [
    "# in pluto not in domain:\n",
    "[i for i in unique_bsmtcode if i not in bsmtcode_domain]"
   ]
  },
  {
   "cell_type": "markdown",
   "metadata": {},
   "source": [
    "### PLUTO map id"
   ]
  },
  {
   "cell_type": "code",
   "execution_count": null,
   "metadata": {},
   "outputs": [],
   "source": [
    "sql = f'''\n",
    "    WITH newcount as (\n",
    "    SELECT plutomapid, count(*)\n",
    "    FROM {pluto}\n",
    "    GROUP BY plutomapid),\n",
    "    prevcount as (\n",
    "    SELECT plutomapid, count(*)\n",
    "    FROM {plutoprev}\n",
    "    GROUP BY plutomapid)\n",
    "    SELECT a.plutomapid, b.plutomapid as plutomapidprev, a.count as countnew, b.count as countprev, a.count - b.count as diff\n",
    "    FROM newcount a\n",
    "    FULL OUTER JOIN prevcount b\n",
    "    ON a.plutomapid = b.plutomapid\n",
    "    ORDER BY a.plutomapid;\n",
    "'''"
   ]
  },
  {
   "cell_type": "code",
   "execution_count": null,
   "metadata": {},
   "outputs": [],
   "source": [
    "df = pd.read_sql(sql=sql, con=con)"
   ]
  },
  {
   "cell_type": "code",
   "execution_count": null,
   "metadata": {},
   "outputs": [],
   "source": [
    "df"
   ]
  },
  {
   "cell_type": "code",
   "execution_count": null,
   "metadata": {},
   "outputs": [],
   "source": [
    "#Check plutomapid domain\n",
    "unique_plutomapid = df.plutomapid.tolist()\n",
    "plutomapid_domain = list(get_domain('plutomapid', 'pluto_domains.json').keys())"
   ]
  },
  {
   "cell_type": "code",
   "execution_count": null,
   "metadata": {},
   "outputs": [],
   "source": [
    "# in domain not in pluto:\n",
    "[i for i in plutomapid_domain if i not in unique_plutomapid]"
   ]
  },
  {
   "cell_type": "code",
   "execution_count": null,
   "metadata": {},
   "outputs": [],
   "source": [
    "# in pluto not in domain:\n",
    "[i for i in unique_plutomapid if i not in plutomapid_domain]"
   ]
  },
  {
   "cell_type": "markdown",
   "metadata": {},
   "source": [
    "#### done"
   ]
  }
 ],
 "metadata": {
  "kernelspec": {
   "display_name": "Python 3",
   "language": "python",
   "name": "python3"
  },
  "language_info": {
   "codemirror_mode": {
    "name": "ipython",
    "version": 3
   },
   "file_extension": ".py",
   "mimetype": "text/x-python",
   "name": "python",
   "nbconvert_exporter": "python",
   "pygments_lexer": "ipython3",
   "version": "3.7.3"
  }
 },
 "nbformat": 4,
 "nbformat_minor": 4
}
