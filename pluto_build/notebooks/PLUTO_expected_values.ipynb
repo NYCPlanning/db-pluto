{
 "cells": [
  {
   "cell_type": "code",
   "execution_count": 80,
   "metadata": {},
   "outputs": [],
   "source": [
    "# Import packages\n",
    "import pandas as pd\n",
    "from sqlalchemy import create_engine\n",
    "import json\n",
    "import os\n",
    "\n",
    "pd.set_option('display.max_rows', 200)"
   ]
  },
  {
   "cell_type": "code",
   "execution_count": 81,
   "metadata": {},
   "outputs": [
    {
     "name": "stdout",
     "output_type": "stream",
     "text": [
      "The dotenv extension is already loaded. To reload it, use:\n",
      "  %reload_ext dotenv\n"
     ]
    }
   ],
   "source": [
    "%load_ext dotenv\n",
    "%dotenv ../.env"
   ]
  },
  {
   "cell_type": "code",
   "execution_count": 82,
   "metadata": {},
   "outputs": [],
   "source": [
    "con = create_engine(os.getenv('EDM_DATA'))"
   ]
  },
  {
   "cell_type": "code",
   "execution_count": 83,
   "metadata": {},
   "outputs": [],
   "source": [
    "# Build funtion to get the domains associated with a specific field\n",
    "def get_domain(field, domain_path):\n",
    "    with open(domain_path, \"r\") as domain:\n",
    "        domain = json.load(domain)\n",
    "    records = [i for i in domain['fields'] if i['field'] == field]\n",
    "    if len(records) == 0: \n",
    "        print(f'cannot find field: {field} in domain table')\n",
    "    else: \n",
    "        return records[0]['domain']"
   ]
  },
  {
   "cell_type": "code",
   "execution_count": 84,
   "metadata": {},
   "outputs": [
    {
     "name": "stdout",
     "output_type": "stream",
     "text": [
      "{'0': 'Not Available', '1': 'Detached', '2': 'Semi-Attached', '3': 'Attached'}\n"
     ]
    }
   ],
   "source": [
    "# Example\n",
    "proxcode_domain = get_domain('proxcode', 'pluto_domains.json')\n",
    "print(proxcode_domain)"
   ]
  },
  {
   "cell_type": "code",
   "execution_count": 85,
   "metadata": {},
   "outputs": [
    {
     "data": {
      "text/plain": [
       "dict_keys(['0', '1', '2', '3'])"
      ]
     },
     "execution_count": 85,
     "metadata": {},
     "output_type": "execute_result"
    }
   ],
   "source": [
    "# Example\n",
    "proxcode_domain.keys()"
   ]
  },
  {
   "cell_type": "code",
   "execution_count": 86,
   "metadata": {},
   "outputs": [],
   "source": [
    "# Specify latest PLUTO version\n",
    "pluto = 'dcp_pluto.\"19v2_w_corrections\"'\n",
    "# Specify previous PLUTO version or the one you want to compare to\n",
    "plutoprev = 'dcp_pluto.\"19v2_wo_corrections\"'"
   ]
  },
  {
   "cell_type": "markdown",
   "metadata": {},
   "source": [
    "### Value check for the thirteen fields with expected domain values"
   ]
  },
  {
   "cell_type": "markdown",
   "metadata": {},
   "source": [
    "##### includes summary statistics of unique value comparisions for the two PLUTO version, and lists of values that do not agree w/ domain list"
   ]
  },
  {
   "cell_type": "markdown",
   "metadata": {},
   "source": [
    "### Zoning districts"
   ]
  },
  {
   "cell_type": "code",
   "execution_count": 87,
   "metadata": {},
   "outputs": [],
   "source": [
    "sql = f'''\n",
    "    WITH newcount as (\n",
    "    WITH zdall as (\n",
    "    SELECT zonedist1 as zonedist FROM {pluto}\n",
    "    UNION ALL\n",
    "    SELECT zonedist2 as zonedist FROM {pluto}\n",
    "    UNION ALL\n",
    "    SELECT zonedist3 as zonedist FROM {pluto}\n",
    "    UNION ALL\n",
    "    SELECT zonedist4 as zonedist FROM {pluto})\n",
    "    SELECT zonedist, COUNT(*) \n",
    "    FROM zdall\n",
    "    GROUP BY zonedist),\n",
    "    prevcount as (\n",
    "    WITH zdall as (\n",
    "    SELECT zonedist1 as zonedist FROM {plutoprev}\n",
    "    UNION ALL\n",
    "    SELECT zonedist2 as zonedist FROM {plutoprev}\n",
    "    UNION ALL\n",
    "    SELECT zonedist3 as zonedist FROM {plutoprev}\n",
    "    UNION ALL\n",
    "    SELECT zonedist4 as zonedist FROM {plutoprev})\n",
    "    SELECT zonedist, COUNT(*) \n",
    "    FROM zdall\n",
    "    GROUP BY zonedist)\n",
    "    SELECT a.zonedist, b.zonedist as zonedistprev, a.count as countnew, b.count as countprev,  a.count - b.count as diff\n",
    "    FROM newcount a\n",
    "    FULL OUTER JOIN prevcount b\n",
    "    ON a.zonedist = b.zonedist\n",
    "    ORDER BY diff DESC;\n",
    "'''"
   ]
  },
  {
   "cell_type": "code",
   "execution_count": 88,
   "metadata": {},
   "outputs": [],
   "source": [
    "df = pd.read_sql(sql=sql, con=con)"
   ]
  },
  {
   "cell_type": "code",
   "execution_count": 89,
   "metadata": {},
   "outputs": [
    {
     "data": {
      "text/html": [
       "<div>\n",
       "<style scoped>\n",
       "    .dataframe tbody tr th:only-of-type {\n",
       "        vertical-align: middle;\n",
       "    }\n",
       "\n",
       "    .dataframe tbody tr th {\n",
       "        vertical-align: top;\n",
       "    }\n",
       "\n",
       "    .dataframe thead th {\n",
       "        text-align: right;\n",
       "    }\n",
       "</style>\n",
       "<table border=\"1\" class=\"dataframe\">\n",
       "  <thead>\n",
       "    <tr style=\"text-align: right;\">\n",
       "      <th></th>\n",
       "      <th>zonedist</th>\n",
       "      <th>zonedistprev</th>\n",
       "      <th>countnew</th>\n",
       "      <th>countprev</th>\n",
       "      <th>diff</th>\n",
       "    </tr>\n",
       "  </thead>\n",
       "  <tbody>\n",
       "    <tr>\n",
       "      <th>0</th>\n",
       "      <td>None</td>\n",
       "      <td>None</td>\n",
       "      <td>2561097.0</td>\n",
       "      <td>NaN</td>\n",
       "      <td>NaN</td>\n",
       "    </tr>\n",
       "    <tr>\n",
       "      <th>1</th>\n",
       "      <td>None</td>\n",
       "      <td>None</td>\n",
       "      <td>NaN</td>\n",
       "      <td>2561097.0</td>\n",
       "      <td>NaN</td>\n",
       "    </tr>\n",
       "  </tbody>\n",
       "</table>\n",
       "</div>"
      ],
      "text/plain": [
       "  zonedist zonedistprev   countnew  countprev  diff\n",
       "0     None         None  2561097.0        NaN   NaN\n",
       "1     None         None        NaN  2561097.0   NaN"
      ]
     },
     "execution_count": 89,
     "metadata": {},
     "output_type": "execute_result"
    }
   ],
   "source": [
    "df[df['diff'] != 0]"
   ]
  },
  {
   "cell_type": "markdown",
   "metadata": {},
   "source": [
    "### Commercial overlay"
   ]
  },
  {
   "cell_type": "code",
   "execution_count": 90,
   "metadata": {},
   "outputs": [],
   "source": [
    "sql = f'''\n",
    "    WITH newcount as (\n",
    "    WITH olall as (\n",
    "    SELECT overlay1 as overlay FROM {pluto}\n",
    "    UNION ALL\n",
    "    SELECT overlay2 as overlay FROM {pluto}\n",
    "    )\n",
    "    SELECT overlay, COUNT(*) \n",
    "    FROM olall\n",
    "    GROUP BY overlay),\n",
    "    prevcount as (\n",
    "    WITH olall as (\n",
    "    SELECT overlay1 as overlay FROM {plutoprev}\n",
    "    UNION ALL\n",
    "    SELECT overlay2 as overlay FROM {plutoprev})\n",
    "    SELECT overlay, COUNT(*) \n",
    "    FROM olall\n",
    "    GROUP BY overlay)\n",
    "    SELECT a.overlay, b.overlay as overlayprev, a.count as countnew, b.count as countprev,  a.count - b.count as diff\n",
    "    FROM newcount a\n",
    "    FULL OUTER JOIN prevcount b\n",
    "    ON a.overlay = b.overlay\n",
    "    ORDER BY a.overlay;\n",
    "'''"
   ]
  },
  {
   "cell_type": "code",
   "execution_count": 91,
   "metadata": {},
   "outputs": [],
   "source": [
    "df = pd.read_sql(sql=sql, con=con)"
   ]
  },
  {
   "cell_type": "code",
   "execution_count": 92,
   "metadata": {},
   "outputs": [
    {
     "data": {
      "text/html": [
       "<div>\n",
       "<style scoped>\n",
       "    .dataframe tbody tr th:only-of-type {\n",
       "        vertical-align: middle;\n",
       "    }\n",
       "\n",
       "    .dataframe tbody tr th {\n",
       "        vertical-align: top;\n",
       "    }\n",
       "\n",
       "    .dataframe thead th {\n",
       "        text-align: right;\n",
       "    }\n",
       "</style>\n",
       "<table border=\"1\" class=\"dataframe\">\n",
       "  <thead>\n",
       "    <tr style=\"text-align: right;\">\n",
       "      <th></th>\n",
       "      <th>overlay</th>\n",
       "      <th>overlayprev</th>\n",
       "      <th>countnew</th>\n",
       "      <th>countprev</th>\n",
       "      <th>diff</th>\n",
       "    </tr>\n",
       "  </thead>\n",
       "  <tbody>\n",
       "    <tr>\n",
       "      <th>0</th>\n",
       "      <td>C1-1</td>\n",
       "      <td>C1-1</td>\n",
       "      <td>1587.0</td>\n",
       "      <td>1587.0</td>\n",
       "      <td>0.0</td>\n",
       "    </tr>\n",
       "    <tr>\n",
       "      <th>1</th>\n",
       "      <td>C1-2</td>\n",
       "      <td>C1-2</td>\n",
       "      <td>11031.0</td>\n",
       "      <td>11031.0</td>\n",
       "      <td>0.0</td>\n",
       "    </tr>\n",
       "    <tr>\n",
       "      <th>2</th>\n",
       "      <td>C1-3</td>\n",
       "      <td>C1-3</td>\n",
       "      <td>13790.0</td>\n",
       "      <td>13790.0</td>\n",
       "      <td>0.0</td>\n",
       "    </tr>\n",
       "    <tr>\n",
       "      <th>3</th>\n",
       "      <td>C1-4</td>\n",
       "      <td>C1-4</td>\n",
       "      <td>8097.0</td>\n",
       "      <td>8097.0</td>\n",
       "      <td>0.0</td>\n",
       "    </tr>\n",
       "    <tr>\n",
       "      <th>4</th>\n",
       "      <td>C1-5</td>\n",
       "      <td>C1-5</td>\n",
       "      <td>2541.0</td>\n",
       "      <td>2541.0</td>\n",
       "      <td>0.0</td>\n",
       "    </tr>\n",
       "    <tr>\n",
       "      <th>5</th>\n",
       "      <td>C2-1</td>\n",
       "      <td>C2-1</td>\n",
       "      <td>1684.0</td>\n",
       "      <td>1684.0</td>\n",
       "      <td>0.0</td>\n",
       "    </tr>\n",
       "    <tr>\n",
       "      <th>6</th>\n",
       "      <td>C2-2</td>\n",
       "      <td>C2-2</td>\n",
       "      <td>6023.0</td>\n",
       "      <td>6023.0</td>\n",
       "      <td>0.0</td>\n",
       "    </tr>\n",
       "    <tr>\n",
       "      <th>7</th>\n",
       "      <td>C2-3</td>\n",
       "      <td>C2-3</td>\n",
       "      <td>11949.0</td>\n",
       "      <td>11949.0</td>\n",
       "      <td>0.0</td>\n",
       "    </tr>\n",
       "    <tr>\n",
       "      <th>8</th>\n",
       "      <td>C2-4</td>\n",
       "      <td>C2-4</td>\n",
       "      <td>16721.0</td>\n",
       "      <td>16721.0</td>\n",
       "      <td>0.0</td>\n",
       "    </tr>\n",
       "    <tr>\n",
       "      <th>9</th>\n",
       "      <td>C2-5</td>\n",
       "      <td>C2-5</td>\n",
       "      <td>1523.0</td>\n",
       "      <td>1523.0</td>\n",
       "      <td>0.0</td>\n",
       "    </tr>\n",
       "    <tr>\n",
       "      <th>10</th>\n",
       "      <td>None</td>\n",
       "      <td>None</td>\n",
       "      <td>NaN</td>\n",
       "      <td>1644044.0</td>\n",
       "      <td>NaN</td>\n",
       "    </tr>\n",
       "    <tr>\n",
       "      <th>11</th>\n",
       "      <td>None</td>\n",
       "      <td>None</td>\n",
       "      <td>1644044.0</td>\n",
       "      <td>NaN</td>\n",
       "      <td>NaN</td>\n",
       "    </tr>\n",
       "  </tbody>\n",
       "</table>\n",
       "</div>"
      ],
      "text/plain": [
       "   overlay overlayprev   countnew  countprev  diff\n",
       "0     C1-1        C1-1     1587.0     1587.0   0.0\n",
       "1     C1-2        C1-2    11031.0    11031.0   0.0\n",
       "2     C1-3        C1-3    13790.0    13790.0   0.0\n",
       "3     C1-4        C1-4     8097.0     8097.0   0.0\n",
       "4     C1-5        C1-5     2541.0     2541.0   0.0\n",
       "5     C2-1        C2-1     1684.0     1684.0   0.0\n",
       "6     C2-2        C2-2     6023.0     6023.0   0.0\n",
       "7     C2-3        C2-3    11949.0    11949.0   0.0\n",
       "8     C2-4        C2-4    16721.0    16721.0   0.0\n",
       "9     C2-5        C2-5     1523.0     1523.0   0.0\n",
       "10    None        None        NaN  1644044.0   NaN\n",
       "11    None        None  1644044.0        NaN   NaN"
      ]
     },
     "execution_count": 92,
     "metadata": {},
     "output_type": "execute_result"
    }
   ],
   "source": [
    "df"
   ]
  },
  {
   "cell_type": "markdown",
   "metadata": {},
   "source": [
    "### Special purpose district"
   ]
  },
  {
   "cell_type": "code",
   "execution_count": 93,
   "metadata": {},
   "outputs": [],
   "source": [
    "sql = f'''\n",
    "    WITH newcount as (\n",
    "    WITH sdall as (\n",
    "    SELECT spdist1 as spdist FROM {pluto}\n",
    "    UNION ALL\n",
    "    SELECT spdist2 as spdist FROM {pluto}\n",
    "    UNION ALL\n",
    "    SELECT spdist3 as spdist FROM {pluto}\n",
    "    )\n",
    "    SELECT spdist, COUNT(*) \n",
    "    FROM sdall\n",
    "    GROUP BY spdist),\n",
    "    prevcount as (\n",
    "     WITH sdall as (\n",
    "    SELECT spdist1 as spdist FROM {plutoprev}\n",
    "    UNION ALL\n",
    "    SELECT spdist2 as spdist FROM {plutoprev}\n",
    "    UNION ALL\n",
    "    SELECT spdist3 as spdist FROM {plutoprev}\n",
    "    )\n",
    "    SELECT spdist, COUNT(*) \n",
    "    FROM sdall\n",
    "    GROUP BY spdist)\n",
    "    SELECT a.spdist, b.spdist as spdistprev, a.count as countnew, b.count as countprev,  a.count - b.count as diff\n",
    "    FROM newcount a\n",
    "    FULL OUTER JOIN prevcount b\n",
    "    ON a.spdist = b.spdist\n",
    "    ORDER BY diff DESC;\n",
    "'''"
   ]
  },
  {
   "cell_type": "code",
   "execution_count": 94,
   "metadata": {},
   "outputs": [],
   "source": [
    "df = pd.read_sql(sql=sql, con=con)"
   ]
  },
  {
   "cell_type": "code",
   "execution_count": 95,
   "metadata": {},
   "outputs": [
    {
     "data": {
      "text/html": [
       "<div>\n",
       "<style scoped>\n",
       "    .dataframe tbody tr th:only-of-type {\n",
       "        vertical-align: middle;\n",
       "    }\n",
       "\n",
       "    .dataframe tbody tr th {\n",
       "        vertical-align: top;\n",
       "    }\n",
       "\n",
       "    .dataframe thead th {\n",
       "        text-align: right;\n",
       "    }\n",
       "</style>\n",
       "<table border=\"1\" class=\"dataframe\">\n",
       "  <thead>\n",
       "    <tr style=\"text-align: right;\">\n",
       "      <th></th>\n",
       "      <th>spdist</th>\n",
       "      <th>spdistprev</th>\n",
       "      <th>countnew</th>\n",
       "      <th>countprev</th>\n",
       "      <th>diff</th>\n",
       "    </tr>\n",
       "  </thead>\n",
       "  <tbody>\n",
       "    <tr>\n",
       "      <th>0</th>\n",
       "      <td>None</td>\n",
       "      <td>None</td>\n",
       "      <td>2476702.0</td>\n",
       "      <td>NaN</td>\n",
       "      <td>NaN</td>\n",
       "    </tr>\n",
       "    <tr>\n",
       "      <th>1</th>\n",
       "      <td>None</td>\n",
       "      <td>None</td>\n",
       "      <td>NaN</td>\n",
       "      <td>2476702.0</td>\n",
       "      <td>NaN</td>\n",
       "    </tr>\n",
       "  </tbody>\n",
       "</table>\n",
       "</div>"
      ],
      "text/plain": [
       "  spdist spdistprev   countnew  countprev  diff\n",
       "0   None       None  2476702.0        NaN   NaN\n",
       "1   None       None        NaN  2476702.0   NaN"
      ]
     },
     "execution_count": 95,
     "metadata": {},
     "output_type": "execute_result"
    }
   ],
   "source": [
    "df[df['diff'] != 0]"
   ]
  },
  {
   "cell_type": "code",
   "execution_count": 96,
   "metadata": {},
   "outputs": [],
   "source": [
    "#Check spdist domain\n",
    "unique_spdist = df.spdist.tolist()\n",
    "spdist_domain = list(get_domain('spdist1', 'pluto_domains.json').keys())"
   ]
  },
  {
   "cell_type": "code",
   "execution_count": 97,
   "metadata": {},
   "outputs": [
    {
     "data": {
      "text/plain": [
       "['MX-3']"
      ]
     },
     "execution_count": 97,
     "metadata": {},
     "output_type": "execute_result"
    }
   ],
   "source": [
    "# in domain not in pluto:\n",
    "[i for i in spdist_domain if i not in unique_spdist]"
   ]
  },
  {
   "cell_type": "code",
   "execution_count": 98,
   "metadata": {},
   "outputs": [
    {
     "data": {
      "text/plain": [
       "[None, None, 'MX-20', 'MX-16/EC-5', 'BSC', 'SW', 'MX-16/EC-6']"
      ]
     },
     "execution_count": 98,
     "metadata": {},
     "output_type": "execute_result"
    }
   ],
   "source": [
    "# in pluto not in domain:\n",
    "[i for i in unique_spdist if i not in spdist_domain]"
   ]
  },
  {
   "cell_type": "markdown",
   "metadata": {},
   "source": [
    "### Limited height"
   ]
  },
  {
   "cell_type": "code",
   "execution_count": 99,
   "metadata": {},
   "outputs": [],
   "source": [
    "sql = f'''\n",
    "    WITH newcount as (\n",
    "    SELECT ltdheight, count(*)\n",
    "    FROM {pluto}\n",
    "    GROUP BY ltdheight),\n",
    "    prevcount as (\n",
    "    SELECT ltdheight, count(*)\n",
    "    FROM {plutoprev}\n",
    "    GROUP BY ltdheight)\n",
    "    SELECT a.ltdheight, b.ltdheight as ltdheightprev, a.count as countnew, b.count as countprev,  a.count - b.count as diff\n",
    "    FROM newcount a\n",
    "    FULL OUTER JOIN prevcount b\n",
    "    ON a.ltdheight = b.ltdheight\n",
    "    ORDER BY a.ltdheight;\n",
    "'''"
   ]
  },
  {
   "cell_type": "code",
   "execution_count": 100,
   "metadata": {},
   "outputs": [],
   "source": [
    "df = pd.read_sql(sql=sql, con=con)"
   ]
  },
  {
   "cell_type": "code",
   "execution_count": 101,
   "metadata": {},
   "outputs": [
    {
     "data": {
      "text/html": [
       "<div>\n",
       "<style scoped>\n",
       "    .dataframe tbody tr th:only-of-type {\n",
       "        vertical-align: middle;\n",
       "    }\n",
       "\n",
       "    .dataframe tbody tr th {\n",
       "        vertical-align: top;\n",
       "    }\n",
       "\n",
       "    .dataframe thead th {\n",
       "        text-align: right;\n",
       "    }\n",
       "</style>\n",
       "<table border=\"1\" class=\"dataframe\">\n",
       "  <thead>\n",
       "    <tr style=\"text-align: right;\">\n",
       "      <th></th>\n",
       "      <th>ltdheight</th>\n",
       "      <th>ltdheightprev</th>\n",
       "      <th>countnew</th>\n",
       "      <th>countprev</th>\n",
       "      <th>diff</th>\n",
       "    </tr>\n",
       "  </thead>\n",
       "  <tbody>\n",
       "    <tr>\n",
       "      <th>0</th>\n",
       "      <td>LH-1</td>\n",
       "      <td>LH-1</td>\n",
       "      <td>2239.0</td>\n",
       "      <td>2239.0</td>\n",
       "      <td>0.0</td>\n",
       "    </tr>\n",
       "    <tr>\n",
       "      <th>1</th>\n",
       "      <td>LH-1A</td>\n",
       "      <td>LH-1A</td>\n",
       "      <td>797.0</td>\n",
       "      <td>797.0</td>\n",
       "      <td>0.0</td>\n",
       "    </tr>\n",
       "    <tr>\n",
       "      <th>2</th>\n",
       "      <td>None</td>\n",
       "      <td>None</td>\n",
       "      <td>856459.0</td>\n",
       "      <td>NaN</td>\n",
       "      <td>NaN</td>\n",
       "    </tr>\n",
       "    <tr>\n",
       "      <th>3</th>\n",
       "      <td>None</td>\n",
       "      <td>None</td>\n",
       "      <td>NaN</td>\n",
       "      <td>856459.0</td>\n",
       "      <td>NaN</td>\n",
       "    </tr>\n",
       "  </tbody>\n",
       "</table>\n",
       "</div>"
      ],
      "text/plain": [
       "  ltdheight ltdheightprev  countnew  countprev  diff\n",
       "0      LH-1          LH-1    2239.0     2239.0   0.0\n",
       "1     LH-1A         LH-1A     797.0      797.0   0.0\n",
       "2      None          None  856459.0        NaN   NaN\n",
       "3      None          None       NaN   856459.0   NaN"
      ]
     },
     "execution_count": 101,
     "metadata": {},
     "output_type": "execute_result"
    }
   ],
   "source": [
    "df"
   ]
  },
  {
   "cell_type": "code",
   "execution_count": 102,
   "metadata": {},
   "outputs": [],
   "source": [
    "#Check ltdheight domain\n",
    "unique_ltdheight = df.ltdheight.tolist()\n",
    "ltdheight_domain = list(get_domain('ltdheight', 'pluto_domains.json').keys())"
   ]
  },
  {
   "cell_type": "code",
   "execution_count": 103,
   "metadata": {},
   "outputs": [
    {
     "data": {
      "text/plain": [
       "['LH-2', 'LH-3']"
      ]
     },
     "execution_count": 103,
     "metadata": {},
     "output_type": "execute_result"
    }
   ],
   "source": [
    "# in domain not in pluto:\n",
    "[i for i in ltdheight_domain if i not in unique_ltdheight]"
   ]
  },
  {
   "cell_type": "code",
   "execution_count": 104,
   "metadata": {},
   "outputs": [
    {
     "data": {
      "text/plain": [
       "[None, None]"
      ]
     },
     "execution_count": 104,
     "metadata": {},
     "output_type": "execute_result"
    }
   ],
   "source": [
    "# in pluto not in domain:\n",
    "[i for i in unique_ltdheight if i not in ltdheight_domain]"
   ]
  },
  {
   "cell_type": "markdown",
   "metadata": {},
   "source": [
    "### Building class"
   ]
  },
  {
   "cell_type": "code",
   "execution_count": 105,
   "metadata": {},
   "outputs": [],
   "source": [
    "sql = f'''\n",
    "    WITH newcount as (\n",
    "    SELECT bldgclass, count(*)\n",
    "    FROM {pluto}\n",
    "    GROUP BY bldgclass),\n",
    "    prevcount as (\n",
    "    SELECT bldgclass, count(*)\n",
    "    FROM {plutoprev}\n",
    "    GROUP BY bldgclass)\n",
    "    SELECT a.bldgclass, b.bldgclass as bldgclassprev, a.count as countnew, b.count as countprev,  a.count - b.count as diff\n",
    "    FROM newcount a\n",
    "    FULL OUTER JOIN prevcount b\n",
    "    ON a.bldgclass = b.bldgclass\n",
    "    ORDER BY diff DESC;\n",
    "'''"
   ]
  },
  {
   "cell_type": "code",
   "execution_count": 106,
   "metadata": {},
   "outputs": [],
   "source": [
    "df = pd.read_sql(sql=sql, con=con)"
   ]
  },
  {
   "cell_type": "code",
   "execution_count": 107,
   "metadata": {},
   "outputs": [
    {
     "data": {
      "text/html": [
       "<div>\n",
       "<style scoped>\n",
       "    .dataframe tbody tr th:only-of-type {\n",
       "        vertical-align: middle;\n",
       "    }\n",
       "\n",
       "    .dataframe tbody tr th {\n",
       "        vertical-align: top;\n",
       "    }\n",
       "\n",
       "    .dataframe thead th {\n",
       "        text-align: right;\n",
       "    }\n",
       "</style>\n",
       "<table border=\"1\" class=\"dataframe\">\n",
       "  <thead>\n",
       "    <tr style=\"text-align: right;\">\n",
       "      <th></th>\n",
       "      <th>bldgclass</th>\n",
       "      <th>bldgclassprev</th>\n",
       "      <th>countnew</th>\n",
       "      <th>countprev</th>\n",
       "      <th>diff</th>\n",
       "    </tr>\n",
       "  </thead>\n",
       "  <tbody>\n",
       "    <tr>\n",
       "      <th>0</th>\n",
       "      <td>None</td>\n",
       "      <td>None</td>\n",
       "      <td>NaN</td>\n",
       "      <td>509.0</td>\n",
       "      <td>NaN</td>\n",
       "    </tr>\n",
       "    <tr>\n",
       "      <th>1</th>\n",
       "      <td>None</td>\n",
       "      <td>None</td>\n",
       "      <td>509.0</td>\n",
       "      <td>NaN</td>\n",
       "      <td>NaN</td>\n",
       "    </tr>\n",
       "  </tbody>\n",
       "</table>\n",
       "</div>"
      ],
      "text/plain": [
       "  bldgclass bldgclassprev  countnew  countprev  diff\n",
       "0      None          None       NaN      509.0   NaN\n",
       "1      None          None     509.0        NaN   NaN"
      ]
     },
     "execution_count": 107,
     "metadata": {},
     "output_type": "execute_result"
    }
   ],
   "source": [
    "df[df['diff'] != 0]"
   ]
  },
  {
   "cell_type": "code",
   "execution_count": 108,
   "metadata": {},
   "outputs": [],
   "source": [
    "#Check bldgclass domain\n",
    "unique_bldgclass = df.bldgclass.tolist()\n",
    "bldgclass_domain = list(get_domain('bldgclass', 'pluto_domains.json').keys())"
   ]
  },
  {
   "cell_type": "code",
   "execution_count": 109,
   "metadata": {},
   "outputs": [
    {
     "data": {
      "text/plain": [
       "['A',\n",
       " 'B',\n",
       " 'C',\n",
       " 'D',\n",
       " 'E',\n",
       " 'E3',\n",
       " 'E4',\n",
       " 'F',\n",
       " 'G',\n",
       " 'H',\n",
       " 'I',\n",
       " 'J',\n",
       " 'K',\n",
       " 'L',\n",
       " 'M',\n",
       " 'N',\n",
       " 'O',\n",
       " 'P',\n",
       " 'Q',\n",
       " 'R',\n",
       " 'R7',\n",
       " 'S',\n",
       " 'T',\n",
       " 'U',\n",
       " 'U3',\n",
       " 'V',\n",
       " 'W',\n",
       " 'Y',\n",
       " 'Z',\n",
       " 'Z6']"
      ]
     },
     "execution_count": 109,
     "metadata": {},
     "output_type": "execute_result"
    }
   ],
   "source": [
    "# in domain not in pluto:\n",
    "[i for i in bldgclass_domain if i not in unique_bldgclass]"
   ]
  },
  {
   "cell_type": "code",
   "execution_count": 110,
   "metadata": {},
   "outputs": [
    {
     "data": {
      "text/plain": [
       "[None, None]"
      ]
     },
     "execution_count": 110,
     "metadata": {},
     "output_type": "execute_result"
    }
   ],
   "source": [
    "# in pluto not in domain:\n",
    "[i for i in unique_bldgclass if i not in bldgclass_domain]"
   ]
  },
  {
   "cell_type": "markdown",
   "metadata": {},
   "source": [
    "### Land use"
   ]
  },
  {
   "cell_type": "code",
   "execution_count": 111,
   "metadata": {},
   "outputs": [],
   "source": [
    "sql = f'''\n",
    "    WITH newcount as (\n",
    "    SELECT landuse, count(*)\n",
    "    FROM {pluto}\n",
    "    GROUP BY landuse),\n",
    "    prevcount as (\n",
    "    SELECT landuse, count(*)\n",
    "    FROM {plutoprev}\n",
    "    GROUP BY landuse)\n",
    "    SELECT a.landuse, b.landuse as landuseprev, a.count as countnew, b.count as countprev,  a.count - b.count as diff\n",
    "    FROM newcount a\n",
    "    FULL OUTER JOIN prevcount b\n",
    "    ON a.landuse = b.landuse\n",
    "    ORDER BY a.landuse;\n",
    "'''"
   ]
  },
  {
   "cell_type": "code",
   "execution_count": 112,
   "metadata": {},
   "outputs": [],
   "source": [
    "df = pd.read_sql(sql=sql, con=con)"
   ]
  },
  {
   "cell_type": "code",
   "execution_count": 113,
   "metadata": {},
   "outputs": [
    {
     "data": {
      "text/html": [
       "<div>\n",
       "<style scoped>\n",
       "    .dataframe tbody tr th:only-of-type {\n",
       "        vertical-align: middle;\n",
       "    }\n",
       "\n",
       "    .dataframe tbody tr th {\n",
       "        vertical-align: top;\n",
       "    }\n",
       "\n",
       "    .dataframe thead th {\n",
       "        text-align: right;\n",
       "    }\n",
       "</style>\n",
       "<table border=\"1\" class=\"dataframe\">\n",
       "  <thead>\n",
       "    <tr style=\"text-align: right;\">\n",
       "      <th></th>\n",
       "      <th>landuse</th>\n",
       "      <th>landuseprev</th>\n",
       "      <th>countnew</th>\n",
       "      <th>countprev</th>\n",
       "      <th>diff</th>\n",
       "    </tr>\n",
       "  </thead>\n",
       "  <tbody>\n",
       "    <tr>\n",
       "      <th>11</th>\n",
       "      <td>None</td>\n",
       "      <td>None</td>\n",
       "      <td>3018.0</td>\n",
       "      <td>NaN</td>\n",
       "      <td>NaN</td>\n",
       "    </tr>\n",
       "    <tr>\n",
       "      <th>12</th>\n",
       "      <td>None</td>\n",
       "      <td>None</td>\n",
       "      <td>NaN</td>\n",
       "      <td>3018.0</td>\n",
       "      <td>NaN</td>\n",
       "    </tr>\n",
       "  </tbody>\n",
       "</table>\n",
       "</div>"
      ],
      "text/plain": [
       "   landuse landuseprev  countnew  countprev  diff\n",
       "11    None        None    3018.0        NaN   NaN\n",
       "12    None        None       NaN     3018.0   NaN"
      ]
     },
     "execution_count": 113,
     "metadata": {},
     "output_type": "execute_result"
    }
   ],
   "source": [
    "df[df['diff'] != 0]"
   ]
  },
  {
   "cell_type": "code",
   "execution_count": 114,
   "metadata": {},
   "outputs": [],
   "source": [
    "#Check landuse domain\n",
    "unique_landuse = df.landuse.tolist()\n",
    "landuse_domain = list(get_domain('landuse', 'pluto_domains.json').keys())"
   ]
  },
  {
   "cell_type": "code",
   "execution_count": 115,
   "metadata": {},
   "outputs": [
    {
     "data": {
      "text/plain": [
       "[]"
      ]
     },
     "execution_count": 115,
     "metadata": {},
     "output_type": "execute_result"
    }
   ],
   "source": [
    "# in domain not in pluto:\n",
    "[i for i in landuse_domain if i not in unique_landuse]"
   ]
  },
  {
   "cell_type": "code",
   "execution_count": 116,
   "metadata": {},
   "outputs": [
    {
     "data": {
      "text/plain": [
       "[None, None]"
      ]
     },
     "execution_count": 116,
     "metadata": {},
     "output_type": "execute_result"
    }
   ],
   "source": [
    "# in pluto not in domain:\n",
    "[i for i in unique_landuse if i not in landuse_domain]"
   ]
  },
  {
   "cell_type": "markdown",
   "metadata": {},
   "source": [
    "### Owner type"
   ]
  },
  {
   "cell_type": "code",
   "execution_count": 117,
   "metadata": {},
   "outputs": [],
   "source": [
    "sql = f'''\n",
    "    WITH newcount as (\n",
    "    SELECT ownertype, count(*)\n",
    "    FROM {pluto}\n",
    "    GROUP BY ownertype),\n",
    "    prevcount as (\n",
    "    SELECT ownertype, count(*)\n",
    "    FROM {plutoprev}\n",
    "    GROUP BY ownertype)\n",
    "    SELECT a.ownertype, b.ownertype as ownertypeprev, a.count as countnew, b.count as countprev,  a.count - b.count as diff\n",
    "    FROM newcount a\n",
    "    FULL OUTER JOIN prevcount b\n",
    "    ON a.ownertype = b.ownertype\n",
    "    ORDER BY a.ownertype;\n",
    "'''"
   ]
  },
  {
   "cell_type": "code",
   "execution_count": 118,
   "metadata": {},
   "outputs": [],
   "source": [
    "df = pd.read_sql(sql=sql, con=con)"
   ]
  },
  {
   "cell_type": "code",
   "execution_count": 119,
   "metadata": {},
   "outputs": [
    {
     "data": {
      "text/html": [
       "<div>\n",
       "<style scoped>\n",
       "    .dataframe tbody tr th:only-of-type {\n",
       "        vertical-align: middle;\n",
       "    }\n",
       "\n",
       "    .dataframe tbody tr th {\n",
       "        vertical-align: top;\n",
       "    }\n",
       "\n",
       "    .dataframe thead th {\n",
       "        text-align: right;\n",
       "    }\n",
       "</style>\n",
       "<table border=\"1\" class=\"dataframe\">\n",
       "  <thead>\n",
       "    <tr style=\"text-align: right;\">\n",
       "      <th></th>\n",
       "      <th>ownertype</th>\n",
       "      <th>ownertypeprev</th>\n",
       "      <th>countnew</th>\n",
       "      <th>countprev</th>\n",
       "      <th>diff</th>\n",
       "    </tr>\n",
       "  </thead>\n",
       "  <tbody>\n",
       "    <tr>\n",
       "      <th>0</th>\n",
       "      <td>C</td>\n",
       "      <td>C</td>\n",
       "      <td>11654.0</td>\n",
       "      <td>11654.0</td>\n",
       "      <td>0.0</td>\n",
       "    </tr>\n",
       "    <tr>\n",
       "      <th>1</th>\n",
       "      <td>M</td>\n",
       "      <td>M</td>\n",
       "      <td>80.0</td>\n",
       "      <td>80.0</td>\n",
       "      <td>0.0</td>\n",
       "    </tr>\n",
       "    <tr>\n",
       "      <th>2</th>\n",
       "      <td>O</td>\n",
       "      <td>O</td>\n",
       "      <td>1373.0</td>\n",
       "      <td>1373.0</td>\n",
       "      <td>0.0</td>\n",
       "    </tr>\n",
       "    <tr>\n",
       "      <th>3</th>\n",
       "      <td>P</td>\n",
       "      <td>P</td>\n",
       "      <td>522.0</td>\n",
       "      <td>522.0</td>\n",
       "      <td>0.0</td>\n",
       "    </tr>\n",
       "    <tr>\n",
       "      <th>4</th>\n",
       "      <td>X</td>\n",
       "      <td>X</td>\n",
       "      <td>17414.0</td>\n",
       "      <td>17414.0</td>\n",
       "      <td>0.0</td>\n",
       "    </tr>\n",
       "    <tr>\n",
       "      <th>5</th>\n",
       "      <td>None</td>\n",
       "      <td>None</td>\n",
       "      <td>828452.0</td>\n",
       "      <td>NaN</td>\n",
       "      <td>NaN</td>\n",
       "    </tr>\n",
       "    <tr>\n",
       "      <th>6</th>\n",
       "      <td>None</td>\n",
       "      <td>None</td>\n",
       "      <td>NaN</td>\n",
       "      <td>828452.0</td>\n",
       "      <td>NaN</td>\n",
       "    </tr>\n",
       "  </tbody>\n",
       "</table>\n",
       "</div>"
      ],
      "text/plain": [
       "  ownertype ownertypeprev  countnew  countprev  diff\n",
       "0         C             C   11654.0    11654.0   0.0\n",
       "1         M             M      80.0       80.0   0.0\n",
       "2         O             O    1373.0     1373.0   0.0\n",
       "3         P             P     522.0      522.0   0.0\n",
       "4         X             X   17414.0    17414.0   0.0\n",
       "5      None          None  828452.0        NaN   NaN\n",
       "6      None          None       NaN   828452.0   NaN"
      ]
     },
     "execution_count": 119,
     "metadata": {},
     "output_type": "execute_result"
    }
   ],
   "source": [
    "df"
   ]
  },
  {
   "cell_type": "code",
   "execution_count": 120,
   "metadata": {},
   "outputs": [],
   "source": [
    "#Check ownertype domain\n",
    "unique_ownertype = df.ownertype.tolist()\n",
    "ownertype_domain = list(get_domain('ownertype', 'pluto_domains.json').keys())"
   ]
  },
  {
   "cell_type": "code",
   "execution_count": 121,
   "metadata": {},
   "outputs": [
    {
     "data": {
      "text/plain": [
       "['NaN']"
      ]
     },
     "execution_count": 121,
     "metadata": {},
     "output_type": "execute_result"
    }
   ],
   "source": [
    "# in domain not in pluto:\n",
    "[i for i in ownertype_domain if i not in unique_ownertype]"
   ]
  },
  {
   "cell_type": "code",
   "execution_count": 122,
   "metadata": {},
   "outputs": [
    {
     "data": {
      "text/plain": [
       "[None, None]"
      ]
     },
     "execution_count": 122,
     "metadata": {},
     "output_type": "execute_result"
    }
   ],
   "source": [
    "# in pluto not in domain:\n",
    "[i for i in unique_ownertype if i not in ownertype_domain]"
   ]
  },
  {
   "cell_type": "markdown",
   "metadata": {},
   "source": [
    "### Area source"
   ]
  },
  {
   "cell_type": "code",
   "execution_count": 123,
   "metadata": {},
   "outputs": [],
   "source": [
    "sql = f'''\n",
    "    WITH newcount as (\n",
    "    SELECT areasource, count(*)\n",
    "    FROM {pluto}\n",
    "    GROUP BY areasource),\n",
    "    prevcount as (\n",
    "    SELECT areasource, count(*)\n",
    "    FROM {plutoprev}\n",
    "    GROUP BY areasource)\n",
    "    SELECT a.areasource, b.areasource as areasourceprev, a.count as countnew, b.count as countprev, a.count - b.count as diff\n",
    "    FROM newcount a\n",
    "    FULL OUTER JOIN prevcount b\n",
    "    ON a.areasource = b.areasource\n",
    "    ORDER BY a.areasource;\n",
    "'''"
   ]
  },
  {
   "cell_type": "code",
   "execution_count": 124,
   "metadata": {},
   "outputs": [],
   "source": [
    "df = pd.read_sql(sql=sql, con=con)"
   ]
  },
  {
   "cell_type": "code",
   "execution_count": 125,
   "metadata": {},
   "outputs": [
    {
     "data": {
      "text/html": [
       "<div>\n",
       "<style scoped>\n",
       "    .dataframe tbody tr th:only-of-type {\n",
       "        vertical-align: middle;\n",
       "    }\n",
       "\n",
       "    .dataframe tbody tr th {\n",
       "        vertical-align: top;\n",
       "    }\n",
       "\n",
       "    .dataframe thead th {\n",
       "        text-align: right;\n",
       "    }\n",
       "</style>\n",
       "<table border=\"1\" class=\"dataframe\">\n",
       "  <thead>\n",
       "    <tr style=\"text-align: right;\">\n",
       "      <th></th>\n",
       "      <th>areasource</th>\n",
       "      <th>areasourceprev</th>\n",
       "      <th>countnew</th>\n",
       "      <th>countprev</th>\n",
       "      <th>diff</th>\n",
       "    </tr>\n",
       "  </thead>\n",
       "  <tbody>\n",
       "    <tr>\n",
       "      <th>0</th>\n",
       "      <td>0</td>\n",
       "      <td>0</td>\n",
       "      <td>139.0</td>\n",
       "      <td>139.0</td>\n",
       "      <td>0.0</td>\n",
       "    </tr>\n",
       "    <tr>\n",
       "      <th>1</th>\n",
       "      <td>2</td>\n",
       "      <td>2</td>\n",
       "      <td>813263.0</td>\n",
       "      <td>813263.0</td>\n",
       "      <td>0.0</td>\n",
       "    </tr>\n",
       "    <tr>\n",
       "      <th>2</th>\n",
       "      <td>4</td>\n",
       "      <td>4</td>\n",
       "      <td>179.0</td>\n",
       "      <td>179.0</td>\n",
       "      <td>0.0</td>\n",
       "    </tr>\n",
       "    <tr>\n",
       "      <th>3</th>\n",
       "      <td>5</td>\n",
       "      <td>5</td>\n",
       "      <td>63.0</td>\n",
       "      <td>63.0</td>\n",
       "      <td>0.0</td>\n",
       "    </tr>\n",
       "    <tr>\n",
       "      <th>4</th>\n",
       "      <td>7</td>\n",
       "      <td>7</td>\n",
       "      <td>45342.0</td>\n",
       "      <td>45342.0</td>\n",
       "      <td>0.0</td>\n",
       "    </tr>\n",
       "    <tr>\n",
       "      <th>5</th>\n",
       "      <td>None</td>\n",
       "      <td>None</td>\n",
       "      <td>509.0</td>\n",
       "      <td>NaN</td>\n",
       "      <td>NaN</td>\n",
       "    </tr>\n",
       "    <tr>\n",
       "      <th>6</th>\n",
       "      <td>None</td>\n",
       "      <td>None</td>\n",
       "      <td>NaN</td>\n",
       "      <td>509.0</td>\n",
       "      <td>NaN</td>\n",
       "    </tr>\n",
       "  </tbody>\n",
       "</table>\n",
       "</div>"
      ],
      "text/plain": [
       "  areasource areasourceprev  countnew  countprev  diff\n",
       "0          0              0     139.0      139.0   0.0\n",
       "1          2              2  813263.0   813263.0   0.0\n",
       "2          4              4     179.0      179.0   0.0\n",
       "3          5              5      63.0       63.0   0.0\n",
       "4          7              7   45342.0    45342.0   0.0\n",
       "5       None           None     509.0        NaN   NaN\n",
       "6       None           None       NaN      509.0   NaN"
      ]
     },
     "execution_count": 125,
     "metadata": {},
     "output_type": "execute_result"
    }
   ],
   "source": [
    "df"
   ]
  },
  {
   "cell_type": "code",
   "execution_count": 126,
   "metadata": {},
   "outputs": [],
   "source": [
    "#Check areasource domain\n",
    "unique_areasource = df.areasource.tolist()\n",
    "areasource_domain = list(get_domain('areasource', 'pluto_domains.json').keys())"
   ]
  },
  {
   "cell_type": "code",
   "execution_count": 127,
   "metadata": {},
   "outputs": [
    {
     "data": {
      "text/plain": [
       "[]"
      ]
     },
     "execution_count": 127,
     "metadata": {},
     "output_type": "execute_result"
    }
   ],
   "source": [
    "# in domain not in pluto:\n",
    "[i for i in areasource_domain if i not in unique_areasource]"
   ]
  },
  {
   "cell_type": "code",
   "execution_count": 128,
   "metadata": {},
   "outputs": [
    {
     "data": {
      "text/plain": [
       "[None, None]"
      ]
     },
     "execution_count": 128,
     "metadata": {},
     "output_type": "execute_result"
    }
   ],
   "source": [
    "# in pluto not in domain:\n",
    "[i for i in unique_areasource if i not in areasource_domain]"
   ]
  },
  {
   "cell_type": "markdown",
   "metadata": {},
   "source": [
    "### Extension"
   ]
  },
  {
   "cell_type": "code",
   "execution_count": 129,
   "metadata": {},
   "outputs": [],
   "source": [
    "sql = f'''\n",
    "    WITH newcount as (\n",
    "    SELECT ext, count(*)\n",
    "    FROM {pluto}\n",
    "    GROUP BY ext),\n",
    "    prevcount as (\n",
    "    SELECT ext, count(*)\n",
    "    FROM {plutoprev}\n",
    "    GROUP BY ext)\n",
    "    SELECT a.ext, b.ext as extprev, a.count as countnew, b.count as countprev, a.count - b.count as diff\n",
    "    FROM newcount a\n",
    "    FULL OUTER JOIN prevcount b\n",
    "    ON a.ext = b.ext\n",
    "    ORDER BY a.ext;\n",
    "'''"
   ]
  },
  {
   "cell_type": "code",
   "execution_count": 130,
   "metadata": {},
   "outputs": [],
   "source": [
    "df = pd.read_sql(sql=sql, con=con)"
   ]
  },
  {
   "cell_type": "code",
   "execution_count": 131,
   "metadata": {},
   "outputs": [
    {
     "data": {
      "text/html": [
       "<div>\n",
       "<style scoped>\n",
       "    .dataframe tbody tr th:only-of-type {\n",
       "        vertical-align: middle;\n",
       "    }\n",
       "\n",
       "    .dataframe tbody tr th {\n",
       "        vertical-align: top;\n",
       "    }\n",
       "\n",
       "    .dataframe thead th {\n",
       "        text-align: right;\n",
       "    }\n",
       "</style>\n",
       "<table border=\"1\" class=\"dataframe\">\n",
       "  <thead>\n",
       "    <tr style=\"text-align: right;\">\n",
       "      <th></th>\n",
       "      <th>ext</th>\n",
       "      <th>extprev</th>\n",
       "      <th>countnew</th>\n",
       "      <th>countprev</th>\n",
       "      <th>diff</th>\n",
       "    </tr>\n",
       "  </thead>\n",
       "  <tbody>\n",
       "    <tr>\n",
       "      <th>0</th>\n",
       "      <td>E</td>\n",
       "      <td>E</td>\n",
       "      <td>48335.0</td>\n",
       "      <td>48335.0</td>\n",
       "      <td>0.0</td>\n",
       "    </tr>\n",
       "    <tr>\n",
       "      <th>1</th>\n",
       "      <td>EG</td>\n",
       "      <td>EG</td>\n",
       "      <td>36709.0</td>\n",
       "      <td>36709.0</td>\n",
       "      <td>0.0</td>\n",
       "    </tr>\n",
       "    <tr>\n",
       "      <th>2</th>\n",
       "      <td>G</td>\n",
       "      <td>G</td>\n",
       "      <td>264413.0</td>\n",
       "      <td>264413.0</td>\n",
       "      <td>0.0</td>\n",
       "    </tr>\n",
       "    <tr>\n",
       "      <th>3</th>\n",
       "      <td>N</td>\n",
       "      <td>N</td>\n",
       "      <td>451333.0</td>\n",
       "      <td>451333.0</td>\n",
       "      <td>0.0</td>\n",
       "    </tr>\n",
       "    <tr>\n",
       "      <th>4</th>\n",
       "      <td>None</td>\n",
       "      <td>None</td>\n",
       "      <td>58705.0</td>\n",
       "      <td>NaN</td>\n",
       "      <td>NaN</td>\n",
       "    </tr>\n",
       "    <tr>\n",
       "      <th>5</th>\n",
       "      <td>None</td>\n",
       "      <td>None</td>\n",
       "      <td>NaN</td>\n",
       "      <td>58705.0</td>\n",
       "      <td>NaN</td>\n",
       "    </tr>\n",
       "  </tbody>\n",
       "</table>\n",
       "</div>"
      ],
      "text/plain": [
       "    ext extprev  countnew  countprev  diff\n",
       "0     E       E   48335.0    48335.0   0.0\n",
       "1    EG      EG   36709.0    36709.0   0.0\n",
       "2     G       G  264413.0   264413.0   0.0\n",
       "3     N       N  451333.0   451333.0   0.0\n",
       "4  None    None   58705.0        NaN   NaN\n",
       "5  None    None       NaN    58705.0   NaN"
      ]
     },
     "execution_count": 131,
     "metadata": {},
     "output_type": "execute_result"
    }
   ],
   "source": [
    "df"
   ]
  },
  {
   "cell_type": "code",
   "execution_count": 132,
   "metadata": {},
   "outputs": [],
   "source": [
    "#Check extension domain\n",
    "unique_extension = df.ext.tolist()\n",
    "extension_domain = list(get_domain('ext', 'pluto_domains.json').keys())"
   ]
  },
  {
   "cell_type": "code",
   "execution_count": 133,
   "metadata": {},
   "outputs": [
    {
     "data": {
      "text/plain": [
       "[]"
      ]
     },
     "execution_count": 133,
     "metadata": {},
     "output_type": "execute_result"
    }
   ],
   "source": [
    "# in domain not in pluto:\n",
    "[i for i in extension_domain if i not in unique_extension]"
   ]
  },
  {
   "cell_type": "code",
   "execution_count": 134,
   "metadata": {},
   "outputs": [
    {
     "data": {
      "text/plain": [
       "['N', None, None]"
      ]
     },
     "execution_count": 134,
     "metadata": {},
     "output_type": "execute_result"
    }
   ],
   "source": [
    "# in pluto not in domain:\n",
    "[i for i in unique_extension if i not in extension_domain]"
   ]
  },
  {
   "cell_type": "markdown",
   "metadata": {},
   "source": [
    "### Proxy code"
   ]
  },
  {
   "cell_type": "code",
   "execution_count": 135,
   "metadata": {},
   "outputs": [],
   "source": [
    "sql = f'''\n",
    "    WITH newcount as (\n",
    "    SELECT proxcode, count(*)\n",
    "    FROM {pluto}\n",
    "    GROUP BY proxcode),\n",
    "    prevcount as (\n",
    "    SELECT proxcode, count(*)\n",
    "    FROM {plutoprev}\n",
    "    GROUP BY proxcode)\n",
    "    SELECT a.proxcode, b.proxcode as proxcodeprev, a.count as countnew, b.count as countprev, a.count - b.count as diff\n",
    "    FROM newcount a\n",
    "    FULL OUTER JOIN prevcount b\n",
    "    ON a.proxcode = b.proxcode\n",
    "    ORDER BY a.proxcode;\n",
    "'''"
   ]
  },
  {
   "cell_type": "code",
   "execution_count": 136,
   "metadata": {},
   "outputs": [],
   "source": [
    "df = pd.read_sql(sql=sql, con=con)"
   ]
  },
  {
   "cell_type": "code",
   "execution_count": 137,
   "metadata": {},
   "outputs": [
    {
     "data": {
      "text/html": [
       "<div>\n",
       "<style scoped>\n",
       "    .dataframe tbody tr th:only-of-type {\n",
       "        vertical-align: middle;\n",
       "    }\n",
       "\n",
       "    .dataframe tbody tr th {\n",
       "        vertical-align: top;\n",
       "    }\n",
       "\n",
       "    .dataframe thead th {\n",
       "        text-align: right;\n",
       "    }\n",
       "</style>\n",
       "<table border=\"1\" class=\"dataframe\">\n",
       "  <thead>\n",
       "    <tr style=\"text-align: right;\">\n",
       "      <th></th>\n",
       "      <th>proxcode</th>\n",
       "      <th>proxcodeprev</th>\n",
       "      <th>countnew</th>\n",
       "      <th>countprev</th>\n",
       "      <th>diff</th>\n",
       "    </tr>\n",
       "  </thead>\n",
       "  <tbody>\n",
       "    <tr>\n",
       "      <th>0</th>\n",
       "      <td>0</td>\n",
       "      <td>0</td>\n",
       "      <td>144832.0</td>\n",
       "      <td>144832.0</td>\n",
       "      <td>0.0</td>\n",
       "    </tr>\n",
       "    <tr>\n",
       "      <th>1</th>\n",
       "      <td>1</td>\n",
       "      <td>1</td>\n",
       "      <td>313731.0</td>\n",
       "      <td>313731.0</td>\n",
       "      <td>0.0</td>\n",
       "    </tr>\n",
       "    <tr>\n",
       "      <th>2</th>\n",
       "      <td>2</td>\n",
       "      <td>2</td>\n",
       "      <td>199995.0</td>\n",
       "      <td>199995.0</td>\n",
       "      <td>0.0</td>\n",
       "    </tr>\n",
       "    <tr>\n",
       "      <th>3</th>\n",
       "      <td>3</td>\n",
       "      <td>3</td>\n",
       "      <td>200428.0</td>\n",
       "      <td>200428.0</td>\n",
       "      <td>0.0</td>\n",
       "    </tr>\n",
       "    <tr>\n",
       "      <th>4</th>\n",
       "      <td>None</td>\n",
       "      <td>None</td>\n",
       "      <td>509.0</td>\n",
       "      <td>NaN</td>\n",
       "      <td>NaN</td>\n",
       "    </tr>\n",
       "    <tr>\n",
       "      <th>5</th>\n",
       "      <td>None</td>\n",
       "      <td>None</td>\n",
       "      <td>NaN</td>\n",
       "      <td>509.0</td>\n",
       "      <td>NaN</td>\n",
       "    </tr>\n",
       "  </tbody>\n",
       "</table>\n",
       "</div>"
      ],
      "text/plain": [
       "  proxcode proxcodeprev  countnew  countprev  diff\n",
       "0        0            0  144832.0   144832.0   0.0\n",
       "1        1            1  313731.0   313731.0   0.0\n",
       "2        2            2  199995.0   199995.0   0.0\n",
       "3        3            3  200428.0   200428.0   0.0\n",
       "4     None         None     509.0        NaN   NaN\n",
       "5     None         None       NaN      509.0   NaN"
      ]
     },
     "execution_count": 137,
     "metadata": {},
     "output_type": "execute_result"
    }
   ],
   "source": [
    "df"
   ]
  },
  {
   "cell_type": "code",
   "execution_count": 138,
   "metadata": {},
   "outputs": [],
   "source": [
    "#Check proxcode domain\n",
    "unique_proxcode = df.proxcode.tolist()\n",
    "proxcode_domain = list(get_domain('proxcode', 'pluto_domains.json').keys())"
   ]
  },
  {
   "cell_type": "code",
   "execution_count": 139,
   "metadata": {},
   "outputs": [
    {
     "data": {
      "text/plain": [
       "[]"
      ]
     },
     "execution_count": 139,
     "metadata": {},
     "output_type": "execute_result"
    }
   ],
   "source": [
    "# in domain not in pluto:\n",
    "[i for i in proxcode_domain if i not in unique_proxcode]"
   ]
  },
  {
   "cell_type": "code",
   "execution_count": 140,
   "metadata": {},
   "outputs": [
    {
     "data": {
      "text/plain": [
       "[None, None]"
      ]
     },
     "execution_count": 140,
     "metadata": {},
     "output_type": "execute_result"
    }
   ],
   "source": [
    "# in pluto not in domain:\n",
    "[i for i in unique_proxcode if i not in proxcode_domain]"
   ]
  },
  {
   "cell_type": "markdown",
   "metadata": {},
   "source": [
    "### Lot type"
   ]
  },
  {
   "cell_type": "code",
   "execution_count": 141,
   "metadata": {},
   "outputs": [],
   "source": [
    "sql = f'''\n",
    "    WITH newcount as (\n",
    "    SELECT lottype, count(*)\n",
    "    FROM {pluto}\n",
    "    GROUP BY lottype),\n",
    "    prevcount as (\n",
    "    SELECT lottype, count(*)\n",
    "    FROM {plutoprev}\n",
    "    GROUP BY lottype)\n",
    "    SELECT a.lottype, b.lottype as lottypeprev, a.count as countnew, b.count as countprev, a.count - b.count as diff\n",
    "    FROM newcount a\n",
    "    FULL OUTER JOIN prevcount b\n",
    "    ON a.lottype = b.lottype\n",
    "    ORDER BY a.lottype;\n",
    "'''"
   ]
  },
  {
   "cell_type": "code",
   "execution_count": 142,
   "metadata": {},
   "outputs": [],
   "source": [
    "df = pd.read_sql(sql=sql, con=con)"
   ]
  },
  {
   "cell_type": "code",
   "execution_count": 143,
   "metadata": {},
   "outputs": [
    {
     "data": {
      "text/html": [
       "<div>\n",
       "<style scoped>\n",
       "    .dataframe tbody tr th:only-of-type {\n",
       "        vertical-align: middle;\n",
       "    }\n",
       "\n",
       "    .dataframe tbody tr th {\n",
       "        vertical-align: top;\n",
       "    }\n",
       "\n",
       "    .dataframe thead th {\n",
       "        text-align: right;\n",
       "    }\n",
       "</style>\n",
       "<table border=\"1\" class=\"dataframe\">\n",
       "  <thead>\n",
       "    <tr style=\"text-align: right;\">\n",
       "      <th></th>\n",
       "      <th>lottype</th>\n",
       "      <th>lottypeprev</th>\n",
       "      <th>countnew</th>\n",
       "      <th>countprev</th>\n",
       "      <th>diff</th>\n",
       "    </tr>\n",
       "  </thead>\n",
       "  <tbody>\n",
       "    <tr>\n",
       "      <th>0</th>\n",
       "      <td>0</td>\n",
       "      <td>0</td>\n",
       "      <td>8534.0</td>\n",
       "      <td>8534.0</td>\n",
       "      <td>0.0</td>\n",
       "    </tr>\n",
       "    <tr>\n",
       "      <th>1</th>\n",
       "      <td>1</td>\n",
       "      <td>1</td>\n",
       "      <td>1454.0</td>\n",
       "      <td>1454.0</td>\n",
       "      <td>0.0</td>\n",
       "    </tr>\n",
       "    <tr>\n",
       "      <th>2</th>\n",
       "      <td>2</td>\n",
       "      <td>2</td>\n",
       "      <td>1823.0</td>\n",
       "      <td>1823.0</td>\n",
       "      <td>0.0</td>\n",
       "    </tr>\n",
       "    <tr>\n",
       "      <th>3</th>\n",
       "      <td>3</td>\n",
       "      <td>3</td>\n",
       "      <td>100674.0</td>\n",
       "      <td>100674.0</td>\n",
       "      <td>0.0</td>\n",
       "    </tr>\n",
       "    <tr>\n",
       "      <th>4</th>\n",
       "      <td>4</td>\n",
       "      <td>4</td>\n",
       "      <td>3443.0</td>\n",
       "      <td>3443.0</td>\n",
       "      <td>0.0</td>\n",
       "    </tr>\n",
       "    <tr>\n",
       "      <th>5</th>\n",
       "      <td>5</td>\n",
       "      <td>5</td>\n",
       "      <td>738045.0</td>\n",
       "      <td>738045.0</td>\n",
       "      <td>0.0</td>\n",
       "    </tr>\n",
       "    <tr>\n",
       "      <th>6</th>\n",
       "      <td>6</td>\n",
       "      <td>6</td>\n",
       "      <td>2228.0</td>\n",
       "      <td>2228.0</td>\n",
       "      <td>0.0</td>\n",
       "    </tr>\n",
       "    <tr>\n",
       "      <th>7</th>\n",
       "      <td>7</td>\n",
       "      <td>7</td>\n",
       "      <td>64.0</td>\n",
       "      <td>64.0</td>\n",
       "      <td>0.0</td>\n",
       "    </tr>\n",
       "    <tr>\n",
       "      <th>8</th>\n",
       "      <td>8</td>\n",
       "      <td>8</td>\n",
       "      <td>2531.0</td>\n",
       "      <td>2531.0</td>\n",
       "      <td>0.0</td>\n",
       "    </tr>\n",
       "    <tr>\n",
       "      <th>9</th>\n",
       "      <td>9</td>\n",
       "      <td>9</td>\n",
       "      <td>190.0</td>\n",
       "      <td>190.0</td>\n",
       "      <td>0.0</td>\n",
       "    </tr>\n",
       "    <tr>\n",
       "      <th>10</th>\n",
       "      <td>None</td>\n",
       "      <td>None</td>\n",
       "      <td>509.0</td>\n",
       "      <td>NaN</td>\n",
       "      <td>NaN</td>\n",
       "    </tr>\n",
       "    <tr>\n",
       "      <th>11</th>\n",
       "      <td>None</td>\n",
       "      <td>None</td>\n",
       "      <td>NaN</td>\n",
       "      <td>509.0</td>\n",
       "      <td>NaN</td>\n",
       "    </tr>\n",
       "  </tbody>\n",
       "</table>\n",
       "</div>"
      ],
      "text/plain": [
       "   lottype lottypeprev  countnew  countprev  diff\n",
       "0        0           0    8534.0     8534.0   0.0\n",
       "1        1           1    1454.0     1454.0   0.0\n",
       "2        2           2    1823.0     1823.0   0.0\n",
       "3        3           3  100674.0   100674.0   0.0\n",
       "4        4           4    3443.0     3443.0   0.0\n",
       "5        5           5  738045.0   738045.0   0.0\n",
       "6        6           6    2228.0     2228.0   0.0\n",
       "7        7           7      64.0       64.0   0.0\n",
       "8        8           8    2531.0     2531.0   0.0\n",
       "9        9           9     190.0      190.0   0.0\n",
       "10    None        None     509.0        NaN   NaN\n",
       "11    None        None       NaN      509.0   NaN"
      ]
     },
     "execution_count": 143,
     "metadata": {},
     "output_type": "execute_result"
    }
   ],
   "source": [
    "df"
   ]
  },
  {
   "cell_type": "code",
   "execution_count": 144,
   "metadata": {},
   "outputs": [],
   "source": [
    "#Check lottype domain\n",
    "unique_lottype = df.lottype.tolist()\n",
    "lottype_domain = list(get_domain('lottype', 'pluto_domains.json').keys())"
   ]
  },
  {
   "cell_type": "code",
   "execution_count": 145,
   "metadata": {},
   "outputs": [
    {
     "data": {
      "text/plain": [
       "[]"
      ]
     },
     "execution_count": 145,
     "metadata": {},
     "output_type": "execute_result"
    }
   ],
   "source": [
    "# in domain not in pluto:\n",
    "[i for i in lottype_domain if i not in unique_lottype]"
   ]
  },
  {
   "cell_type": "code",
   "execution_count": 146,
   "metadata": {},
   "outputs": [
    {
     "data": {
      "text/plain": [
       "[None, None]"
      ]
     },
     "execution_count": 146,
     "metadata": {},
     "output_type": "execute_result"
    }
   ],
   "source": [
    "# in pluto not in domain:\n",
    "[i for i in unique_lottype if i not in lottype_domain]"
   ]
  },
  {
   "cell_type": "markdown",
   "metadata": {},
   "source": [
    "### Basement code"
   ]
  },
  {
   "cell_type": "code",
   "execution_count": 147,
   "metadata": {},
   "outputs": [],
   "source": [
    "sql = f'''\n",
    "    WITH newcount as (\n",
    "    SELECT bsmtcode, count(*)\n",
    "    FROM {pluto}\n",
    "    GROUP BY bsmtcode),\n",
    "    prevcount as (\n",
    "    SELECT bsmtcode, count(*)\n",
    "    FROM {plutoprev}\n",
    "    GROUP BY bsmtcode)\n",
    "    SELECT a.bsmtcode, b.bsmtcode as bsmtcodeprev, a.count as countnew, b.count as countprev, a.count - b.count as diff\n",
    "    FROM newcount a\n",
    "    FULL OUTER JOIN prevcount b\n",
    "    ON a.bsmtcode = b.bsmtcode\n",
    "    ORDER BY a.bsmtcode;\n",
    "'''"
   ]
  },
  {
   "cell_type": "code",
   "execution_count": 148,
   "metadata": {},
   "outputs": [],
   "source": [
    "df = pd.read_sql(sql=sql, con=con)"
   ]
  },
  {
   "cell_type": "code",
   "execution_count": 149,
   "metadata": {},
   "outputs": [
    {
     "data": {
      "text/html": [
       "<div>\n",
       "<style scoped>\n",
       "    .dataframe tbody tr th:only-of-type {\n",
       "        vertical-align: middle;\n",
       "    }\n",
       "\n",
       "    .dataframe tbody tr th {\n",
       "        vertical-align: top;\n",
       "    }\n",
       "\n",
       "    .dataframe thead th {\n",
       "        text-align: right;\n",
       "    }\n",
       "</style>\n",
       "<table border=\"1\" class=\"dataframe\">\n",
       "  <thead>\n",
       "    <tr style=\"text-align: right;\">\n",
       "      <th></th>\n",
       "      <th>bsmtcode</th>\n",
       "      <th>bsmtcodeprev</th>\n",
       "      <th>countnew</th>\n",
       "      <th>countprev</th>\n",
       "      <th>diff</th>\n",
       "    </tr>\n",
       "  </thead>\n",
       "  <tbody>\n",
       "    <tr>\n",
       "      <th>0</th>\n",
       "      <td>0</td>\n",
       "      <td>0</td>\n",
       "      <td>74507.0</td>\n",
       "      <td>74507.0</td>\n",
       "      <td>0.0</td>\n",
       "    </tr>\n",
       "    <tr>\n",
       "      <th>1</th>\n",
       "      <td>1</td>\n",
       "      <td>1</td>\n",
       "      <td>153674.0</td>\n",
       "      <td>153674.0</td>\n",
       "      <td>0.0</td>\n",
       "    </tr>\n",
       "    <tr>\n",
       "      <th>2</th>\n",
       "      <td>2</td>\n",
       "      <td>2</td>\n",
       "      <td>495893.0</td>\n",
       "      <td>495893.0</td>\n",
       "      <td>0.0</td>\n",
       "    </tr>\n",
       "    <tr>\n",
       "      <th>3</th>\n",
       "      <td>3</td>\n",
       "      <td>3</td>\n",
       "      <td>1499.0</td>\n",
       "      <td>1499.0</td>\n",
       "      <td>0.0</td>\n",
       "    </tr>\n",
       "    <tr>\n",
       "      <th>4</th>\n",
       "      <td>4</td>\n",
       "      <td>4</td>\n",
       "      <td>4704.0</td>\n",
       "      <td>4704.0</td>\n",
       "      <td>0.0</td>\n",
       "    </tr>\n",
       "    <tr>\n",
       "      <th>5</th>\n",
       "      <td>5</td>\n",
       "      <td>5</td>\n",
       "      <td>128709.0</td>\n",
       "      <td>128709.0</td>\n",
       "      <td>0.0</td>\n",
       "    </tr>\n",
       "    <tr>\n",
       "      <th>6</th>\n",
       "      <td>None</td>\n",
       "      <td>None</td>\n",
       "      <td>509.0</td>\n",
       "      <td>NaN</td>\n",
       "      <td>NaN</td>\n",
       "    </tr>\n",
       "    <tr>\n",
       "      <th>7</th>\n",
       "      <td>None</td>\n",
       "      <td>None</td>\n",
       "      <td>NaN</td>\n",
       "      <td>509.0</td>\n",
       "      <td>NaN</td>\n",
       "    </tr>\n",
       "  </tbody>\n",
       "</table>\n",
       "</div>"
      ],
      "text/plain": [
       "  bsmtcode bsmtcodeprev  countnew  countprev  diff\n",
       "0        0            0   74507.0    74507.0   0.0\n",
       "1        1            1  153674.0   153674.0   0.0\n",
       "2        2            2  495893.0   495893.0   0.0\n",
       "3        3            3    1499.0     1499.0   0.0\n",
       "4        4            4    4704.0     4704.0   0.0\n",
       "5        5            5  128709.0   128709.0   0.0\n",
       "6     None         None     509.0        NaN   NaN\n",
       "7     None         None       NaN      509.0   NaN"
      ]
     },
     "execution_count": 149,
     "metadata": {},
     "output_type": "execute_result"
    }
   ],
   "source": [
    "df"
   ]
  },
  {
   "cell_type": "code",
   "execution_count": 150,
   "metadata": {},
   "outputs": [],
   "source": [
    "#Check bsmtcode domain\n",
    "unique_bsmtcode = df.bsmtcode.tolist()\n",
    "bsmtcode_domain = list(get_domain('bsmtcode', 'pluto_domains.json').keys())"
   ]
  },
  {
   "cell_type": "code",
   "execution_count": 151,
   "metadata": {},
   "outputs": [
    {
     "data": {
      "text/plain": [
       "[]"
      ]
     },
     "execution_count": 151,
     "metadata": {},
     "output_type": "execute_result"
    }
   ],
   "source": [
    "# in domain not in pluto:\n",
    "[i for i in bsmtcode_domain if i not in unique_bsmtcode]"
   ]
  },
  {
   "cell_type": "code",
   "execution_count": 152,
   "metadata": {},
   "outputs": [
    {
     "data": {
      "text/plain": [
       "[None, None]"
      ]
     },
     "execution_count": 152,
     "metadata": {},
     "output_type": "execute_result"
    }
   ],
   "source": [
    "# in pluto not in domain:\n",
    "[i for i in unique_bsmtcode if i not in bsmtcode_domain]"
   ]
  },
  {
   "cell_type": "markdown",
   "metadata": {},
   "source": [
    "### PLUTO map id"
   ]
  },
  {
   "cell_type": "code",
   "execution_count": 153,
   "metadata": {},
   "outputs": [],
   "source": [
    "sql = f'''\n",
    "    WITH newcount as (\n",
    "    SELECT plutomapid, count(*)\n",
    "    FROM {pluto}\n",
    "    GROUP BY plutomapid),\n",
    "    prevcount as (\n",
    "    SELECT plutomapid, count(*)\n",
    "    FROM {plutoprev}\n",
    "    GROUP BY plutomapid)\n",
    "    SELECT a.plutomapid, b.plutomapid as plutomapidprev, a.count as countnew, b.count as countprev, a.count - b.count as diff\n",
    "    FROM newcount a\n",
    "    FULL OUTER JOIN prevcount b\n",
    "    ON a.plutomapid = b.plutomapid\n",
    "    ORDER BY a.plutomapid;\n",
    "'''"
   ]
  },
  {
   "cell_type": "code",
   "execution_count": null,
   "metadata": {},
   "outputs": [],
   "source": [
    "df = pd.read_sql(sql=sql, con=con)"
   ]
  },
  {
   "cell_type": "code",
   "execution_count": null,
   "metadata": {},
   "outputs": [],
   "source": [
    "df"
   ]
  },
  {
   "cell_type": "code",
   "execution_count": null,
   "metadata": {},
   "outputs": [],
   "source": [
    "#Check plutomapid domain\n",
    "unique_plutomapid = df.plutomapid.tolist()\n",
    "plutomapid_domain = list(get_domain('plutomapid', 'pluto_domains.json').keys())"
   ]
  },
  {
   "cell_type": "code",
   "execution_count": null,
   "metadata": {},
   "outputs": [],
   "source": [
    "# in domain not in pluto:\n",
    "[i for i in plutomapid_domain if i not in unique_plutomapid]"
   ]
  },
  {
   "cell_type": "code",
   "execution_count": null,
   "metadata": {},
   "outputs": [],
   "source": [
    "# in pluto not in domain:\n",
    "[i for i in unique_plutomapid if i not in plutomapid_domain]"
   ]
  },
  {
   "cell_type": "markdown",
   "metadata": {},
   "source": [
    "#### done"
   ]
  }
 ],
 "metadata": {
  "kernelspec": {
   "display_name": "Python 3",
   "language": "python",
   "name": "python3"
  },
  "language_info": {
   "codemirror_mode": {
    "name": "ipython",
    "version": 3
   },
   "file_extension": ".py",
   "mimetype": "text/x-python",
   "name": "python",
   "nbconvert_exporter": "python",
   "pygments_lexer": "ipython3",
   "version": "3.7.3"
  }
 },
 "nbformat": 4,
 "nbformat_minor": 4
}
