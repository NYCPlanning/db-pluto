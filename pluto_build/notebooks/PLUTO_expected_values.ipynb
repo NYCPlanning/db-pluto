{
 "cells": [
  {
   "cell_type": "code",
   "execution_count": 238,
   "metadata": {},
   "outputs": [],
   "source": [
    "# Import packages\n",
    "import pandas as pd\n",
    "from sqlalchemy import create_engine\n",
    "import json\n",
    "import os\n",
    "\n",
    "pd.set_option('display.max_rows', 200)"
   ]
  },
  {
   "cell_type": "code",
   "execution_count": 239,
   "metadata": {},
   "outputs": [
    {
     "name": "stdout",
     "output_type": "stream",
     "text": [
      "The dotenv extension is already loaded. To reload it, use:\n",
      "  %reload_ext dotenv\n"
     ]
    }
   ],
   "source": [
    "%load_ext dotenv\n",
    "%dotenv ../.env"
   ]
  },
  {
   "cell_type": "code",
   "execution_count": 240,
   "metadata": {},
   "outputs": [],
   "source": [
    "con = create_engine(os.getenv('EDM_DATA'))"
   ]
  },
  {
   "cell_type": "code",
   "execution_count": 241,
   "metadata": {},
   "outputs": [],
   "source": [
    "# Build funtion to get the domains associated with a specific field\n",
    "def get_domain(field, domain_path):\n",
    "    with open(domain_path, \"r\") as domain:\n",
    "        domain = json.load(domain)\n",
    "    records = [i for i in domain['fields'] if i['field'] == field]\n",
    "    if len(records) == 0: \n",
    "        print(f'cannot find field: {field} in domain table')\n",
    "    else: \n",
    "        return records[0]['domain']"
   ]
  },
  {
   "cell_type": "code",
   "execution_count": 242,
   "metadata": {},
   "outputs": [
    {
     "name": "stdout",
     "output_type": "stream",
     "text": [
      "{'0': 'Not Available', '1': 'Detached', '2': 'Semi-Attached', '3': 'Attached'}\n"
     ]
    }
   ],
   "source": [
    "# Example\n",
    "proxcode_domain = get_domain('proxcode', 'pluto_domains.json')\n",
    "print(proxcode_domain)"
   ]
  },
  {
   "cell_type": "code",
   "execution_count": 243,
   "metadata": {},
   "outputs": [
    {
     "data": {
      "text/plain": [
       "dict_keys(['0', '1', '2', '3'])"
      ]
     },
     "execution_count": 243,
     "metadata": {},
     "output_type": "execute_result"
    }
   ],
   "source": [
    "# Example\n",
    "proxcode_domain.keys()"
   ]
  },
  {
   "cell_type": "code",
   "execution_count": 244,
   "metadata": {},
   "outputs": [],
   "source": [
    "# Specify latest PLUTO version\n",
    "pluto = 'dcp_pluto.\"19v2_w_corrections\"'\n",
    "# Specify previous PLUTO version or the one you want to compare to\n",
    "plutoprev = 'dcp_pluto.\"19v1\"'"
   ]
  },
  {
   "cell_type": "markdown",
   "metadata": {},
   "source": [
    "### Value check for the thirteen fields with expected domain values"
   ]
  },
  {
   "cell_type": "markdown",
   "metadata": {},
   "source": [
    "##### includes summary statistics of unique value comparisions for the two PLUTO version, and lists of values that do not agree w/ domain list"
   ]
  },
  {
   "cell_type": "markdown",
   "metadata": {},
   "source": [
    "### Zoning districts"
   ]
  },
  {
   "cell_type": "code",
   "execution_count": 245,
   "metadata": {},
   "outputs": [],
   "source": [
    "sql = f'''\n",
    "    WITH newcount as (\n",
    "    WITH zdall as (\n",
    "    SELECT zonedist1 as zonedist FROM {pluto}\n",
    "    UNION ALL\n",
    "    SELECT zonedist2 as zonedist FROM {pluto}\n",
    "    UNION ALL\n",
    "    SELECT zonedist3 as zonedist FROM {pluto}\n",
    "    UNION ALL\n",
    "    SELECT zonedist4 as zonedist FROM {pluto})\n",
    "    SELECT zonedist, COUNT(*) \n",
    "    FROM zdall\n",
    "    GROUP BY zonedist),\n",
    "    prevcount as (\n",
    "    WITH zdall as (\n",
    "    SELECT zonedist1 as zonedist FROM {plutoprev}\n",
    "    UNION ALL\n",
    "    SELECT zonedist2 as zonedist FROM {plutoprev}\n",
    "    UNION ALL\n",
    "    SELECT zonedist3 as zonedist FROM {plutoprev}\n",
    "    UNION ALL\n",
    "    SELECT zonedist4 as zonedist FROM {plutoprev})\n",
    "    SELECT zonedist, COUNT(*) \n",
    "    FROM zdall\n",
    "    GROUP BY zonedist)\n",
    "    SELECT a.zonedist, b.zonedist as zonedistprev, a.count as countnew, b.count as countprev,  a.count - b.count as diff\n",
    "    FROM newcount a\n",
    "    FULL OUTER JOIN prevcount b\n",
    "    ON a.zonedist = b.zonedist\n",
    "    ORDER BY diff DESC;\n",
    "'''"
   ]
  },
  {
   "cell_type": "code",
   "execution_count": 246,
   "metadata": {},
   "outputs": [],
   "source": [
    "df = pd.read_sql(sql=sql, con=con)"
   ]
  },
  {
   "cell_type": "code",
   "execution_count": 247,
   "metadata": {},
   "outputs": [
    {
     "data": {
      "text/html": [
       "<div>\n",
       "<style scoped>\n",
       "    .dataframe tbody tr th:only-of-type {\n",
       "        vertical-align: middle;\n",
       "    }\n",
       "\n",
       "    .dataframe tbody tr th {\n",
       "        vertical-align: top;\n",
       "    }\n",
       "\n",
       "    .dataframe thead th {\n",
       "        text-align: right;\n",
       "    }\n",
       "</style>\n",
       "<table border=\"1\" class=\"dataframe\">\n",
       "  <thead>\n",
       "    <tr style=\"text-align: right;\">\n",
       "      <th></th>\n",
       "      <th>zonedist</th>\n",
       "      <th>zonedistprev</th>\n",
       "      <th>countnew</th>\n",
       "      <th>countprev</th>\n",
       "      <th>diff</th>\n",
       "    </tr>\n",
       "  </thead>\n",
       "  <tbody>\n",
       "    <tr>\n",
       "      <th>0</th>\n",
       "      <td>None</td>\n",
       "      <td>None</td>\n",
       "      <td>NaN</td>\n",
       "      <td>2560881.0</td>\n",
       "      <td>NaN</td>\n",
       "    </tr>\n",
       "    <tr>\n",
       "      <th>1</th>\n",
       "      <td>None</td>\n",
       "      <td>None</td>\n",
       "      <td>2561097.0</td>\n",
       "      <td>NaN</td>\n",
       "      <td>NaN</td>\n",
       "    </tr>\n",
       "    <tr>\n",
       "      <th>2</th>\n",
       "      <td>C1-9A</td>\n",
       "      <td>C1-9A</td>\n",
       "      <td>137.0</td>\n",
       "      <td>134.0</td>\n",
       "      <td>3.0</td>\n",
       "    </tr>\n",
       "    <tr>\n",
       "      <th>141</th>\n",
       "      <td>R3-2</td>\n",
       "      <td>R3-2</td>\n",
       "      <td>63414.0</td>\n",
       "      <td>63415.0</td>\n",
       "      <td>-1.0</td>\n",
       "    </tr>\n",
       "    <tr>\n",
       "      <th>142</th>\n",
       "      <td>R3X</td>\n",
       "      <td>R3X</td>\n",
       "      <td>51677.0</td>\n",
       "      <td>51678.0</td>\n",
       "      <td>-1.0</td>\n",
       "    </tr>\n",
       "    <tr>\n",
       "      <th>143</th>\n",
       "      <td>R7B</td>\n",
       "      <td>R7B</td>\n",
       "      <td>3684.0</td>\n",
       "      <td>3685.0</td>\n",
       "      <td>-1.0</td>\n",
       "    </tr>\n",
       "    <tr>\n",
       "      <th>144</th>\n",
       "      <td>R5D</td>\n",
       "      <td>R5D</td>\n",
       "      <td>5514.0</td>\n",
       "      <td>5515.0</td>\n",
       "      <td>-1.0</td>\n",
       "    </tr>\n",
       "    <tr>\n",
       "      <th>145</th>\n",
       "      <td>R4</td>\n",
       "      <td>R4</td>\n",
       "      <td>75974.0</td>\n",
       "      <td>75975.0</td>\n",
       "      <td>-1.0</td>\n",
       "    </tr>\n",
       "    <tr>\n",
       "      <th>146</th>\n",
       "      <td>C6-4X</td>\n",
       "      <td>C6-4X</td>\n",
       "      <td>88.0</td>\n",
       "      <td>89.0</td>\n",
       "      <td>-1.0</td>\n",
       "    </tr>\n",
       "    <tr>\n",
       "      <th>147</th>\n",
       "      <td>R3-1</td>\n",
       "      <td>R3-1</td>\n",
       "      <td>51469.0</td>\n",
       "      <td>51470.0</td>\n",
       "      <td>-1.0</td>\n",
       "    </tr>\n",
       "    <tr>\n",
       "      <th>148</th>\n",
       "      <td>R5</td>\n",
       "      <td>R5</td>\n",
       "      <td>91410.0</td>\n",
       "      <td>91411.0</td>\n",
       "      <td>-1.0</td>\n",
       "    </tr>\n",
       "    <tr>\n",
       "      <th>149</th>\n",
       "      <td>R3A</td>\n",
       "      <td>R3A</td>\n",
       "      <td>54836.0</td>\n",
       "      <td>54837.0</td>\n",
       "      <td>-1.0</td>\n",
       "    </tr>\n",
       "    <tr>\n",
       "      <th>150</th>\n",
       "      <td>C2-8A</td>\n",
       "      <td>C2-8A</td>\n",
       "      <td>125.0</td>\n",
       "      <td>126.0</td>\n",
       "      <td>-1.0</td>\n",
       "    </tr>\n",
       "    <tr>\n",
       "      <th>151</th>\n",
       "      <td>R4-1</td>\n",
       "      <td>R4-1</td>\n",
       "      <td>50667.0</td>\n",
       "      <td>50669.0</td>\n",
       "      <td>-2.0</td>\n",
       "    </tr>\n",
       "    <tr>\n",
       "      <th>152</th>\n",
       "      <td>R7X</td>\n",
       "      <td>R7X</td>\n",
       "      <td>478.0</td>\n",
       "      <td>480.0</td>\n",
       "      <td>-2.0</td>\n",
       "    </tr>\n",
       "    <tr>\n",
       "      <th>153</th>\n",
       "      <td>R8B</td>\n",
       "      <td>R8B</td>\n",
       "      <td>8090.0</td>\n",
       "      <td>8092.0</td>\n",
       "      <td>-2.0</td>\n",
       "    </tr>\n",
       "    <tr>\n",
       "      <th>154</th>\n",
       "      <td>R7-1</td>\n",
       "      <td>R7-1</td>\n",
       "      <td>14359.0</td>\n",
       "      <td>14361.0</td>\n",
       "      <td>-2.0</td>\n",
       "    </tr>\n",
       "    <tr>\n",
       "      <th>155</th>\n",
       "      <td>C5-1</td>\n",
       "      <td>C5-1</td>\n",
       "      <td>325.0</td>\n",
       "      <td>328.0</td>\n",
       "      <td>-3.0</td>\n",
       "    </tr>\n",
       "    <tr>\n",
       "      <th>156</th>\n",
       "      <td>C1-8X</td>\n",
       "      <td>C1-8X</td>\n",
       "      <td>344.0</td>\n",
       "      <td>347.0</td>\n",
       "      <td>-3.0</td>\n",
       "    </tr>\n",
       "    <tr>\n",
       "      <th>157</th>\n",
       "      <td>R7A</td>\n",
       "      <td>R7A</td>\n",
       "      <td>11606.0</td>\n",
       "      <td>11609.0</td>\n",
       "      <td>-3.0</td>\n",
       "    </tr>\n",
       "    <tr>\n",
       "      <th>158</th>\n",
       "      <td>C6-4</td>\n",
       "      <td>C6-4</td>\n",
       "      <td>802.0</td>\n",
       "      <td>806.0</td>\n",
       "      <td>-4.0</td>\n",
       "    </tr>\n",
       "    <tr>\n",
       "      <th>159</th>\n",
       "      <td>R6A</td>\n",
       "      <td>R6A</td>\n",
       "      <td>16132.0</td>\n",
       "      <td>16136.0</td>\n",
       "      <td>-4.0</td>\n",
       "    </tr>\n",
       "    <tr>\n",
       "      <th>160</th>\n",
       "      <td>R8</td>\n",
       "      <td>R8</td>\n",
       "      <td>5169.0</td>\n",
       "      <td>5175.0</td>\n",
       "      <td>-6.0</td>\n",
       "    </tr>\n",
       "    <tr>\n",
       "      <th>161</th>\n",
       "      <td>R8A</td>\n",
       "      <td>R8A</td>\n",
       "      <td>1770.0</td>\n",
       "      <td>1776.0</td>\n",
       "      <td>-6.0</td>\n",
       "    </tr>\n",
       "    <tr>\n",
       "      <th>162</th>\n",
       "      <td>C4-4L</td>\n",
       "      <td>C4-4L</td>\n",
       "      <td>339.0</td>\n",
       "      <td>347.0</td>\n",
       "      <td>-8.0</td>\n",
       "    </tr>\n",
       "    <tr>\n",
       "      <th>163</th>\n",
       "      <td>R6B</td>\n",
       "      <td>R6B</td>\n",
       "      <td>52484.0</td>\n",
       "      <td>52493.0</td>\n",
       "      <td>-9.0</td>\n",
       "    </tr>\n",
       "    <tr>\n",
       "      <th>164</th>\n",
       "      <td>R6</td>\n",
       "      <td>R6</td>\n",
       "      <td>68921.0</td>\n",
       "      <td>68932.0</td>\n",
       "      <td>-11.0</td>\n",
       "    </tr>\n",
       "  </tbody>\n",
       "</table>\n",
       "</div>"
      ],
      "text/plain": [
       "    zonedist zonedistprev   countnew  countprev  diff\n",
       "0       None         None        NaN  2560881.0   NaN\n",
       "1       None         None  2561097.0        NaN   NaN\n",
       "2      C1-9A        C1-9A      137.0      134.0   3.0\n",
       "141     R3-2         R3-2    63414.0    63415.0  -1.0\n",
       "142      R3X          R3X    51677.0    51678.0  -1.0\n",
       "143      R7B          R7B     3684.0     3685.0  -1.0\n",
       "144      R5D          R5D     5514.0     5515.0  -1.0\n",
       "145       R4           R4    75974.0    75975.0  -1.0\n",
       "146    C6-4X        C6-4X       88.0       89.0  -1.0\n",
       "147     R3-1         R3-1    51469.0    51470.0  -1.0\n",
       "148       R5           R5    91410.0    91411.0  -1.0\n",
       "149      R3A          R3A    54836.0    54837.0  -1.0\n",
       "150    C2-8A        C2-8A      125.0      126.0  -1.0\n",
       "151     R4-1         R4-1    50667.0    50669.0  -2.0\n",
       "152      R7X          R7X      478.0      480.0  -2.0\n",
       "153      R8B          R8B     8090.0     8092.0  -2.0\n",
       "154     R7-1         R7-1    14359.0    14361.0  -2.0\n",
       "155     C5-1         C5-1      325.0      328.0  -3.0\n",
       "156    C1-8X        C1-8X      344.0      347.0  -3.0\n",
       "157      R7A          R7A    11606.0    11609.0  -3.0\n",
       "158     C6-4         C6-4      802.0      806.0  -4.0\n",
       "159      R6A          R6A    16132.0    16136.0  -4.0\n",
       "160       R8           R8     5169.0     5175.0  -6.0\n",
       "161      R8A          R8A     1770.0     1776.0  -6.0\n",
       "162    C4-4L        C4-4L      339.0      347.0  -8.0\n",
       "163      R6B          R6B    52484.0    52493.0  -9.0\n",
       "164       R6           R6    68921.0    68932.0 -11.0"
      ]
     },
     "execution_count": 247,
     "metadata": {},
     "output_type": "execute_result"
    }
   ],
   "source": [
    "df[df['diff'] != 0]"
   ]
  },
  {
   "cell_type": "markdown",
   "metadata": {},
   "source": [
    "### Commercial overlay"
   ]
  },
  {
   "cell_type": "code",
   "execution_count": 248,
   "metadata": {},
   "outputs": [],
   "source": [
    "sql = f'''\n",
    "    WITH newcount as (\n",
    "    WITH olall as (\n",
    "    SELECT overlay1 as overlay FROM {pluto}\n",
    "    UNION ALL\n",
    "    SELECT overlay2 as overlay FROM {pluto}\n",
    "    )\n",
    "    SELECT overlay, COUNT(*) \n",
    "    FROM olall\n",
    "    GROUP BY overlay),\n",
    "    prevcount as (\n",
    "    WITH olall as (\n",
    "    SELECT overlay1 as overlay FROM {plutoprev}\n",
    "    UNION ALL\n",
    "    SELECT overlay2 as overlay FROM {plutoprev})\n",
    "    SELECT overlay, COUNT(*) \n",
    "    FROM olall\n",
    "    GROUP BY overlay)\n",
    "    SELECT a.overlay, b.overlay as overlayprev, a.count as countnew, b.count as countprev,  a.count - b.count as diff\n",
    "    FROM newcount a\n",
    "    FULL OUTER JOIN prevcount b\n",
    "    ON a.overlay = b.overlay\n",
    "    ORDER BY a.overlay;\n",
    "'''"
   ]
  },
  {
   "cell_type": "code",
   "execution_count": 249,
   "metadata": {},
   "outputs": [],
   "source": [
    "df = pd.read_sql(sql=sql, con=con)"
   ]
  },
  {
   "cell_type": "code",
   "execution_count": 250,
   "metadata": {},
   "outputs": [
    {
     "data": {
      "text/html": [
       "<div>\n",
       "<style scoped>\n",
       "    .dataframe tbody tr th:only-of-type {\n",
       "        vertical-align: middle;\n",
       "    }\n",
       "\n",
       "    .dataframe tbody tr th {\n",
       "        vertical-align: top;\n",
       "    }\n",
       "\n",
       "    .dataframe thead th {\n",
       "        text-align: right;\n",
       "    }\n",
       "</style>\n",
       "<table border=\"1\" class=\"dataframe\">\n",
       "  <thead>\n",
       "    <tr style=\"text-align: right;\">\n",
       "      <th></th>\n",
       "      <th>overlay</th>\n",
       "      <th>overlayprev</th>\n",
       "      <th>countnew</th>\n",
       "      <th>countprev</th>\n",
       "      <th>diff</th>\n",
       "    </tr>\n",
       "  </thead>\n",
       "  <tbody>\n",
       "    <tr>\n",
       "      <th>0</th>\n",
       "      <td>C1-1</td>\n",
       "      <td>C1-1</td>\n",
       "      <td>1587.0</td>\n",
       "      <td>1587.0</td>\n",
       "      <td>0.0</td>\n",
       "    </tr>\n",
       "    <tr>\n",
       "      <th>1</th>\n",
       "      <td>C1-2</td>\n",
       "      <td>C1-2</td>\n",
       "      <td>11031.0</td>\n",
       "      <td>11031.0</td>\n",
       "      <td>0.0</td>\n",
       "    </tr>\n",
       "    <tr>\n",
       "      <th>2</th>\n",
       "      <td>C1-3</td>\n",
       "      <td>C1-3</td>\n",
       "      <td>13790.0</td>\n",
       "      <td>13790.0</td>\n",
       "      <td>0.0</td>\n",
       "    </tr>\n",
       "    <tr>\n",
       "      <th>3</th>\n",
       "      <td>C1-4</td>\n",
       "      <td>C1-4</td>\n",
       "      <td>8097.0</td>\n",
       "      <td>8097.0</td>\n",
       "      <td>0.0</td>\n",
       "    </tr>\n",
       "    <tr>\n",
       "      <th>4</th>\n",
       "      <td>C1-5</td>\n",
       "      <td>C1-5</td>\n",
       "      <td>2541.0</td>\n",
       "      <td>2547.0</td>\n",
       "      <td>-6.0</td>\n",
       "    </tr>\n",
       "    <tr>\n",
       "      <th>5</th>\n",
       "      <td>C2-1</td>\n",
       "      <td>C2-1</td>\n",
       "      <td>1684.0</td>\n",
       "      <td>1684.0</td>\n",
       "      <td>0.0</td>\n",
       "    </tr>\n",
       "    <tr>\n",
       "      <th>6</th>\n",
       "      <td>C2-2</td>\n",
       "      <td>C2-2</td>\n",
       "      <td>6023.0</td>\n",
       "      <td>6023.0</td>\n",
       "      <td>0.0</td>\n",
       "    </tr>\n",
       "    <tr>\n",
       "      <th>7</th>\n",
       "      <td>C2-3</td>\n",
       "      <td>C2-3</td>\n",
       "      <td>11949.0</td>\n",
       "      <td>11952.0</td>\n",
       "      <td>-3.0</td>\n",
       "    </tr>\n",
       "    <tr>\n",
       "      <th>8</th>\n",
       "      <td>C2-4</td>\n",
       "      <td>C2-4</td>\n",
       "      <td>16721.0</td>\n",
       "      <td>16727.0</td>\n",
       "      <td>-6.0</td>\n",
       "    </tr>\n",
       "    <tr>\n",
       "      <th>9</th>\n",
       "      <td>C2-5</td>\n",
       "      <td>C2-5</td>\n",
       "      <td>1523.0</td>\n",
       "      <td>1523.0</td>\n",
       "      <td>0.0</td>\n",
       "    </tr>\n",
       "    <tr>\n",
       "      <th>10</th>\n",
       "      <td>None</td>\n",
       "      <td>None</td>\n",
       "      <td>NaN</td>\n",
       "      <td>1643957.0</td>\n",
       "      <td>NaN</td>\n",
       "    </tr>\n",
       "    <tr>\n",
       "      <th>11</th>\n",
       "      <td>None</td>\n",
       "      <td>None</td>\n",
       "      <td>1644044.0</td>\n",
       "      <td>NaN</td>\n",
       "      <td>NaN</td>\n",
       "    </tr>\n",
       "  </tbody>\n",
       "</table>\n",
       "</div>"
      ],
      "text/plain": [
       "   overlay overlayprev   countnew  countprev  diff\n",
       "0     C1-1        C1-1     1587.0     1587.0   0.0\n",
       "1     C1-2        C1-2    11031.0    11031.0   0.0\n",
       "2     C1-3        C1-3    13790.0    13790.0   0.0\n",
       "3     C1-4        C1-4     8097.0     8097.0   0.0\n",
       "4     C1-5        C1-5     2541.0     2547.0  -6.0\n",
       "5     C2-1        C2-1     1684.0     1684.0   0.0\n",
       "6     C2-2        C2-2     6023.0     6023.0   0.0\n",
       "7     C2-3        C2-3    11949.0    11952.0  -3.0\n",
       "8     C2-4        C2-4    16721.0    16727.0  -6.0\n",
       "9     C2-5        C2-5     1523.0     1523.0   0.0\n",
       "10    None        None        NaN  1643957.0   NaN\n",
       "11    None        None  1644044.0        NaN   NaN"
      ]
     },
     "execution_count": 250,
     "metadata": {},
     "output_type": "execute_result"
    }
   ],
   "source": [
    "df"
   ]
  },
  {
   "cell_type": "markdown",
   "metadata": {},
   "source": [
    "### Special purpose district"
   ]
  },
  {
   "cell_type": "code",
   "execution_count": 251,
   "metadata": {},
   "outputs": [],
   "source": [
    "sql = f'''\n",
    "    WITH newcount as (\n",
    "    WITH sdall as (\n",
    "    SELECT spdist1 as spdist FROM {pluto}\n",
    "    UNION ALL\n",
    "    SELECT spdist2 as spdist FROM {pluto}\n",
    "    UNION ALL\n",
    "    SELECT spdist3 as spdist FROM {pluto}\n",
    "    )\n",
    "    SELECT spdist, COUNT(*) \n",
    "    FROM sdall\n",
    "    GROUP BY spdist),\n",
    "    prevcount as (\n",
    "     WITH sdall as (\n",
    "    SELECT spdist1 as spdist FROM {plutoprev}\n",
    "    UNION ALL\n",
    "    SELECT spdist2 as spdist FROM {plutoprev}\n",
    "    UNION ALL\n",
    "    SELECT spdist3 as spdist FROM {plutoprev}\n",
    "    )\n",
    "    SELECT spdist, COUNT(*) \n",
    "    FROM sdall\n",
    "    GROUP BY spdist)\n",
    "    SELECT a.spdist, b.spdist as spdistprev, a.count as countnew, b.count as countprev,  a.count - b.count as diff\n",
    "    FROM newcount a\n",
    "    FULL OUTER JOIN prevcount b\n",
    "    ON a.spdist = b.spdist\n",
    "    ORDER BY diff DESC;\n",
    "'''"
   ]
  },
  {
   "cell_type": "code",
   "execution_count": 252,
   "metadata": {},
   "outputs": [],
   "source": [
    "df = pd.read_sql(sql=sql, con=con)"
   ]
  },
  {
   "cell_type": "code",
   "execution_count": 253,
   "metadata": {},
   "outputs": [
    {
     "data": {
      "text/html": [
       "<div>\n",
       "<style scoped>\n",
       "    .dataframe tbody tr th:only-of-type {\n",
       "        vertical-align: middle;\n",
       "    }\n",
       "\n",
       "    .dataframe tbody tr th {\n",
       "        vertical-align: top;\n",
       "    }\n",
       "\n",
       "    .dataframe thead th {\n",
       "        text-align: right;\n",
       "    }\n",
       "</style>\n",
       "<table border=\"1\" class=\"dataframe\">\n",
       "  <thead>\n",
       "    <tr style=\"text-align: right;\">\n",
       "      <th></th>\n",
       "      <th>spdist</th>\n",
       "      <th>spdistprev</th>\n",
       "      <th>countnew</th>\n",
       "      <th>countprev</th>\n",
       "      <th>diff</th>\n",
       "    </tr>\n",
       "  </thead>\n",
       "  <tbody>\n",
       "    <tr>\n",
       "      <th>0</th>\n",
       "      <td>None</td>\n",
       "      <td>None</td>\n",
       "      <td>2476702.0</td>\n",
       "      <td>NaN</td>\n",
       "      <td>NaN</td>\n",
       "    </tr>\n",
       "    <tr>\n",
       "      <th>1</th>\n",
       "      <td>None</td>\n",
       "      <td>None</td>\n",
       "      <td>NaN</td>\n",
       "      <td>2476583.0</td>\n",
       "      <td>NaN</td>\n",
       "    </tr>\n",
       "    <tr>\n",
       "      <th>2</th>\n",
       "      <td>MiD</td>\n",
       "      <td>MiD</td>\n",
       "      <td>1486.0</td>\n",
       "      <td>1485.0</td>\n",
       "      <td>1.0</td>\n",
       "    </tr>\n",
       "    <tr>\n",
       "      <th>76</th>\n",
       "      <td>OP</td>\n",
       "      <td>OP</td>\n",
       "      <td>13442.0</td>\n",
       "      <td>13443.0</td>\n",
       "      <td>-1.0</td>\n",
       "    </tr>\n",
       "    <tr>\n",
       "      <th>77</th>\n",
       "      <td>EC-6</td>\n",
       "      <td>EC-6</td>\n",
       "      <td>409.0</td>\n",
       "      <td>410.0</td>\n",
       "      <td>-1.0</td>\n",
       "    </tr>\n",
       "    <tr>\n",
       "      <th>78</th>\n",
       "      <td>HRP</td>\n",
       "      <td>HRP</td>\n",
       "      <td>5.0</td>\n",
       "      <td>6.0</td>\n",
       "      <td>-1.0</td>\n",
       "    </tr>\n",
       "    <tr>\n",
       "      <th>79</th>\n",
       "      <td>HS</td>\n",
       "      <td>HS</td>\n",
       "      <td>6164.0</td>\n",
       "      <td>6165.0</td>\n",
       "      <td>-1.0</td>\n",
       "    </tr>\n",
       "    <tr>\n",
       "      <th>80</th>\n",
       "      <td>EC-5</td>\n",
       "      <td>EC-5</td>\n",
       "      <td>558.0</td>\n",
       "      <td>559.0</td>\n",
       "      <td>-1.0</td>\n",
       "    </tr>\n",
       "    <tr>\n",
       "      <th>81</th>\n",
       "      <td>MP</td>\n",
       "      <td>MP</td>\n",
       "      <td>370.0</td>\n",
       "      <td>373.0</td>\n",
       "      <td>-3.0</td>\n",
       "    </tr>\n",
       "    <tr>\n",
       "      <th>82</th>\n",
       "      <td>DB</td>\n",
       "      <td>DB</td>\n",
       "      <td>932.0</td>\n",
       "      <td>936.0</td>\n",
       "      <td>-4.0</td>\n",
       "    </tr>\n",
       "  </tbody>\n",
       "</table>\n",
       "</div>"
      ],
      "text/plain": [
       "   spdist spdistprev   countnew  countprev  diff\n",
       "0    None       None  2476702.0        NaN   NaN\n",
       "1    None       None        NaN  2476583.0   NaN\n",
       "2     MiD        MiD     1486.0     1485.0   1.0\n",
       "76     OP         OP    13442.0    13443.0  -1.0\n",
       "77   EC-6       EC-6      409.0      410.0  -1.0\n",
       "78    HRP        HRP        5.0        6.0  -1.0\n",
       "79     HS         HS     6164.0     6165.0  -1.0\n",
       "80   EC-5       EC-5      558.0      559.0  -1.0\n",
       "81     MP         MP      370.0      373.0  -3.0\n",
       "82     DB         DB      932.0      936.0  -4.0"
      ]
     },
     "execution_count": 253,
     "metadata": {},
     "output_type": "execute_result"
    }
   ],
   "source": [
    "df[df['diff'] != 0]"
   ]
  },
  {
   "cell_type": "code",
   "execution_count": 254,
   "metadata": {},
   "outputs": [],
   "source": [
    "#Check spdist domain\n",
    "unique_spdist = df.spdist.tolist()\n",
    "spdist_domain = list(get_domain('spdist1', 'pluto_domains.json').keys())"
   ]
  },
  {
   "cell_type": "code",
   "execution_count": 255,
   "metadata": {},
   "outputs": [
    {
     "data": {
      "text/plain": [
       "['MX-3']"
      ]
     },
     "execution_count": 255,
     "metadata": {},
     "output_type": "execute_result"
    }
   ],
   "source": [
    "# in domain not in pluto:\n",
    "[i for i in spdist_domain if i not in unique_spdist]"
   ]
  },
  {
   "cell_type": "code",
   "execution_count": 256,
   "metadata": {},
   "outputs": [
    {
     "data": {
      "text/plain": [
       "[None, None, 'MX-16/EC-5', 'BSC', 'SW', 'MX-20', 'MX-16/EC-6']"
      ]
     },
     "execution_count": 256,
     "metadata": {},
     "output_type": "execute_result"
    }
   ],
   "source": [
    "# in pluto not in domain:\n",
    "[i for i in unique_spdist if i not in spdist_domain]"
   ]
  },
  {
   "cell_type": "markdown",
   "metadata": {},
   "source": [
    "### Limited height"
   ]
  },
  {
   "cell_type": "code",
   "execution_count": 257,
   "metadata": {},
   "outputs": [],
   "source": [
    "sql = f'''\n",
    "    WITH newcount as (\n",
    "    SELECT ltdheight, count(*)\n",
    "    FROM {pluto}\n",
    "    GROUP BY ltdheight),\n",
    "    prevcount as (\n",
    "    SELECT ltdheight, count(*)\n",
    "    FROM {plutoprev}\n",
    "    GROUP BY ltdheight)\n",
    "    SELECT a.ltdheight, b.ltdheight as ltdheightprev, a.count as countnew, b.count as countprev,  a.count - b.count as diff\n",
    "    FROM newcount a\n",
    "    FULL OUTER JOIN prevcount b\n",
    "    ON a.ltdheight = b.ltdheight\n",
    "    ORDER BY a.ltdheight;\n",
    "'''"
   ]
  },
  {
   "cell_type": "code",
   "execution_count": 258,
   "metadata": {},
   "outputs": [],
   "source": [
    "df = pd.read_sql(sql=sql, con=con)"
   ]
  },
  {
   "cell_type": "code",
   "execution_count": 259,
   "metadata": {},
   "outputs": [
    {
     "data": {
      "text/html": [
       "<div>\n",
       "<style scoped>\n",
       "    .dataframe tbody tr th:only-of-type {\n",
       "        vertical-align: middle;\n",
       "    }\n",
       "\n",
       "    .dataframe tbody tr th {\n",
       "        vertical-align: top;\n",
       "    }\n",
       "\n",
       "    .dataframe thead th {\n",
       "        text-align: right;\n",
       "    }\n",
       "</style>\n",
       "<table border=\"1\" class=\"dataframe\">\n",
       "  <thead>\n",
       "    <tr style=\"text-align: right;\">\n",
       "      <th></th>\n",
       "      <th>ltdheight</th>\n",
       "      <th>ltdheightprev</th>\n",
       "      <th>countnew</th>\n",
       "      <th>countprev</th>\n",
       "      <th>diff</th>\n",
       "    </tr>\n",
       "  </thead>\n",
       "  <tbody>\n",
       "    <tr>\n",
       "      <th>0</th>\n",
       "      <td>LH-1</td>\n",
       "      <td>LH-1</td>\n",
       "      <td>2239.0</td>\n",
       "      <td>2239.0</td>\n",
       "      <td>0.0</td>\n",
       "    </tr>\n",
       "    <tr>\n",
       "      <th>1</th>\n",
       "      <td>LH-1A</td>\n",
       "      <td>LH-1A</td>\n",
       "      <td>797.0</td>\n",
       "      <td>797.0</td>\n",
       "      <td>0.0</td>\n",
       "    </tr>\n",
       "    <tr>\n",
       "      <th>2</th>\n",
       "      <td>None</td>\n",
       "      <td>None</td>\n",
       "      <td>856459.0</td>\n",
       "      <td>NaN</td>\n",
       "      <td>NaN</td>\n",
       "    </tr>\n",
       "    <tr>\n",
       "      <th>3</th>\n",
       "      <td>None</td>\n",
       "      <td>None</td>\n",
       "      <td>NaN</td>\n",
       "      <td>856423.0</td>\n",
       "      <td>NaN</td>\n",
       "    </tr>\n",
       "  </tbody>\n",
       "</table>\n",
       "</div>"
      ],
      "text/plain": [
       "  ltdheight ltdheightprev  countnew  countprev  diff\n",
       "0      LH-1          LH-1    2239.0     2239.0   0.0\n",
       "1     LH-1A         LH-1A     797.0      797.0   0.0\n",
       "2      None          None  856459.0        NaN   NaN\n",
       "3      None          None       NaN   856423.0   NaN"
      ]
     },
     "execution_count": 259,
     "metadata": {},
     "output_type": "execute_result"
    }
   ],
   "source": [
    "df"
   ]
  },
  {
   "cell_type": "code",
   "execution_count": 260,
   "metadata": {},
   "outputs": [],
   "source": [
    "#Check ltdheight domain\n",
    "unique_ltdheight = df.ltdheight.tolist()\n",
    "ltdheight_domain = list(get_domain('ltdheight', 'pluto_domains.json').keys())"
   ]
  },
  {
   "cell_type": "code",
   "execution_count": 261,
   "metadata": {},
   "outputs": [
    {
     "data": {
      "text/plain": [
       "['LH-2', 'LH-3']"
      ]
     },
     "execution_count": 261,
     "metadata": {},
     "output_type": "execute_result"
    }
   ],
   "source": [
    "# in domain not in pluto:\n",
    "[i for i in ltdheight_domain if i not in unique_ltdheight]"
   ]
  },
  {
   "cell_type": "code",
   "execution_count": 262,
   "metadata": {},
   "outputs": [
    {
     "data": {
      "text/plain": [
       "[None, None]"
      ]
     },
     "execution_count": 262,
     "metadata": {},
     "output_type": "execute_result"
    }
   ],
   "source": [
    "# in pluto not in domain:\n",
    "[i for i in unique_ltdheight if i not in ltdheight_domain]"
   ]
  },
  {
   "cell_type": "markdown",
   "metadata": {},
   "source": [
    "### Building class"
   ]
  },
  {
   "cell_type": "code",
   "execution_count": 263,
   "metadata": {},
   "outputs": [],
   "source": [
    "sql = f'''\n",
    "    WITH newcount as (\n",
    "    SELECT bldgclass, count(*)\n",
    "    FROM {pluto}\n",
    "    GROUP BY bldgclass),\n",
    "    prevcount as (\n",
    "    SELECT bldgclass, count(*)\n",
    "    FROM {plutoprev}\n",
    "    GROUP BY bldgclass)\n",
    "    SELECT a.bldgclass, b.bldgclass as bldgclassprev, a.count as countnew, b.count as countprev,  a.count - b.count as diff\n",
    "    FROM newcount a\n",
    "    FULL OUTER JOIN prevcount b\n",
    "    ON a.bldgclass = b.bldgclass\n",
    "    ORDER BY diff DESC;\n",
    "'''"
   ]
  },
  {
   "cell_type": "code",
   "execution_count": 264,
   "metadata": {},
   "outputs": [],
   "source": [
    "df = pd.read_sql(sql=sql, con=con)"
   ]
  },
  {
   "cell_type": "code",
   "execution_count": 265,
   "metadata": {},
   "outputs": [
    {
     "data": {
      "text/html": [
       "<div>\n",
       "<style scoped>\n",
       "    .dataframe tbody tr th:only-of-type {\n",
       "        vertical-align: middle;\n",
       "    }\n",
       "\n",
       "    .dataframe tbody tr th {\n",
       "        vertical-align: top;\n",
       "    }\n",
       "\n",
       "    .dataframe thead th {\n",
       "        text-align: right;\n",
       "    }\n",
       "</style>\n",
       "<table border=\"1\" class=\"dataframe\">\n",
       "  <thead>\n",
       "    <tr style=\"text-align: right;\">\n",
       "      <th></th>\n",
       "      <th>bldgclass</th>\n",
       "      <th>bldgclassprev</th>\n",
       "      <th>countnew</th>\n",
       "      <th>countprev</th>\n",
       "      <th>diff</th>\n",
       "    </tr>\n",
       "  </thead>\n",
       "  <tbody>\n",
       "    <tr>\n",
       "      <th>0</th>\n",
       "      <td>None</td>\n",
       "      <td>None</td>\n",
       "      <td>509.0</td>\n",
       "      <td>NaN</td>\n",
       "      <td>NaN</td>\n",
       "    </tr>\n",
       "    <tr>\n",
       "      <th>1</th>\n",
       "      <td>None</td>\n",
       "      <td>None</td>\n",
       "      <td>NaN</td>\n",
       "      <td>473.0</td>\n",
       "      <td>NaN</td>\n",
       "    </tr>\n",
       "    <tr>\n",
       "      <th>2</th>\n",
       "      <td>Z7</td>\n",
       "      <td>Z7</td>\n",
       "      <td>167.0</td>\n",
       "      <td>109.0</td>\n",
       "      <td>58.0</td>\n",
       "    </tr>\n",
       "    <tr>\n",
       "      <th>204</th>\n",
       "      <td>D7</td>\n",
       "      <td>D7</td>\n",
       "      <td>2118.0</td>\n",
       "      <td>2119.0</td>\n",
       "      <td>-1.0</td>\n",
       "    </tr>\n",
       "    <tr>\n",
       "      <th>205</th>\n",
       "      <td>D3</td>\n",
       "      <td>D3</td>\n",
       "      <td>1306.0</td>\n",
       "      <td>1307.0</td>\n",
       "      <td>-1.0</td>\n",
       "    </tr>\n",
       "    <tr>\n",
       "      <th>206</th>\n",
       "      <td>U0</td>\n",
       "      <td>U0</td>\n",
       "      <td>85.0</td>\n",
       "      <td>86.0</td>\n",
       "      <td>-1.0</td>\n",
       "    </tr>\n",
       "    <tr>\n",
       "      <th>207</th>\n",
       "      <td>Q7</td>\n",
       "      <td>Q7</td>\n",
       "      <td>27.0</td>\n",
       "      <td>28.0</td>\n",
       "      <td>-1.0</td>\n",
       "    </tr>\n",
       "    <tr>\n",
       "      <th>208</th>\n",
       "      <td>A9</td>\n",
       "      <td>A9</td>\n",
       "      <td>22752.0</td>\n",
       "      <td>22753.0</td>\n",
       "      <td>-1.0</td>\n",
       "    </tr>\n",
       "    <tr>\n",
       "      <th>209</th>\n",
       "      <td>Q9</td>\n",
       "      <td>Q9</td>\n",
       "      <td>284.0</td>\n",
       "      <td>285.0</td>\n",
       "      <td>-1.0</td>\n",
       "    </tr>\n",
       "    <tr>\n",
       "      <th>210</th>\n",
       "      <td>V9</td>\n",
       "      <td>V9</td>\n",
       "      <td>501.0</td>\n",
       "      <td>502.0</td>\n",
       "      <td>-1.0</td>\n",
       "    </tr>\n",
       "    <tr>\n",
       "      <th>211</th>\n",
       "      <td>U9</td>\n",
       "      <td>U9</td>\n",
       "      <td>337.0</td>\n",
       "      <td>338.0</td>\n",
       "      <td>-1.0</td>\n",
       "    </tr>\n",
       "    <tr>\n",
       "      <th>212</th>\n",
       "      <td>Q0</td>\n",
       "      <td>Q0</td>\n",
       "      <td>1210.0</td>\n",
       "      <td>1211.0</td>\n",
       "      <td>-1.0</td>\n",
       "    </tr>\n",
       "    <tr>\n",
       "      <th>213</th>\n",
       "      <td>Q2</td>\n",
       "      <td>Q2</td>\n",
       "      <td>591.0</td>\n",
       "      <td>592.0</td>\n",
       "      <td>-1.0</td>\n",
       "    </tr>\n",
       "    <tr>\n",
       "      <th>214</th>\n",
       "      <td>Q1</td>\n",
       "      <td>Q1</td>\n",
       "      <td>1379.0</td>\n",
       "      <td>1381.0</td>\n",
       "      <td>-2.0</td>\n",
       "    </tr>\n",
       "    <tr>\n",
       "      <th>215</th>\n",
       "      <td>U8</td>\n",
       "      <td>U8</td>\n",
       "      <td>97.0</td>\n",
       "      <td>100.0</td>\n",
       "      <td>-3.0</td>\n",
       "    </tr>\n",
       "    <tr>\n",
       "      <th>216</th>\n",
       "      <td>U7</td>\n",
       "      <td>U7</td>\n",
       "      <td>966.0</td>\n",
       "      <td>969.0</td>\n",
       "      <td>-3.0</td>\n",
       "    </tr>\n",
       "    <tr>\n",
       "      <th>217</th>\n",
       "      <td>U1</td>\n",
       "      <td>U1</td>\n",
       "      <td>178.0</td>\n",
       "      <td>182.0</td>\n",
       "      <td>-4.0</td>\n",
       "    </tr>\n",
       "    <tr>\n",
       "      <th>218</th>\n",
       "      <td>V1</td>\n",
       "      <td>V1</td>\n",
       "      <td>6667.0</td>\n",
       "      <td>6671.0</td>\n",
       "      <td>-4.0</td>\n",
       "    </tr>\n",
       "    <tr>\n",
       "      <th>219</th>\n",
       "      <td>U2</td>\n",
       "      <td>U2</td>\n",
       "      <td>207.0</td>\n",
       "      <td>214.0</td>\n",
       "      <td>-7.0</td>\n",
       "    </tr>\n",
       "    <tr>\n",
       "      <th>220</th>\n",
       "      <td>U6</td>\n",
       "      <td>U6</td>\n",
       "      <td>561.0</td>\n",
       "      <td>569.0</td>\n",
       "      <td>-8.0</td>\n",
       "    </tr>\n",
       "    <tr>\n",
       "      <th>221</th>\n",
       "      <td>V0</td>\n",
       "      <td>V0</td>\n",
       "      <td>20053.0</td>\n",
       "      <td>20070.0</td>\n",
       "      <td>-17.0</td>\n",
       "    </tr>\n",
       "  </tbody>\n",
       "</table>\n",
       "</div>"
      ],
      "text/plain": [
       "    bldgclass bldgclassprev  countnew  countprev  diff\n",
       "0        None          None     509.0        NaN   NaN\n",
       "1        None          None       NaN      473.0   NaN\n",
       "2          Z7            Z7     167.0      109.0  58.0\n",
       "204        D7            D7    2118.0     2119.0  -1.0\n",
       "205        D3            D3    1306.0     1307.0  -1.0\n",
       "206        U0            U0      85.0       86.0  -1.0\n",
       "207        Q7            Q7      27.0       28.0  -1.0\n",
       "208        A9            A9   22752.0    22753.0  -1.0\n",
       "209        Q9            Q9     284.0      285.0  -1.0\n",
       "210        V9            V9     501.0      502.0  -1.0\n",
       "211        U9            U9     337.0      338.0  -1.0\n",
       "212        Q0            Q0    1210.0     1211.0  -1.0\n",
       "213        Q2            Q2     591.0      592.0  -1.0\n",
       "214        Q1            Q1    1379.0     1381.0  -2.0\n",
       "215        U8            U8      97.0      100.0  -3.0\n",
       "216        U7            U7     966.0      969.0  -3.0\n",
       "217        U1            U1     178.0      182.0  -4.0\n",
       "218        V1            V1    6667.0     6671.0  -4.0\n",
       "219        U2            U2     207.0      214.0  -7.0\n",
       "220        U6            U6     561.0      569.0  -8.0\n",
       "221        V0            V0   20053.0    20070.0 -17.0"
      ]
     },
     "execution_count": 265,
     "metadata": {},
     "output_type": "execute_result"
    }
   ],
   "source": [
    "df[df['diff'] != 0]"
   ]
  },
  {
   "cell_type": "code",
   "execution_count": 266,
   "metadata": {},
   "outputs": [],
   "source": [
    "#Check bldgclass domain\n",
    "unique_bldgclass = df.bldgclass.tolist()\n",
    "bldgclass_domain = list(get_domain('bldgclass', 'pluto_domains.json').keys())"
   ]
  },
  {
   "cell_type": "code",
   "execution_count": 267,
   "metadata": {},
   "outputs": [
    {
     "data": {
      "text/plain": [
       "['A',\n",
       " 'B',\n",
       " 'C',\n",
       " 'D',\n",
       " 'E',\n",
       " 'E3',\n",
       " 'E4',\n",
       " 'F',\n",
       " 'G',\n",
       " 'H',\n",
       " 'I',\n",
       " 'J',\n",
       " 'K',\n",
       " 'L',\n",
       " 'M',\n",
       " 'N',\n",
       " 'O',\n",
       " 'P',\n",
       " 'Q',\n",
       " 'R',\n",
       " 'R7',\n",
       " 'S',\n",
       " 'T',\n",
       " 'U',\n",
       " 'U3',\n",
       " 'V',\n",
       " 'W',\n",
       " 'Y',\n",
       " 'Z',\n",
       " 'Z6']"
      ]
     },
     "execution_count": 267,
     "metadata": {},
     "output_type": "execute_result"
    }
   ],
   "source": [
    "# in domain not in pluto:\n",
    "[i for i in bldgclass_domain if i not in unique_bldgclass]"
   ]
  },
  {
   "cell_type": "code",
   "execution_count": 268,
   "metadata": {},
   "outputs": [
    {
     "data": {
      "text/plain": [
       "[None, None]"
      ]
     },
     "execution_count": 268,
     "metadata": {},
     "output_type": "execute_result"
    }
   ],
   "source": [
    "# in pluto not in domain:\n",
    "[i for i in unique_bldgclass if i not in bldgclass_domain]"
   ]
  },
  {
   "cell_type": "markdown",
   "metadata": {},
   "source": [
    "### Land use"
   ]
  },
  {
   "cell_type": "code",
   "execution_count": 269,
   "metadata": {},
   "outputs": [],
   "source": [
    "sql = f'''\n",
    "    WITH newcount as (\n",
    "    SELECT landuse, count(*)\n",
    "    FROM {pluto}\n",
    "    GROUP BY landuse),\n",
    "    prevcount as (\n",
    "    SELECT landuse, count(*)\n",
    "    FROM {plutoprev}\n",
    "    GROUP BY landuse)\n",
    "    SELECT a.landuse, b.landuse as landuseprev, a.count as countnew, b.count as countprev,  a.count - b.count as diff\n",
    "    FROM newcount a\n",
    "    FULL OUTER JOIN prevcount b\n",
    "    ON a.landuse = b.landuse\n",
    "    ORDER BY a.landuse;\n",
    "'''"
   ]
  },
  {
   "cell_type": "code",
   "execution_count": 270,
   "metadata": {},
   "outputs": [],
   "source": [
    "df = pd.read_sql(sql=sql, con=con)"
   ]
  },
  {
   "cell_type": "code",
   "execution_count": 271,
   "metadata": {},
   "outputs": [
    {
     "data": {
      "text/html": [
       "<div>\n",
       "<style scoped>\n",
       "    .dataframe tbody tr th:only-of-type {\n",
       "        vertical-align: middle;\n",
       "    }\n",
       "\n",
       "    .dataframe tbody tr th {\n",
       "        vertical-align: top;\n",
       "    }\n",
       "\n",
       "    .dataframe thead th {\n",
       "        text-align: right;\n",
       "    }\n",
       "</style>\n",
       "<table border=\"1\" class=\"dataframe\">\n",
       "  <thead>\n",
       "    <tr style=\"text-align: right;\">\n",
       "      <th></th>\n",
       "      <th>landuse</th>\n",
       "      <th>landuseprev</th>\n",
       "      <th>countnew</th>\n",
       "      <th>countprev</th>\n",
       "      <th>diff</th>\n",
       "    </tr>\n",
       "  </thead>\n",
       "  <tbody>\n",
       "    <tr>\n",
       "      <th>0</th>\n",
       "      <td>01</td>\n",
       "      <td>01</td>\n",
       "      <td>565355.0</td>\n",
       "      <td>565356.0</td>\n",
       "      <td>-1.0</td>\n",
       "    </tr>\n",
       "    <tr>\n",
       "      <th>2</th>\n",
       "      <td>03</td>\n",
       "      <td>03</td>\n",
       "      <td>12845.0</td>\n",
       "      <td>12846.0</td>\n",
       "      <td>-1.0</td>\n",
       "    </tr>\n",
       "    <tr>\n",
       "      <th>3</th>\n",
       "      <td>04</td>\n",
       "      <td>04</td>\n",
       "      <td>54507.0</td>\n",
       "      <td>54508.0</td>\n",
       "      <td>-1.0</td>\n",
       "    </tr>\n",
       "    <tr>\n",
       "      <th>6</th>\n",
       "      <td>07</td>\n",
       "      <td>07</td>\n",
       "      <td>6308.0</td>\n",
       "      <td>6335.0</td>\n",
       "      <td>-27.0</td>\n",
       "    </tr>\n",
       "    <tr>\n",
       "      <th>8</th>\n",
       "      <td>09</td>\n",
       "      <td>09</td>\n",
       "      <td>4011.0</td>\n",
       "      <td>4017.0</td>\n",
       "      <td>-6.0</td>\n",
       "    </tr>\n",
       "    <tr>\n",
       "      <th>10</th>\n",
       "      <td>11</td>\n",
       "      <td>11</td>\n",
       "      <td>27693.0</td>\n",
       "      <td>27715.0</td>\n",
       "      <td>-22.0</td>\n",
       "    </tr>\n",
       "    <tr>\n",
       "      <th>11</th>\n",
       "      <td>None</td>\n",
       "      <td>None</td>\n",
       "      <td>3018.0</td>\n",
       "      <td>NaN</td>\n",
       "      <td>NaN</td>\n",
       "    </tr>\n",
       "    <tr>\n",
       "      <th>12</th>\n",
       "      <td>None</td>\n",
       "      <td>None</td>\n",
       "      <td>NaN</td>\n",
       "      <td>2924.0</td>\n",
       "      <td>NaN</td>\n",
       "    </tr>\n",
       "  </tbody>\n",
       "</table>\n",
       "</div>"
      ],
      "text/plain": [
       "   landuse landuseprev  countnew  countprev  diff\n",
       "0       01          01  565355.0   565356.0  -1.0\n",
       "2       03          03   12845.0    12846.0  -1.0\n",
       "3       04          04   54507.0    54508.0  -1.0\n",
       "6       07          07    6308.0     6335.0 -27.0\n",
       "8       09          09    4011.0     4017.0  -6.0\n",
       "10      11          11   27693.0    27715.0 -22.0\n",
       "11    None        None    3018.0        NaN   NaN\n",
       "12    None        None       NaN     2924.0   NaN"
      ]
     },
     "execution_count": 271,
     "metadata": {},
     "output_type": "execute_result"
    }
   ],
   "source": [
    "df[df['diff'] != 0]"
   ]
  },
  {
   "cell_type": "code",
   "execution_count": 272,
   "metadata": {},
   "outputs": [],
   "source": [
    "#Check landuse domain\n",
    "unique_landuse = df.landuse.tolist()\n",
    "landuse_domain = list(get_domain('landuse', 'pluto_domains.json').keys())"
   ]
  },
  {
   "cell_type": "code",
   "execution_count": 273,
   "metadata": {},
   "outputs": [
    {
     "data": {
      "text/plain": [
       "[]"
      ]
     },
     "execution_count": 273,
     "metadata": {},
     "output_type": "execute_result"
    }
   ],
   "source": [
    "# in domain not in pluto:\n",
    "[i for i in landuse_domain if i not in unique_landuse]"
   ]
  },
  {
   "cell_type": "code",
   "execution_count": 274,
   "metadata": {},
   "outputs": [
    {
     "data": {
      "text/plain": [
       "[None, None]"
      ]
     },
     "execution_count": 274,
     "metadata": {},
     "output_type": "execute_result"
    }
   ],
   "source": [
    "# in pluto not in domain:\n",
    "[i for i in unique_landuse if i not in landuse_domain]"
   ]
  },
  {
   "cell_type": "markdown",
   "metadata": {},
   "source": [
    "### Owner type"
   ]
  },
  {
   "cell_type": "code",
   "execution_count": 275,
   "metadata": {},
   "outputs": [],
   "source": [
    "sql = f'''\n",
    "    WITH newcount as (\n",
    "    SELECT ownertype, count(*)\n",
    "    FROM {pluto}\n",
    "    GROUP BY ownertype),\n",
    "    prevcount as (\n",
    "    SELECT ownertype, count(*)\n",
    "    FROM {plutoprev}\n",
    "    GROUP BY ownertype)\n",
    "    SELECT a.ownertype, b.ownertype as ownertypeprev, a.count as countnew, b.count as countprev,  a.count - b.count as diff\n",
    "    FROM newcount a\n",
    "    FULL OUTER JOIN prevcount b\n",
    "    ON a.ownertype = b.ownertype\n",
    "    ORDER BY a.ownertype;\n",
    "'''"
   ]
  },
  {
   "cell_type": "code",
   "execution_count": 276,
   "metadata": {},
   "outputs": [],
   "source": [
    "df = pd.read_sql(sql=sql, con=con)"
   ]
  },
  {
   "cell_type": "code",
   "execution_count": 277,
   "metadata": {},
   "outputs": [
    {
     "data": {
      "text/html": [
       "<div>\n",
       "<style scoped>\n",
       "    .dataframe tbody tr th:only-of-type {\n",
       "        vertical-align: middle;\n",
       "    }\n",
       "\n",
       "    .dataframe tbody tr th {\n",
       "        vertical-align: top;\n",
       "    }\n",
       "\n",
       "    .dataframe thead th {\n",
       "        text-align: right;\n",
       "    }\n",
       "</style>\n",
       "<table border=\"1\" class=\"dataframe\">\n",
       "  <thead>\n",
       "    <tr style=\"text-align: right;\">\n",
       "      <th></th>\n",
       "      <th>ownertype</th>\n",
       "      <th>ownertypeprev</th>\n",
       "      <th>countnew</th>\n",
       "      <th>countprev</th>\n",
       "      <th>diff</th>\n",
       "    </tr>\n",
       "  </thead>\n",
       "  <tbody>\n",
       "    <tr>\n",
       "      <th>0</th>\n",
       "      <td>C</td>\n",
       "      <td>C</td>\n",
       "      <td>11654.0</td>\n",
       "      <td>11654.0</td>\n",
       "      <td>0.0</td>\n",
       "    </tr>\n",
       "    <tr>\n",
       "      <th>1</th>\n",
       "      <td>M</td>\n",
       "      <td>M</td>\n",
       "      <td>80.0</td>\n",
       "      <td>80.0</td>\n",
       "      <td>0.0</td>\n",
       "    </tr>\n",
       "    <tr>\n",
       "      <th>2</th>\n",
       "      <td>O</td>\n",
       "      <td>O</td>\n",
       "      <td>1373.0</td>\n",
       "      <td>1373.0</td>\n",
       "      <td>0.0</td>\n",
       "    </tr>\n",
       "    <tr>\n",
       "      <th>3</th>\n",
       "      <td>P</td>\n",
       "      <td>P</td>\n",
       "      <td>522.0</td>\n",
       "      <td>522.0</td>\n",
       "      <td>0.0</td>\n",
       "    </tr>\n",
       "    <tr>\n",
       "      <th>4</th>\n",
       "      <td>X</td>\n",
       "      <td>X</td>\n",
       "      <td>17414.0</td>\n",
       "      <td>17414.0</td>\n",
       "      <td>0.0</td>\n",
       "    </tr>\n",
       "    <tr>\n",
       "      <th>5</th>\n",
       "      <td>None</td>\n",
       "      <td>None</td>\n",
       "      <td>NaN</td>\n",
       "      <td>828416.0</td>\n",
       "      <td>NaN</td>\n",
       "    </tr>\n",
       "    <tr>\n",
       "      <th>6</th>\n",
       "      <td>None</td>\n",
       "      <td>None</td>\n",
       "      <td>828452.0</td>\n",
       "      <td>NaN</td>\n",
       "      <td>NaN</td>\n",
       "    </tr>\n",
       "  </tbody>\n",
       "</table>\n",
       "</div>"
      ],
      "text/plain": [
       "  ownertype ownertypeprev  countnew  countprev  diff\n",
       "0         C             C   11654.0    11654.0   0.0\n",
       "1         M             M      80.0       80.0   0.0\n",
       "2         O             O    1373.0     1373.0   0.0\n",
       "3         P             P     522.0      522.0   0.0\n",
       "4         X             X   17414.0    17414.0   0.0\n",
       "5      None          None       NaN   828416.0   NaN\n",
       "6      None          None  828452.0        NaN   NaN"
      ]
     },
     "execution_count": 277,
     "metadata": {},
     "output_type": "execute_result"
    }
   ],
   "source": [
    "df"
   ]
  },
  {
   "cell_type": "code",
   "execution_count": 278,
   "metadata": {},
   "outputs": [],
   "source": [
    "#Check ownertype domain\n",
    "unique_ownertype = df.ownertype.tolist()\n",
    "ownertype_domain = list(get_domain('ownertype', 'pluto_domains.json').keys())"
   ]
  },
  {
   "cell_type": "code",
   "execution_count": 279,
   "metadata": {},
   "outputs": [
    {
     "data": {
      "text/plain": [
       "['NaN']"
      ]
     },
     "execution_count": 279,
     "metadata": {},
     "output_type": "execute_result"
    }
   ],
   "source": [
    "# in domain not in pluto:\n",
    "[i for i in ownertype_domain if i not in unique_ownertype]"
   ]
  },
  {
   "cell_type": "code",
   "execution_count": 280,
   "metadata": {},
   "outputs": [
    {
     "data": {
      "text/plain": [
       "[None, None]"
      ]
     },
     "execution_count": 280,
     "metadata": {},
     "output_type": "execute_result"
    }
   ],
   "source": [
    "# in pluto not in domain:\n",
    "[i for i in unique_ownertype if i not in ownertype_domain]"
   ]
  },
  {
   "cell_type": "markdown",
   "metadata": {},
   "source": [
    "### Area source"
   ]
  },
  {
   "cell_type": "code",
   "execution_count": 281,
   "metadata": {},
   "outputs": [],
   "source": [
    "sql = f'''\n",
    "    WITH newcount as (\n",
    "    SELECT areasource, count(*)\n",
    "    FROM {pluto}\n",
    "    GROUP BY areasource),\n",
    "    prevcount as (\n",
    "    SELECT areasource, count(*)\n",
    "    FROM {plutoprev}\n",
    "    GROUP BY areasource)\n",
    "    SELECT a.areasource, b.areasource as areasourceprev, a.count as countnew, b.count as countprev, a.count - b.count as diff\n",
    "    FROM newcount a\n",
    "    FULL OUTER JOIN prevcount b\n",
    "    ON a.areasource = b.areasource\n",
    "    ORDER BY a.areasource;\n",
    "'''"
   ]
  },
  {
   "cell_type": "code",
   "execution_count": 282,
   "metadata": {},
   "outputs": [],
   "source": [
    "df = pd.read_sql(sql=sql, con=con)"
   ]
  },
  {
   "cell_type": "code",
   "execution_count": 283,
   "metadata": {},
   "outputs": [
    {
     "data": {
      "text/html": [
       "<div>\n",
       "<style scoped>\n",
       "    .dataframe tbody tr th:only-of-type {\n",
       "        vertical-align: middle;\n",
       "    }\n",
       "\n",
       "    .dataframe tbody tr th {\n",
       "        vertical-align: top;\n",
       "    }\n",
       "\n",
       "    .dataframe thead th {\n",
       "        text-align: right;\n",
       "    }\n",
       "</style>\n",
       "<table border=\"1\" class=\"dataframe\">\n",
       "  <thead>\n",
       "    <tr style=\"text-align: right;\">\n",
       "      <th></th>\n",
       "      <th>areasource</th>\n",
       "      <th>areasourceprev</th>\n",
       "      <th>countnew</th>\n",
       "      <th>countprev</th>\n",
       "      <th>diff</th>\n",
       "    </tr>\n",
       "  </thead>\n",
       "  <tbody>\n",
       "    <tr>\n",
       "      <th>0</th>\n",
       "      <td>0</td>\n",
       "      <td>0</td>\n",
       "      <td>139.0</td>\n",
       "      <td>136.0</td>\n",
       "      <td>3.0</td>\n",
       "    </tr>\n",
       "    <tr>\n",
       "      <th>1</th>\n",
       "      <td>2</td>\n",
       "      <td>2</td>\n",
       "      <td>813263.0</td>\n",
       "      <td>813263.0</td>\n",
       "      <td>0.0</td>\n",
       "    </tr>\n",
       "    <tr>\n",
       "      <th>2</th>\n",
       "      <td>4</td>\n",
       "      <td>4</td>\n",
       "      <td>179.0</td>\n",
       "      <td>182.0</td>\n",
       "      <td>-3.0</td>\n",
       "    </tr>\n",
       "    <tr>\n",
       "      <th>3</th>\n",
       "      <td>5</td>\n",
       "      <td>5</td>\n",
       "      <td>63.0</td>\n",
       "      <td>63.0</td>\n",
       "      <td>0.0</td>\n",
       "    </tr>\n",
       "    <tr>\n",
       "      <th>4</th>\n",
       "      <td>7</td>\n",
       "      <td>7</td>\n",
       "      <td>45342.0</td>\n",
       "      <td>45342.0</td>\n",
       "      <td>0.0</td>\n",
       "    </tr>\n",
       "    <tr>\n",
       "      <th>5</th>\n",
       "      <td>None</td>\n",
       "      <td>None</td>\n",
       "      <td>509.0</td>\n",
       "      <td>NaN</td>\n",
       "      <td>NaN</td>\n",
       "    </tr>\n",
       "    <tr>\n",
       "      <th>6</th>\n",
       "      <td>None</td>\n",
       "      <td>None</td>\n",
       "      <td>NaN</td>\n",
       "      <td>473.0</td>\n",
       "      <td>NaN</td>\n",
       "    </tr>\n",
       "  </tbody>\n",
       "</table>\n",
       "</div>"
      ],
      "text/plain": [
       "  areasource areasourceprev  countnew  countprev  diff\n",
       "0          0              0     139.0      136.0   3.0\n",
       "1          2              2  813263.0   813263.0   0.0\n",
       "2          4              4     179.0      182.0  -3.0\n",
       "3          5              5      63.0       63.0   0.0\n",
       "4          7              7   45342.0    45342.0   0.0\n",
       "5       None           None     509.0        NaN   NaN\n",
       "6       None           None       NaN      473.0   NaN"
      ]
     },
     "execution_count": 283,
     "metadata": {},
     "output_type": "execute_result"
    }
   ],
   "source": [
    "df"
   ]
  },
  {
   "cell_type": "code",
   "execution_count": 284,
   "metadata": {},
   "outputs": [],
   "source": [
    "#Check areasource domain\n",
    "unique_areasource = df.areasource.tolist()\n",
    "areasource_domain = list(get_domain('areasource', 'pluto_domains.json').keys())"
   ]
  },
  {
   "cell_type": "code",
   "execution_count": 285,
   "metadata": {},
   "outputs": [
    {
     "data": {
      "text/plain": [
       "[]"
      ]
     },
     "execution_count": 285,
     "metadata": {},
     "output_type": "execute_result"
    }
   ],
   "source": [
    "# in domain not in pluto:\n",
    "[i for i in areasource_domain if i not in unique_areasource]"
   ]
  },
  {
   "cell_type": "code",
   "execution_count": 286,
   "metadata": {},
   "outputs": [
    {
     "data": {
      "text/plain": [
       "[None, None]"
      ]
     },
     "execution_count": 286,
     "metadata": {},
     "output_type": "execute_result"
    }
   ],
   "source": [
    "# in pluto not in domain:\n",
    "[i for i in unique_areasource if i not in areasource_domain]"
   ]
  },
  {
   "cell_type": "markdown",
   "metadata": {},
   "source": [
    "### Extension"
   ]
  },
  {
   "cell_type": "code",
   "execution_count": 287,
   "metadata": {},
   "outputs": [],
   "source": [
    "sql = f'''\n",
    "    WITH newcount as (\n",
    "    SELECT ext, count(*)\n",
    "    FROM {pluto}\n",
    "    GROUP BY ext),\n",
    "    prevcount as (\n",
    "    SELECT ext, count(*)\n",
    "    FROM {plutoprev}\n",
    "    GROUP BY ext)\n",
    "    SELECT a.ext, b.ext as extprev, a.count as countnew, b.count as countprev, a.count - b.count as diff\n",
    "    FROM newcount a\n",
    "    FULL OUTER JOIN prevcount b\n",
    "    ON a.ext = b.ext\n",
    "    ORDER BY a.ext;\n",
    "'''"
   ]
  },
  {
   "cell_type": "code",
   "execution_count": 288,
   "metadata": {},
   "outputs": [],
   "source": [
    "df = pd.read_sql(sql=sql, con=con)"
   ]
  },
  {
   "cell_type": "code",
   "execution_count": 289,
   "metadata": {},
   "outputs": [
    {
     "data": {
      "text/html": [
       "<div>\n",
       "<style scoped>\n",
       "    .dataframe tbody tr th:only-of-type {\n",
       "        vertical-align: middle;\n",
       "    }\n",
       "\n",
       "    .dataframe tbody tr th {\n",
       "        vertical-align: top;\n",
       "    }\n",
       "\n",
       "    .dataframe thead th {\n",
       "        text-align: right;\n",
       "    }\n",
       "</style>\n",
       "<table border=\"1\" class=\"dataframe\">\n",
       "  <thead>\n",
       "    <tr style=\"text-align: right;\">\n",
       "      <th></th>\n",
       "      <th>ext</th>\n",
       "      <th>extprev</th>\n",
       "      <th>countnew</th>\n",
       "      <th>countprev</th>\n",
       "      <th>diff</th>\n",
       "    </tr>\n",
       "  </thead>\n",
       "  <tbody>\n",
       "    <tr>\n",
       "      <th>0</th>\n",
       "      <td>E</td>\n",
       "      <td>E</td>\n",
       "      <td>48335.0</td>\n",
       "      <td>48335.0</td>\n",
       "      <td>0.0</td>\n",
       "    </tr>\n",
       "    <tr>\n",
       "      <th>1</th>\n",
       "      <td>EG</td>\n",
       "      <td>EG</td>\n",
       "      <td>36709.0</td>\n",
       "      <td>36709.0</td>\n",
       "      <td>0.0</td>\n",
       "    </tr>\n",
       "    <tr>\n",
       "      <th>2</th>\n",
       "      <td>G</td>\n",
       "      <td>G</td>\n",
       "      <td>264413.0</td>\n",
       "      <td>264413.0</td>\n",
       "      <td>0.0</td>\n",
       "    </tr>\n",
       "    <tr>\n",
       "      <th>3</th>\n",
       "      <td>N</td>\n",
       "      <td>N</td>\n",
       "      <td>451333.0</td>\n",
       "      <td>451333.0</td>\n",
       "      <td>0.0</td>\n",
       "    </tr>\n",
       "    <tr>\n",
       "      <th>4</th>\n",
       "      <td>None</td>\n",
       "      <td>None</td>\n",
       "      <td>58705.0</td>\n",
       "      <td>NaN</td>\n",
       "      <td>NaN</td>\n",
       "    </tr>\n",
       "    <tr>\n",
       "      <th>5</th>\n",
       "      <td>None</td>\n",
       "      <td>None</td>\n",
       "      <td>NaN</td>\n",
       "      <td>58669.0</td>\n",
       "      <td>NaN</td>\n",
       "    </tr>\n",
       "  </tbody>\n",
       "</table>\n",
       "</div>"
      ],
      "text/plain": [
       "    ext extprev  countnew  countprev  diff\n",
       "0     E       E   48335.0    48335.0   0.0\n",
       "1    EG      EG   36709.0    36709.0   0.0\n",
       "2     G       G  264413.0   264413.0   0.0\n",
       "3     N       N  451333.0   451333.0   0.0\n",
       "4  None    None   58705.0        NaN   NaN\n",
       "5  None    None       NaN    58669.0   NaN"
      ]
     },
     "execution_count": 289,
     "metadata": {},
     "output_type": "execute_result"
    }
   ],
   "source": [
    "df"
   ]
  },
  {
   "cell_type": "code",
   "execution_count": 290,
   "metadata": {},
   "outputs": [],
   "source": [
    "#Check extension domain\n",
    "unique_extension = df.ext.tolist()\n",
    "extension_domain = list(get_domain('ext', 'pluto_domains.json').keys())"
   ]
  },
  {
   "cell_type": "code",
   "execution_count": 291,
   "metadata": {},
   "outputs": [
    {
     "data": {
      "text/plain": [
       "[]"
      ]
     },
     "execution_count": 291,
     "metadata": {},
     "output_type": "execute_result"
    }
   ],
   "source": [
    "# in domain not in pluto:\n",
    "[i for i in extension_domain if i not in unique_extension]"
   ]
  },
  {
   "cell_type": "code",
   "execution_count": 292,
   "metadata": {},
   "outputs": [
    {
     "data": {
      "text/plain": [
       "['N', None, None]"
      ]
     },
     "execution_count": 292,
     "metadata": {},
     "output_type": "execute_result"
    }
   ],
   "source": [
    "# in pluto not in domain:\n",
    "[i for i in unique_extension if i not in extension_domain]"
   ]
  },
  {
   "cell_type": "markdown",
   "metadata": {},
   "source": [
    "### Proxy code"
   ]
  },
  {
   "cell_type": "code",
   "execution_count": 293,
   "metadata": {},
   "outputs": [],
   "source": [
    "sql = f'''\n",
    "    WITH newcount as (\n",
    "    SELECT proxcode, count(*)\n",
    "    FROM {pluto}\n",
    "    GROUP BY proxcode),\n",
    "    prevcount as (\n",
    "    SELECT proxcode, count(*)\n",
    "    FROM {plutoprev}\n",
    "    GROUP BY proxcode)\n",
    "    SELECT a.proxcode, b.proxcode as proxcodeprev, a.count as countnew, b.count as countprev, a.count - b.count as diff\n",
    "    FROM newcount a\n",
    "    FULL OUTER JOIN prevcount b\n",
    "    ON a.proxcode = b.proxcode\n",
    "    ORDER BY a.proxcode;\n",
    "'''"
   ]
  },
  {
   "cell_type": "code",
   "execution_count": 294,
   "metadata": {},
   "outputs": [],
   "source": [
    "df = pd.read_sql(sql=sql, con=con)"
   ]
  },
  {
   "cell_type": "code",
   "execution_count": 295,
   "metadata": {},
   "outputs": [
    {
     "data": {
      "text/html": [
       "<div>\n",
       "<style scoped>\n",
       "    .dataframe tbody tr th:only-of-type {\n",
       "        vertical-align: middle;\n",
       "    }\n",
       "\n",
       "    .dataframe tbody tr th {\n",
       "        vertical-align: top;\n",
       "    }\n",
       "\n",
       "    .dataframe thead th {\n",
       "        text-align: right;\n",
       "    }\n",
       "</style>\n",
       "<table border=\"1\" class=\"dataframe\">\n",
       "  <thead>\n",
       "    <tr style=\"text-align: right;\">\n",
       "      <th></th>\n",
       "      <th>proxcode</th>\n",
       "      <th>proxcodeprev</th>\n",
       "      <th>countnew</th>\n",
       "      <th>countprev</th>\n",
       "      <th>diff</th>\n",
       "    </tr>\n",
       "  </thead>\n",
       "  <tbody>\n",
       "    <tr>\n",
       "      <th>0</th>\n",
       "      <td>0</td>\n",
       "      <td>0</td>\n",
       "      <td>144832.0</td>\n",
       "      <td>144832.0</td>\n",
       "      <td>0.0</td>\n",
       "    </tr>\n",
       "    <tr>\n",
       "      <th>1</th>\n",
       "      <td>1</td>\n",
       "      <td>1</td>\n",
       "      <td>313731.0</td>\n",
       "      <td>313731.0</td>\n",
       "      <td>0.0</td>\n",
       "    </tr>\n",
       "    <tr>\n",
       "      <th>2</th>\n",
       "      <td>2</td>\n",
       "      <td>2</td>\n",
       "      <td>199995.0</td>\n",
       "      <td>199995.0</td>\n",
       "      <td>0.0</td>\n",
       "    </tr>\n",
       "    <tr>\n",
       "      <th>3</th>\n",
       "      <td>3</td>\n",
       "      <td>3</td>\n",
       "      <td>200428.0</td>\n",
       "      <td>200428.0</td>\n",
       "      <td>0.0</td>\n",
       "    </tr>\n",
       "    <tr>\n",
       "      <th>4</th>\n",
       "      <td>None</td>\n",
       "      <td>None</td>\n",
       "      <td>509.0</td>\n",
       "      <td>NaN</td>\n",
       "      <td>NaN</td>\n",
       "    </tr>\n",
       "    <tr>\n",
       "      <th>5</th>\n",
       "      <td>None</td>\n",
       "      <td>None</td>\n",
       "      <td>NaN</td>\n",
       "      <td>473.0</td>\n",
       "      <td>NaN</td>\n",
       "    </tr>\n",
       "  </tbody>\n",
       "</table>\n",
       "</div>"
      ],
      "text/plain": [
       "  proxcode proxcodeprev  countnew  countprev  diff\n",
       "0        0            0  144832.0   144832.0   0.0\n",
       "1        1            1  313731.0   313731.0   0.0\n",
       "2        2            2  199995.0   199995.0   0.0\n",
       "3        3            3  200428.0   200428.0   0.0\n",
       "4     None         None     509.0        NaN   NaN\n",
       "5     None         None       NaN      473.0   NaN"
      ]
     },
     "execution_count": 295,
     "metadata": {},
     "output_type": "execute_result"
    }
   ],
   "source": [
    "df"
   ]
  },
  {
   "cell_type": "code",
   "execution_count": 296,
   "metadata": {},
   "outputs": [],
   "source": [
    "#Check proxcode domain\n",
    "unique_proxcode = df.proxcode.tolist()\n",
    "proxcode_domain = list(get_domain('proxcode', 'pluto_domains.json').keys())"
   ]
  },
  {
   "cell_type": "code",
   "execution_count": 297,
   "metadata": {},
   "outputs": [
    {
     "data": {
      "text/plain": [
       "[]"
      ]
     },
     "execution_count": 297,
     "metadata": {},
     "output_type": "execute_result"
    }
   ],
   "source": [
    "# in domain not in pluto:\n",
    "[i for i in proxcode_domain if i not in unique_proxcode]"
   ]
  },
  {
   "cell_type": "code",
   "execution_count": 298,
   "metadata": {},
   "outputs": [
    {
     "data": {
      "text/plain": [
       "[None, None]"
      ]
     },
     "execution_count": 298,
     "metadata": {},
     "output_type": "execute_result"
    }
   ],
   "source": [
    "# in pluto not in domain:\n",
    "[i for i in unique_proxcode if i not in proxcode_domain]"
   ]
  },
  {
   "cell_type": "markdown",
   "metadata": {},
   "source": [
    "### Lot type"
   ]
  },
  {
   "cell_type": "code",
   "execution_count": 299,
   "metadata": {},
   "outputs": [],
   "source": [
    "sql = f'''\n",
    "    WITH newcount as (\n",
    "    SELECT lottype, count(*)\n",
    "    FROM {pluto}\n",
    "    GROUP BY lottype),\n",
    "    prevcount as (\n",
    "    SELECT lottype, count(*)\n",
    "    FROM {plutoprev}\n",
    "    GROUP BY lottype)\n",
    "    SELECT a.lottype, b.lottype as lottypeprev, a.count as countnew, b.count as countprev, a.count - b.count as diff\n",
    "    FROM newcount a\n",
    "    FULL OUTER JOIN prevcount b\n",
    "    ON a.lottype = b.lottype\n",
    "    ORDER BY a.lottype;\n",
    "'''"
   ]
  },
  {
   "cell_type": "code",
   "execution_count": 300,
   "metadata": {},
   "outputs": [],
   "source": [
    "df = pd.read_sql(sql=sql, con=con)"
   ]
  },
  {
   "cell_type": "code",
   "execution_count": 301,
   "metadata": {},
   "outputs": [
    {
     "data": {
      "text/html": [
       "<div>\n",
       "<style scoped>\n",
       "    .dataframe tbody tr th:only-of-type {\n",
       "        vertical-align: middle;\n",
       "    }\n",
       "\n",
       "    .dataframe tbody tr th {\n",
       "        vertical-align: top;\n",
       "    }\n",
       "\n",
       "    .dataframe thead th {\n",
       "        text-align: right;\n",
       "    }\n",
       "</style>\n",
       "<table border=\"1\" class=\"dataframe\">\n",
       "  <thead>\n",
       "    <tr style=\"text-align: right;\">\n",
       "      <th></th>\n",
       "      <th>lottype</th>\n",
       "      <th>lottypeprev</th>\n",
       "      <th>countnew</th>\n",
       "      <th>countprev</th>\n",
       "      <th>diff</th>\n",
       "    </tr>\n",
       "  </thead>\n",
       "  <tbody>\n",
       "    <tr>\n",
       "      <th>0</th>\n",
       "      <td>0</td>\n",
       "      <td>0</td>\n",
       "      <td>8534.0</td>\n",
       "      <td>8534.0</td>\n",
       "      <td>0.0</td>\n",
       "    </tr>\n",
       "    <tr>\n",
       "      <th>1</th>\n",
       "      <td>1</td>\n",
       "      <td>1</td>\n",
       "      <td>1454.0</td>\n",
       "      <td>1456.0</td>\n",
       "      <td>-2.0</td>\n",
       "    </tr>\n",
       "    <tr>\n",
       "      <th>2</th>\n",
       "      <td>2</td>\n",
       "      <td>2</td>\n",
       "      <td>1823.0</td>\n",
       "      <td>1827.0</td>\n",
       "      <td>-4.0</td>\n",
       "    </tr>\n",
       "    <tr>\n",
       "      <th>3</th>\n",
       "      <td>3</td>\n",
       "      <td>3</td>\n",
       "      <td>100674.0</td>\n",
       "      <td>100674.0</td>\n",
       "      <td>0.0</td>\n",
       "    </tr>\n",
       "    <tr>\n",
       "      <th>4</th>\n",
       "      <td>4</td>\n",
       "      <td>4</td>\n",
       "      <td>3443.0</td>\n",
       "      <td>3438.0</td>\n",
       "      <td>5.0</td>\n",
       "    </tr>\n",
       "    <tr>\n",
       "      <th>5</th>\n",
       "      <td>5</td>\n",
       "      <td>5</td>\n",
       "      <td>738045.0</td>\n",
       "      <td>738045.0</td>\n",
       "      <td>0.0</td>\n",
       "    </tr>\n",
       "    <tr>\n",
       "      <th>6</th>\n",
       "      <td>6</td>\n",
       "      <td>6</td>\n",
       "      <td>2228.0</td>\n",
       "      <td>2228.0</td>\n",
       "      <td>0.0</td>\n",
       "    </tr>\n",
       "    <tr>\n",
       "      <th>7</th>\n",
       "      <td>7</td>\n",
       "      <td>7</td>\n",
       "      <td>64.0</td>\n",
       "      <td>64.0</td>\n",
       "      <td>0.0</td>\n",
       "    </tr>\n",
       "    <tr>\n",
       "      <th>8</th>\n",
       "      <td>8</td>\n",
       "      <td>8</td>\n",
       "      <td>2531.0</td>\n",
       "      <td>2530.0</td>\n",
       "      <td>1.0</td>\n",
       "    </tr>\n",
       "    <tr>\n",
       "      <th>9</th>\n",
       "      <td>9</td>\n",
       "      <td>9</td>\n",
       "      <td>190.0</td>\n",
       "      <td>190.0</td>\n",
       "      <td>0.0</td>\n",
       "    </tr>\n",
       "    <tr>\n",
       "      <th>10</th>\n",
       "      <td>None</td>\n",
       "      <td>None</td>\n",
       "      <td>509.0</td>\n",
       "      <td>NaN</td>\n",
       "      <td>NaN</td>\n",
       "    </tr>\n",
       "    <tr>\n",
       "      <th>11</th>\n",
       "      <td>None</td>\n",
       "      <td>None</td>\n",
       "      <td>NaN</td>\n",
       "      <td>473.0</td>\n",
       "      <td>NaN</td>\n",
       "    </tr>\n",
       "  </tbody>\n",
       "</table>\n",
       "</div>"
      ],
      "text/plain": [
       "   lottype lottypeprev  countnew  countprev  diff\n",
       "0        0           0    8534.0     8534.0   0.0\n",
       "1        1           1    1454.0     1456.0  -2.0\n",
       "2        2           2    1823.0     1827.0  -4.0\n",
       "3        3           3  100674.0   100674.0   0.0\n",
       "4        4           4    3443.0     3438.0   5.0\n",
       "5        5           5  738045.0   738045.0   0.0\n",
       "6        6           6    2228.0     2228.0   0.0\n",
       "7        7           7      64.0       64.0   0.0\n",
       "8        8           8    2531.0     2530.0   1.0\n",
       "9        9           9     190.0      190.0   0.0\n",
       "10    None        None     509.0        NaN   NaN\n",
       "11    None        None       NaN      473.0   NaN"
      ]
     },
     "execution_count": 301,
     "metadata": {},
     "output_type": "execute_result"
    }
   ],
   "source": [
    "df"
   ]
  },
  {
   "cell_type": "code",
   "execution_count": 302,
   "metadata": {},
   "outputs": [],
   "source": [
    "#Check lottype domain\n",
    "unique_lottype = df.lottype.tolist()\n",
    "lottype_domain = list(get_domain('lottype', 'pluto_domains.json').keys())"
   ]
  },
  {
   "cell_type": "code",
   "execution_count": 303,
   "metadata": {},
   "outputs": [
    {
     "data": {
      "text/plain": [
       "[]"
      ]
     },
     "execution_count": 303,
     "metadata": {},
     "output_type": "execute_result"
    }
   ],
   "source": [
    "# in domain not in pluto:\n",
    "[i for i in lottype_domain if i not in unique_lottype]"
   ]
  },
  {
   "cell_type": "code",
   "execution_count": 304,
   "metadata": {},
   "outputs": [
    {
     "data": {
      "text/plain": [
       "[None, None]"
      ]
     },
     "execution_count": 304,
     "metadata": {},
     "output_type": "execute_result"
    }
   ],
   "source": [
    "# in pluto not in domain:\n",
    "[i for i in unique_lottype if i not in lottype_domain]"
   ]
  },
  {
   "cell_type": "markdown",
   "metadata": {},
   "source": [
    "### Basement code"
   ]
  },
  {
   "cell_type": "code",
   "execution_count": 305,
   "metadata": {},
   "outputs": [],
   "source": [
    "sql = f'''\n",
    "    WITH newcount as (\n",
    "    SELECT bsmtcode, count(*)\n",
    "    FROM {pluto}\n",
    "    GROUP BY bsmtcode),\n",
    "    prevcount as (\n",
    "    SELECT bsmtcode, count(*)\n",
    "    FROM {plutoprev}\n",
    "    GROUP BY bsmtcode)\n",
    "    SELECT a.bsmtcode, b.bsmtcode as bsmtcodeprev, a.count as countnew, b.count as countprev, a.count - b.count as diff\n",
    "    FROM newcount a\n",
    "    FULL OUTER JOIN prevcount b\n",
    "    ON a.bsmtcode = b.bsmtcode\n",
    "    ORDER BY a.bsmtcode;\n",
    "'''"
   ]
  },
  {
   "cell_type": "code",
   "execution_count": 306,
   "metadata": {},
   "outputs": [],
   "source": [
    "df = pd.read_sql(sql=sql, con=con)"
   ]
  },
  {
   "cell_type": "code",
   "execution_count": 307,
   "metadata": {},
   "outputs": [
    {
     "data": {
      "text/html": [
       "<div>\n",
       "<style scoped>\n",
       "    .dataframe tbody tr th:only-of-type {\n",
       "        vertical-align: middle;\n",
       "    }\n",
       "\n",
       "    .dataframe tbody tr th {\n",
       "        vertical-align: top;\n",
       "    }\n",
       "\n",
       "    .dataframe thead th {\n",
       "        text-align: right;\n",
       "    }\n",
       "</style>\n",
       "<table border=\"1\" class=\"dataframe\">\n",
       "  <thead>\n",
       "    <tr style=\"text-align: right;\">\n",
       "      <th></th>\n",
       "      <th>bsmtcode</th>\n",
       "      <th>bsmtcodeprev</th>\n",
       "      <th>countnew</th>\n",
       "      <th>countprev</th>\n",
       "      <th>diff</th>\n",
       "    </tr>\n",
       "  </thead>\n",
       "  <tbody>\n",
       "    <tr>\n",
       "      <th>0</th>\n",
       "      <td>0</td>\n",
       "      <td>0</td>\n",
       "      <td>74507.0</td>\n",
       "      <td>74508.0</td>\n",
       "      <td>-1.0</td>\n",
       "    </tr>\n",
       "    <tr>\n",
       "      <th>1</th>\n",
       "      <td>1</td>\n",
       "      <td>1</td>\n",
       "      <td>153674.0</td>\n",
       "      <td>153697.0</td>\n",
       "      <td>-23.0</td>\n",
       "    </tr>\n",
       "    <tr>\n",
       "      <th>2</th>\n",
       "      <td>2</td>\n",
       "      <td>2</td>\n",
       "      <td>495893.0</td>\n",
       "      <td>495979.0</td>\n",
       "      <td>-86.0</td>\n",
       "    </tr>\n",
       "    <tr>\n",
       "      <th>3</th>\n",
       "      <td>3</td>\n",
       "      <td>3</td>\n",
       "      <td>1499.0</td>\n",
       "      <td>1498.0</td>\n",
       "      <td>1.0</td>\n",
       "    </tr>\n",
       "    <tr>\n",
       "      <th>4</th>\n",
       "      <td>4</td>\n",
       "      <td>4</td>\n",
       "      <td>4704.0</td>\n",
       "      <td>4705.0</td>\n",
       "      <td>-1.0</td>\n",
       "    </tr>\n",
       "    <tr>\n",
       "      <th>5</th>\n",
       "      <td>5</td>\n",
       "      <td>5</td>\n",
       "      <td>128709.0</td>\n",
       "      <td>128599.0</td>\n",
       "      <td>110.0</td>\n",
       "    </tr>\n",
       "    <tr>\n",
       "      <th>6</th>\n",
       "      <td>None</td>\n",
       "      <td>None</td>\n",
       "      <td>509.0</td>\n",
       "      <td>NaN</td>\n",
       "      <td>NaN</td>\n",
       "    </tr>\n",
       "    <tr>\n",
       "      <th>7</th>\n",
       "      <td>None</td>\n",
       "      <td>None</td>\n",
       "      <td>NaN</td>\n",
       "      <td>473.0</td>\n",
       "      <td>NaN</td>\n",
       "    </tr>\n",
       "  </tbody>\n",
       "</table>\n",
       "</div>"
      ],
      "text/plain": [
       "  bsmtcode bsmtcodeprev  countnew  countprev   diff\n",
       "0        0            0   74507.0    74508.0   -1.0\n",
       "1        1            1  153674.0   153697.0  -23.0\n",
       "2        2            2  495893.0   495979.0  -86.0\n",
       "3        3            3    1499.0     1498.0    1.0\n",
       "4        4            4    4704.0     4705.0   -1.0\n",
       "5        5            5  128709.0   128599.0  110.0\n",
       "6     None         None     509.0        NaN    NaN\n",
       "7     None         None       NaN      473.0    NaN"
      ]
     },
     "execution_count": 307,
     "metadata": {},
     "output_type": "execute_result"
    }
   ],
   "source": [
    "df"
   ]
  },
  {
   "cell_type": "code",
   "execution_count": 308,
   "metadata": {},
   "outputs": [],
   "source": [
    "#Check bsmtcode domain\n",
    "unique_bsmtcode = df.bsmtcode.tolist()\n",
    "bsmtcode_domain = list(get_domain('bsmtcode', 'pluto_domains.json').keys())"
   ]
  },
  {
   "cell_type": "code",
   "execution_count": 309,
   "metadata": {},
   "outputs": [
    {
     "data": {
      "text/plain": [
       "[]"
      ]
     },
     "execution_count": 309,
     "metadata": {},
     "output_type": "execute_result"
    }
   ],
   "source": [
    "# in domain not in pluto:\n",
    "[i for i in bsmtcode_domain if i not in unique_bsmtcode]"
   ]
  },
  {
   "cell_type": "code",
   "execution_count": 310,
   "metadata": {},
   "outputs": [
    {
     "data": {
      "text/plain": [
       "[None, None]"
      ]
     },
     "execution_count": 310,
     "metadata": {},
     "output_type": "execute_result"
    }
   ],
   "source": [
    "# in pluto not in domain:\n",
    "[i for i in unique_bsmtcode if i not in bsmtcode_domain]"
   ]
  },
  {
   "cell_type": "markdown",
   "metadata": {},
   "source": [
    "### PLUTO map id"
   ]
  },
  {
   "cell_type": "code",
   "execution_count": 311,
   "metadata": {},
   "outputs": [],
   "source": [
    "sql = f'''\n",
    "    WITH newcount as (\n",
    "    SELECT plutomapid, count(*)\n",
    "    FROM {pluto}\n",
    "    GROUP BY plutomapid),\n",
    "    prevcount as (\n",
    "    SELECT plutomapid, count(*)\n",
    "    FROM {plutoprev}\n",
    "    GROUP BY plutomapid)\n",
    "    SELECT a.plutomapid, b.plutomapid as plutomapidprev, a.count as countnew, b.count as countprev, a.count - b.count as diff\n",
    "    FROM newcount a\n",
    "    FULL OUTER JOIN prevcount b\n",
    "    ON a.plutomapid = b.plutomapid\n",
    "    ORDER BY a.plutomapid;\n",
    "'''"
   ]
  },
  {
   "cell_type": "code",
   "execution_count": 312,
   "metadata": {},
   "outputs": [],
   "source": [
    "df = pd.read_sql(sql=sql, con=con)"
   ]
  },
  {
   "cell_type": "code",
   "execution_count": 313,
   "metadata": {},
   "outputs": [
    {
     "data": {
      "text/html": [
       "<div>\n",
       "<style scoped>\n",
       "    .dataframe tbody tr th:only-of-type {\n",
       "        vertical-align: middle;\n",
       "    }\n",
       "\n",
       "    .dataframe tbody tr th {\n",
       "        vertical-align: top;\n",
       "    }\n",
       "\n",
       "    .dataframe thead th {\n",
       "        text-align: right;\n",
       "    }\n",
       "</style>\n",
       "<table border=\"1\" class=\"dataframe\">\n",
       "  <thead>\n",
       "    <tr style=\"text-align: right;\">\n",
       "      <th></th>\n",
       "      <th>plutomapid</th>\n",
       "      <th>plutomapidprev</th>\n",
       "      <th>countnew</th>\n",
       "      <th>countprev</th>\n",
       "      <th>diff</th>\n",
       "    </tr>\n",
       "  </thead>\n",
       "  <tbody>\n",
       "    <tr>\n",
       "      <th>0</th>\n",
       "      <td>1</td>\n",
       "      <td>1</td>\n",
       "      <td>856793</td>\n",
       "      <td>856861</td>\n",
       "      <td>-68</td>\n",
       "    </tr>\n",
       "    <tr>\n",
       "      <th>1</th>\n",
       "      <td>2</td>\n",
       "      <td>2</td>\n",
       "      <td>1983</td>\n",
       "      <td>1915</td>\n",
       "      <td>68</td>\n",
       "    </tr>\n",
       "    <tr>\n",
       "      <th>2</th>\n",
       "      <td>3</td>\n",
       "      <td>3</td>\n",
       "      <td>505</td>\n",
       "      <td>469</td>\n",
       "      <td>36</td>\n",
       "    </tr>\n",
       "    <tr>\n",
       "      <th>3</th>\n",
       "      <td>4</td>\n",
       "      <td>4</td>\n",
       "      <td>210</td>\n",
       "      <td>210</td>\n",
       "      <td>0</td>\n",
       "    </tr>\n",
       "    <tr>\n",
       "      <th>4</th>\n",
       "      <td>5</td>\n",
       "      <td>5</td>\n",
       "      <td>4</td>\n",
       "      <td>4</td>\n",
       "      <td>0</td>\n",
       "    </tr>\n",
       "  </tbody>\n",
       "</table>\n",
       "</div>"
      ],
      "text/plain": [
       "  plutomapid plutomapidprev  countnew  countprev  diff\n",
       "0          1              1    856793     856861   -68\n",
       "1          2              2      1983       1915    68\n",
       "2          3              3       505        469    36\n",
       "3          4              4       210        210     0\n",
       "4          5              5         4          4     0"
      ]
     },
     "execution_count": 313,
     "metadata": {},
     "output_type": "execute_result"
    }
   ],
   "source": [
    "df"
   ]
  },
  {
   "cell_type": "code",
   "execution_count": 314,
   "metadata": {},
   "outputs": [],
   "source": [
    "#Check plutomapid domain\n",
    "unique_plutomapid = df.plutomapid.tolist()\n",
    "plutomapid_domain = list(get_domain('plutomapid', 'pluto_domains.json').keys())"
   ]
  },
  {
   "cell_type": "code",
   "execution_count": 315,
   "metadata": {},
   "outputs": [
    {
     "data": {
      "text/plain": [
       "[]"
      ]
     },
     "execution_count": 315,
     "metadata": {},
     "output_type": "execute_result"
    }
   ],
   "source": [
    "# in domain not in pluto:\n",
    "[i for i in plutomapid_domain if i not in unique_plutomapid]"
   ]
  },
  {
   "cell_type": "code",
   "execution_count": 316,
   "metadata": {},
   "outputs": [
    {
     "data": {
      "text/plain": [
       "[]"
      ]
     },
     "execution_count": 316,
     "metadata": {},
     "output_type": "execute_result"
    }
   ],
   "source": [
    "# in pluto not in domain:\n",
    "[i for i in unique_plutomapid if i not in plutomapid_domain]"
   ]
  },
  {
   "cell_type": "markdown",
   "metadata": {},
   "source": [
    "#### done"
   ]
  }
 ],
 "metadata": {
  "kernelspec": {
   "display_name": "Python 3",
   "language": "python",
   "name": "python3"
  },
  "language_info": {
   "codemirror_mode": {
    "name": "ipython",
    "version": 3
   },
   "file_extension": ".py",
   "mimetype": "text/x-python",
   "name": "python",
   "nbconvert_exporter": "python",
   "pygments_lexer": "ipython3",
   "version": "3.7.3"
  }
 },
 "nbformat": 4,
 "nbformat_minor": 4
}
