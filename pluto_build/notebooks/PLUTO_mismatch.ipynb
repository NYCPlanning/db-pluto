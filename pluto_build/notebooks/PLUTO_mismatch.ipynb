{
 "cells": [
  {
   "cell_type": "code",
   "execution_count": 17,
   "metadata": {},
   "outputs": [],
   "source": [
    "# Import utils\n",
    "import sys\n",
    "import os\n",
    "sys.path.append(os.path.dirname(os.path.realpath('__file__'))+'/utils')\n",
    "from versions import version_0, version_1, version_2\n",
    "from engine import con\n",
    "from mismatch import mismatch_sql, finance_columns,\\\n",
    "                    area_columns, zoning_columns,\\\n",
    "                    geo_columns, bldg_columns,\\\n",
    "                    other_columns, create_plot, create_df_pct\n",
    "# Import packages\n",
    "import pandas as pd\n",
    "import matplotlib.pyplot as plt\n",
    "import numpy as np\n",
    "\n",
    "pd.set_option('display.max_rows', 200)\n",
    "pd.set_option('display.max_columns', 200)"
   ]
  },
  {
   "cell_type": "code",
   "execution_count": 18,
   "metadata": {},
   "outputs": [
    {
     "name": "stdout",
     "output_type": "stream",
     "text": [
      "\n",
      "(0) current version: dcp_pluto.\"20v1\"\n",
      "(1) previous version: dcp_pluto.\"19v2\"\n",
      "(2) previous before previous version: dcp_pluto.\"19v1\"\n",
      "\n"
     ]
    }
   ],
   "source": [
    "print(f'''\n",
    "(0) current version: {version_0}\n",
    "(1) previous version: {version_1}\n",
    "(2) previous before previous version: {version_2}\n",
    "''')"
   ]
  },
  {
   "cell_type": "markdown",
   "metadata": {},
   "source": [
    "## All records comparison"
   ]
  },
  {
   "cell_type": "code",
   "execution_count": null,
   "metadata": {},
   "outputs": [],
   "source": [
    "condition = ''\n",
    "df0 = create_df_pct(mismatch_sql, version_0, version_1, condition, con)\n",
    "df1 = create_df_pct(mismatch_sql, version_1, version_2, condition, con)"
   ]
  },
  {
   "cell_type": "markdown",
   "metadata": {},
   "source": [
    "### Notes:\n",
    "The address mismatch is expected, it's correcting previous address picking logic for condos"
   ]
  },
  {
   "cell_type": "code",
   "execution_count": null,
   "metadata": {},
   "outputs": [],
   "source": [
    "create_plot(df0, df1, geo_columns, f'Geospatial Columns Mismatches')"
   ]
  },
  {
   "cell_type": "code",
   "execution_count": null,
   "metadata": {},
   "outputs": [],
   "source": [
    "create_plot(df0, df1, zoning_columns,  f'Zoning Columns Mismatches')"
   ]
  },
  {
   "cell_type": "code",
   "execution_count": null,
   "metadata": {},
   "outputs": [],
   "source": [
    "create_plot(df0, df1, area_columns,  f'Area Columns Mismatches')"
   ]
  },
  {
   "cell_type": "code",
   "execution_count": null,
   "metadata": {},
   "outputs": [],
   "source": [
    "create_plot(df0, df1, bldg_columns,  f'Building Columns Mismatches')"
   ]
  },
  {
   "cell_type": "code",
   "execution_count": null,
   "metadata": {},
   "outputs": [],
   "source": [
    "create_plot(df0, df1, finance_columns,  f'Finance Columns Mismatches')"
   ]
  },
  {
   "cell_type": "code",
   "execution_count": null,
   "metadata": {},
   "outputs": [],
   "source": [
    "create_plot(df0, df1, other_columns,  f'Other Columns Mismatches')"
   ]
  },
  {
   "cell_type": "markdown",
   "metadata": {},
   "source": [
    "# Condo"
   ]
  },
  {
   "cell_type": "code",
   "execution_count": null,
   "metadata": {},
   "outputs": [],
   "source": [
    "condition_condo = \"WHERE right(bbl, 4) LIKE '75%%'\"\n",
    "df0 = create_df_pct(mismatch_sql, version_0, version_1, condition_condo, con)\n",
    "df1 = create_df_pct(mismatch_sql, version_1, version_2, condition_condo, con)"
   ]
  },
  {
   "cell_type": "code",
   "execution_count": null,
   "metadata": {},
   "outputs": [],
   "source": [
    "create_plot(df0, df1, geo_columns, f'Geospatial Columns Mismatches - Condo')"
   ]
  },
  {
   "cell_type": "code",
   "execution_count": null,
   "metadata": {},
   "outputs": [],
   "source": [
    "create_plot(df0, df1, zoning_columns,  f'Zoning Columns Mismatches - Condo')"
   ]
  },
  {
   "cell_type": "code",
   "execution_count": null,
   "metadata": {},
   "outputs": [],
   "source": [
    "create_plot(df0, df1, area_columns,  f'Area Columns Mismatches - Condo')"
   ]
  },
  {
   "cell_type": "code",
   "execution_count": null,
   "metadata": {},
   "outputs": [],
   "source": [
    "create_plot(df0, df1, bldg_columns,  f'Building Columns Mismatches - Condo')"
   ]
  },
  {
   "cell_type": "code",
   "execution_count": null,
   "metadata": {},
   "outputs": [],
   "source": [
    "create_plot(df0, df1, finance_columns,  f'Finance Columns Mismatches - Condo')"
   ]
  },
  {
   "cell_type": "code",
   "execution_count": null,
   "metadata": {},
   "outputs": [],
   "source": [
    "create_plot(df0, df1, other_columns,  f'Other Columns Mismatches - Condo')"
   ]
  }
 ],
 "metadata": {
  "kernelspec": {
   "display_name": "Python 3",
   "language": "python",
   "name": "python3"
  },
  "language_info": {
   "codemirror_mode": {
    "name": "ipython",
    "version": 3
   },
   "file_extension": ".py",
   "mimetype": "text/x-python",
   "name": "python",
   "nbconvert_exporter": "python",
   "pygments_lexer": "ipython3",
   "version": "3.7.3"
  }
 },
 "nbformat": 4,
 "nbformat_minor": 4
}
